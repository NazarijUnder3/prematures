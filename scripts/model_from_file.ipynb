{
 "cells": [
  {
   "cell_type": "code",
   "execution_count": 1,
   "id": "e4c747a1-0182-4914-9b36-0c140972effb",
   "metadata": {
    "tags": []
   },
   "outputs": [
    {
     "name": "stderr",
     "output_type": "stream",
     "text": [
      "Warning message:\n",
      "\"пакет 'dplyr' был собран под R версии 4.2.3\"\n",
      "\n",
      "Присоединяю пакет: 'dplyr'\n",
      "\n",
      "\n",
      "Следующие объекты скрыты от 'package:stats':\n",
      "\n",
      "    filter, lag\n",
      "\n",
      "\n",
      "Следующие объекты скрыты от 'package:base':\n",
      "\n",
      "    intersect, setdiff, setequal, union\n",
      "\n",
      "\n",
      "Warning message:\n",
      "\"пакет 'yardstick' был собран под R версии 4.2.3\"\n"
     ]
    }
   ],
   "source": [
    "require(dplyr, quietly=TRUE);\n",
    "require(yardstick, quietly=TRUE);"
   ]
  },
  {
   "cell_type": "code",
   "execution_count": 2,
   "id": "fea68aaf-5f29-4794-a82e-0dcddef55975",
   "metadata": {
    "tags": []
   },
   "outputs": [],
   "source": [
    "predict_model = readRDS('G:/GIT/prematures/scripts/model_final.model')"
   ]
  },
  {
   "cell_type": "code",
   "execution_count": 3,
   "id": "404c248c-2406-4f05-8058-bece768c0dbf",
   "metadata": {
    "tags": []
   },
   "outputs": [
    {
     "data": {
      "text/html": [
       "<table class=\"dataframe\">\n",
       "<caption>A data.frame: 1 × 12</caption>\n",
       "<thead>\n",
       "\t<tr><th scope=col>Гестация</th><th scope=col>Асфиксия</th><th scope=col>ИВЛ1</th><th scope=col>АСН7</th><th scope=col>ВУИ.сепсис</th><th scope=col>СЭИ</th><th scope=col>ДН.степень</th><th scope=col>ПВК.степень</th><th scope=col>ЭФПН</th><th scope=col>БВ</th><th scope=col>Абилитация</th><th scope=col>Рефлексы</th></tr>\n",
       "\t<tr><th scope=col>&lt;chr&gt;</th><th scope=col>&lt;chr&gt;</th><th scope=col>&lt;chr&gt;</th><th scope=col>&lt;chr&gt;</th><th scope=col>&lt;chr&gt;</th><th scope=col>&lt;chr&gt;</th><th scope=col>&lt;chr&gt;</th><th scope=col>&lt;chr&gt;</th><th scope=col>&lt;chr&gt;</th><th scope=col>&lt;chr&gt;</th><th scope=col>&lt;chr&gt;</th><th scope=col>&lt;chr&gt;</th></tr>\n",
       "</thead>\n",
       "<tbody>\n",
       "\t<tr><td>(31; 33]</td><td>нет</td><td>нет</td><td>нет</td><td>ВУИ, сепсис, НЭК</td><td>нет</td><td>1</td><td>1</td><td>нет</td><td>СПП</td><td>нет</td><td>повышеные</td></tr>\n",
       "</tbody>\n",
       "</table>\n"
      ],
      "text/latex": [
       "A data.frame: 1 × 12\n",
       "\\begin{tabular}{llllllllllll}\n",
       " Гестация & Асфиксия & ИВЛ1 & АСН7 & ВУИ.сепсис & СЭИ & ДН.степень & ПВК.степень & ЭФПН & БВ & Абилитация & Рефлексы\\\\\n",
       " <chr> & <chr> & <chr> & <chr> & <chr> & <chr> & <chr> & <chr> & <chr> & <chr> & <chr> & <chr>\\\\\n",
       "\\hline\n",
       "\t (31; 33{]} & нет & нет & нет & ВУИ, сепсис, НЭК & нет & 1 & 1 & нет & СПП & нет & повышеные\\\\\n",
       "\\end{tabular}\n"
      ],
      "text/markdown": [
       "\n",
       "A data.frame: 1 × 12\n",
       "\n",
       "| Гестация &lt;chr&gt; | Асфиксия &lt;chr&gt; | ИВЛ1 &lt;chr&gt; | АСН7 &lt;chr&gt; | ВУИ.сепсис &lt;chr&gt; | СЭИ &lt;chr&gt; | ДН.степень &lt;chr&gt; | ПВК.степень &lt;chr&gt; | ЭФПН &lt;chr&gt; | БВ &lt;chr&gt; | Абилитация &lt;chr&gt; | Рефлексы &lt;chr&gt; |\n",
       "|---|---|---|---|---|---|---|---|---|---|---|---|\n",
       "| (31; 33] | нет | нет | нет | ВУИ, сепсис, НЭК | нет | 1 | 1 | нет | СПП | нет | повышеные |\n",
       "\n"
      ],
      "text/plain": [
       "  Гестация Асфиксия ИВЛ1 АСН7 ВУИ.сепсис       СЭИ ДН.степень ПВК.степень ЭФПН\n",
       "1 (31; 33] нет      нет  нет  ВУИ, сепсис, НЭК нет 1          1           нет \n",
       "  БВ  Абилитация Рефлексы \n",
       "1 СПП нет        повышеные"
      ]
     },
     "metadata": {},
     "output_type": "display_data"
    }
   ],
   "source": [
    "test = data.frame('Гестация' = '(31; 33]', 'Асфиксия' = 'нет', 'ИВЛ1' = 'нет', 'АСН7' = 'нет', 'ВУИ.сепсис' = 'ВУИ, сепсис, НЭК', 'СЭИ' = 'нет'\n",
    "                  , 'ДН.степень' = '1', 'ПВК.степень' = '1', 'ЭФПН' = 'нет', 'БВ' = 'СПП', 'Абилитация' = 'нет', 'Рефлексы' = 'повышеные')\n",
    "test"
   ]
  },
  {
   "cell_type": "code",
   "execution_count": 4,
   "id": "002d333f-6259-4d28-bd2b-e42b445fc1d7",
   "metadata": {},
   "outputs": [
    {
     "data": {
      "text/plain": [
       "NULL"
      ]
     },
     "metadata": {},
     "output_type": "display_data"
    }
   ],
   "source": [
    "levels(\"ИВЛ1\")"
   ]
  },
  {
   "cell_type": "code",
   "execution_count": 5,
   "id": "8b829b3c-3739-44c2-9736-30d91c86bef5",
   "metadata": {
    "tags": []
   },
   "outputs": [
    {
     "ename": "ERROR",
     "evalue": "Error in model.frame.default(mod_terms, new_data, na.action = na.action, : у фактора ВУИ.сепсис есть новый уровень ВУИ, сепсис, НЭК\n",
     "output_type": "error",
     "traceback": [
      "Error in model.frame.default(mod_terms, new_data, na.action = na.action, : у фактора ВУИ.сепсис есть новый уровень ВУИ, сепсис, НЭК\nTraceback:\n",
      "1. predict(predict_model, new_data = test, type = \"class\")",
      "2. predict._lognet(predict_model, new_data = test, type = \"class\")",
      "3. predict.model_fit(object, new_data = new_data, type = type, opts = opts, \n .     ...)",
      "4. predict_class(object = object, new_data = new_data, ...)",
      "5. predict_class._lognet(object = object, new_data = new_data, ...)",
      "6. predict_class.model_fit(object, new_data = new_data, ...)",
      "7. prepare_data(object, new_data)",
      "8. .convert_form_to_xy_new(object$preproc, new_data)",
      "9. model.frame(mod_terms, new_data, na.action = na.action, xlev = object$xlevels)",
      "10. model.frame.default(mod_terms, new_data, na.action = na.action, \n  .     xlev = object$xlevels)",
      "11. stop(sprintf(ngettext(length(m), \"factor %s has new level %s\", \n  .     \"factor %s has new levels %s\"), nm, paste(nxl[m], collapse = \", \")), \n  .     domain = NA)"
     ]
    }
   ],
   "source": [
    "# Class Predictions\n",
    "pred_class = predict(predict_model,\n",
    "                      new_data = test,\n",
    "                      type = \"class\")\n",
    "# Class Probabilities\n",
    "pred_proba = predict(predict_model,\n",
    "                      new_data = test,\n",
    "                      type = \"prob\")\n",
    "\n",
    "results =  bind_cols(pred_class, pred_proba)\n",
    "#accuracy(results, truth = Нарушения, estimate = .pred_class)\n",
    "pred_proba\n",
    "results"
   ]
  }
 ],
 "metadata": {
  "kernelspec": {
   "display_name": "R",
   "language": "R",
   "name": "ir"
  },
  "language_info": {
   "codemirror_mode": "r",
   "file_extension": ".r",
   "mimetype": "text/x-r-source",
   "name": "R",
   "pygments_lexer": "r",
   "version": "4.2.2"
  }
 },
 "nbformat": 4,
 "nbformat_minor": 5
}
