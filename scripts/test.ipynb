{
 "cells": [
  {
   "cell_type": "markdown",
   "id": "3dee9f57-7c8c-4ada-83ef-3fed600ff780",
   "metadata": {
    "tags": []
   },
   "source": [
    "# level 1"
   ]
  },
  {
   "cell_type": "markdown",
   "id": "9dba68bc-322b-4f86-a783-156d25859450",
   "metadata": {},
   "source": [
    "load libraries"
   ]
  },
  {
   "cell_type": "code",
   "execution_count": 1,
   "id": "f3524e9a-b89b-4c34-b72d-da14a349f7ba",
   "metadata": {
    "tags": []
   },
   "outputs": [
    {
     "name": "stderr",
     "output_type": "stream",
     "text": [
      "Загрузка требуемого пакета: DBI\n",
      "\n",
      "Warning message:\n",
      "\"пакет 'DBI' был собран под R версии 4.2.3\"\n",
      "Загрузка требуемого пакета: RPostgreSQL\n",
      "\n",
      "Warning message:\n",
      "\"пакет 'RPostgreSQL' был собран под R версии 4.2.3\"\n"
     ]
    }
   ],
   "source": [
    "if (!require(DBI)) {\n",
    "    install.packages(\"DBI\")\n",
    "    }\n",
    "if (!require(RPostgreSQL)) {\n",
    "    install.packages(\"RPostgreSQL\")\n",
    "    }"
   ]
  },
  {
   "cell_type": "code",
   "execution_count": 2,
   "id": "f7ba7a32-440c-41ce-8261-f55dc8c14cc0",
   "metadata": {},
   "outputs": [],
   "source": [
    "library(DBI)\n",
    "library(RPostgreSQL)"
   ]
  },
  {
   "cell_type": "markdown",
   "id": "dddf955b-f702-4bb0-b1e6-865619817532",
   "metadata": {},
   "source": [
    "create connection to db"
   ]
  },
  {
   "cell_type": "code",
   "execution_count": 5,
   "id": "dc89b93a-0217-4f47-b3db-9a11fc70027e",
   "metadata": {
    "tags": []
   },
   "outputs": [
    {
     "data": {
      "text/html": [
       "<table class=\"dataframe\">\n",
       "<caption>A data.frame: 6 × 2</caption>\n",
       "<thead>\n",
       "\t<tr><th></th><th scope=col>bmi_id</th><th scope=col>bmi_status</th></tr>\n",
       "\t<tr><th></th><th scope=col>&lt;int&gt;</th><th scope=col>&lt;chr&gt;</th></tr>\n",
       "</thead>\n",
       "<tbody>\n",
       "\t<tr><th scope=row>1</th><td>1</td><td>ниже нормального веса, ( ,18.5)</td></tr>\n",
       "\t<tr><th scope=row>2</th><td>2</td><td>нормальный вес, [18.5,25)      </td></tr>\n",
       "\t<tr><th scope=row>3</th><td>3</td><td>избыточный вес, [25,30)        </td></tr>\n",
       "\t<tr><th scope=row>4</th><td>4</td><td>ожирение I степени, [30,35)    </td></tr>\n",
       "\t<tr><th scope=row>5</th><td>5</td><td>ожирение II степени, [35,40)   </td></tr>\n",
       "\t<tr><th scope=row>6</th><td>6</td><td>ожирение III степени, [40, )   </td></tr>\n",
       "</tbody>\n",
       "</table>\n"
      ],
      "text/latex": [
       "A data.frame: 6 × 2\n",
       "\\begin{tabular}{r|ll}\n",
       "  & bmi\\_id & bmi\\_status\\\\\n",
       "  & <int> & <chr>\\\\\n",
       "\\hline\n",
       "\t1 & 1 & ниже нормального веса, ( ,18.5)\\\\\n",
       "\t2 & 2 & нормальный вес, {[}18.5,25)      \\\\\n",
       "\t3 & 3 & избыточный вес, {[}25,30)        \\\\\n",
       "\t4 & 4 & ожирение I степени, {[}30,35)    \\\\\n",
       "\t5 & 5 & ожирение II степени, {[}35,40)   \\\\\n",
       "\t6 & 6 & ожирение III степени, {[}40, )   \\\\\n",
       "\\end{tabular}\n"
      ],
      "text/markdown": [
       "\n",
       "A data.frame: 6 × 2\n",
       "\n",
       "| <!--/--> | bmi_id &lt;int&gt; | bmi_status &lt;chr&gt; |\n",
       "|---|---|---|\n",
       "| 1 | 1 | ниже нормального веса, ( ,18.5) |\n",
       "| 2 | 2 | нормальный вес, [18.5,25)       |\n",
       "| 3 | 3 | избыточный вес, [25,30)         |\n",
       "| 4 | 4 | ожирение I степени, [30,35)     |\n",
       "| 5 | 5 | ожирение II степени, [35,40)    |\n",
       "| 6 | 6 | ожирение III степени, [40, )    |\n",
       "\n"
      ],
      "text/plain": [
       "  bmi_id bmi_status                     \n",
       "1 1      ниже нормального веса, ( ,18.5)\n",
       "2 2      нормальный вес, [18.5,25)      \n",
       "3 3      избыточный вес, [25,30)        \n",
       "4 4      ожирение I степени, [30,35)    \n",
       "5 5      ожирение II степени, [35,40)   \n",
       "6 6      ожирение III степени, [40, )   "
      ]
     },
     "metadata": {},
     "output_type": "display_data"
    }
   ],
   "source": [
    "pg_driver <- dbDriver(\"PostgreSQL\");\n",
    "\n",
    "pg_conn <- dbConnect(pg_driver, dbname = \"premature\", host = \"localhost\", port = 5432, user = \"postgres\", password = \"Lazarus2002\");\n",
    "\n",
    "query_res <- dbGetQuery(pg_conn, \"select * from main.bmi\");\n",
    "\n",
    "df_res <- data.frame(query_res);\n",
    "\n",
    "df_res"
   ]
  }
 ],
 "metadata": {
  "kernelspec": {
   "display_name": "R",
   "language": "R",
   "name": "ir"
  },
  "language_info": {
   "codemirror_mode": "r",
   "file_extension": ".r",
   "mimetype": "text/x-r-source",
   "name": "R",
   "pygments_lexer": "r",
   "version": "4.2.2"
  },
  "toc-autonumbering": true
 },
 "nbformat": 4,
 "nbformat_minor": 5
}
