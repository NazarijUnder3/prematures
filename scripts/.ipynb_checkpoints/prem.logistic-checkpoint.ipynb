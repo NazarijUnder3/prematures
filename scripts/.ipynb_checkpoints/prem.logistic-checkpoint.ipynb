{
 "cells": [
  {
   "cell_type": "markdown",
   "id": "664ac4fb-5d82-4014-9966-9688d993767d",
   "metadata": {
    "tags": []
   },
   "source": [
    "# Старт"
   ]
  },
  {
   "cell_type": "markdown",
   "id": "03b0d6d4-9067-4934-960e-2e38e724b134",
   "metadata": {},
   "source": [
    "## Настройка графики"
   ]
  },
  {
   "cell_type": "code",
   "execution_count": 1,
   "id": "06bf28dd-0a8f-4a50-94cb-212020dbbf4b",
   "metadata": {
    "tags": []
   },
   "outputs": [],
   "source": [
    "#windows.options(height=5.4, width=7)\n",
    "oldpar = par()\n",
    "par(mar=c(8, 4, 1, 2), \"xpd\"=F)\n",
    "options(repr.plot.height=9, repr.plot.width=12)"
   ]
  },
  {
   "cell_type": "markdown",
   "id": "6e3f837a-af7c-4513-8ffe-aea0624640f8",
   "metadata": {},
   "source": [
    "## Библиотеки"
   ]
  },
  {
   "cell_type": "code",
   "execution_count": 2,
   "id": "f1a97132-aed8-4cdb-9d12-223e4e974aaf",
   "metadata": {
    "scrolled": true,
    "tags": []
   },
   "outputs": [
    {
     "name": "stderr",
     "output_type": "stream",
     "text": [
      "\n",
      "Присоединяю пакет: 'TH.data'\n",
      "\n",
      "\n",
      "Следующий объект скрыт от 'package:MASS':\n",
      "\n",
      "    geyser\n",
      "\n",
      "\n",
      "\n",
      "Присоединяю пакет: 'scales'\n",
      "\n",
      "\n",
      "Следующий объект скрыт от 'package:coin':\n",
      "\n",
      "    pvalue\n",
      "\n",
      "\n",
      "\n",
      "Присоединяю пакет: 'lattice'\n",
      "\n",
      "\n",
      "Следующий объект скрыт от 'package:gnm':\n",
      "\n",
      "    barley\n",
      "\n",
      "\n",
      "\n",
      "Присоединяю пакет: 'caret'\n",
      "\n",
      "\n",
      "Следующий объект скрыт от 'package:survival':\n",
      "\n",
      "    cluster\n",
      "\n",
      "\n",
      "\n",
      "Присоединяю пакет: 'epiDisplay'\n",
      "\n",
      "\n",
      "Следующий объект скрыт от 'package:lattice':\n",
      "\n",
      "    dotplot\n",
      "\n",
      "\n",
      "Следующий объект скрыт от 'package:scales':\n",
      "\n",
      "    alpha\n",
      "\n",
      "\n",
      "Следующий объект скрыт от 'package:ggplot2':\n",
      "\n",
      "    alpha\n",
      "\n",
      "\n",
      "Type 'citation(\"pROC\")' for a citation.\n",
      "\n",
      "\n",
      "Присоединяю пакет: 'pROC'\n",
      "\n",
      "\n",
      "Следующий объект скрыт от 'package:epiDisplay':\n",
      "\n",
      "    ci\n",
      "\n",
      "\n",
      "Следующие объекты скрыты от 'package:stats':\n",
      "\n",
      "    cov, smooth, var\n",
      "\n",
      "\n",
      "\n",
      "Присоединяю пакет: 'zoo'\n",
      "\n",
      "\n",
      "Следующие объекты скрыты от 'package:base':\n",
      "\n",
      "    as.Date, as.Date.numeric\n",
      "\n",
      "\n",
      "\n",
      "Присоединяю пакет: 'PerformanceAnalytics'\n",
      "\n",
      "\n",
      "Следующие объекты скрыты от 'package:agricolae':\n",
      "\n",
      "    kurtosis, skewness\n",
      "\n",
      "\n",
      "Следующий объект скрыт от 'package:vcd':\n",
      "\n",
      "    Kappa\n",
      "\n",
      "\n",
      "Следующий объект скрыт от 'package:graphics':\n",
      "\n",
      "    legend\n",
      "\n",
      "\n",
      "\n",
      "Присоединяю пакет: 'psych'\n",
      "\n",
      "\n",
      "Следующий объект скрыт от 'package:cvAUC':\n",
      "\n",
      "    AUC\n",
      "\n",
      "\n",
      "Следующие объекты скрыты от 'package:epiDisplay':\n",
      "\n",
      "    alpha, cs, lookup\n",
      "\n",
      "\n",
      "Следующие объекты скрыты от 'package:scales':\n",
      "\n",
      "    alpha, rescale\n",
      "\n",
      "\n",
      "Следующие объекты скрыты от 'package:ggplot2':\n",
      "\n",
      "    %+%, alpha\n",
      "\n",
      "\n",
      "Следующий объект скрыт от 'package:pgirmess':\n",
      "\n",
      "    shannon\n",
      "\n",
      "\n",
      "Следующий объект скрыт от 'package:RcmdrMisc':\n",
      "\n",
      "    reliability\n",
      "\n",
      "\n",
      "Следующий объект скрыт от 'package:car':\n",
      "\n",
      "    logit\n",
      "\n",
      "\n",
      "\n",
      "######################### Warning from 'xts' package ##########################\n",
      "#                                                                             #\n",
      "# The dplyr lag() function breaks how base R's lag() function is supposed to  #\n",
      "# work, which breaks lag(my_xts). Calls to lag(my_xts) that you type or       #\n",
      "# source() into this session won't work correctly.                            #\n",
      "#                                                                             #\n",
      "# Use stats::lag() to make sure you're not using dplyr::lag(), or you can add #\n",
      "# conflictRules('dplyr', exclude = 'lag') to your .Rprofile to stop           #\n",
      "# dplyr from breaking base R's lag() function.                                #\n",
      "#                                                                             #\n",
      "# Code in packages is not affected. It's protected by R's namespace mechanism #\n",
      "# Set `options(xts.warn_dplyr_breaks_lag = FALSE)` to suppress this warning.  #\n",
      "#                                                                             #\n",
      "###############################################################################\n",
      "\n",
      "\n",
      "Присоединяю пакет: 'dplyr'\n",
      "\n",
      "\n",
      "Следующие объекты скрыты от 'package:xts':\n",
      "\n",
      "    first, last\n",
      "\n",
      "\n",
      "Следующий объект скрыт от 'package:gridExtra':\n",
      "\n",
      "    combine\n",
      "\n",
      "\n",
      "Следующий объект скрыт от 'package:MASS':\n",
      "\n",
      "    select\n",
      "\n",
      "\n",
      "Следующий объект скрыт от 'package:car':\n",
      "\n",
      "    recode\n",
      "\n",
      "\n",
      "Следующие объекты скрыты от 'package:stats':\n",
      "\n",
      "    filter, lag\n",
      "\n",
      "\n",
      "Следующие объекты скрыты от 'package:base':\n",
      "\n",
      "    intersect, setdiff, setequal, union\n",
      "\n",
      "\n",
      "\n",
      "Присоединяю пакет: 'biostat3'\n",
      "\n",
      "\n",
      "Следующий объект скрыт от 'package:lattice':\n",
      "\n",
      "    melanoma\n",
      "\n",
      "\n",
      "Следующий объект скрыт от 'package:survival':\n",
      "\n",
      "    colon\n",
      "\n",
      "\n",
      "\n",
      "Присоединяю пакет: 'plotly'\n",
      "\n",
      "\n",
      "Следующий объект скрыт от 'package:ggplot2':\n",
      "\n",
      "    last_plot\n",
      "\n",
      "\n",
      "Следующий объект скрыт от 'package:MASS':\n",
      "\n",
      "    select\n",
      "\n",
      "\n",
      "Следующий объект скрыт от 'package:TeachingDemos':\n",
      "\n",
      "    subplot\n",
      "\n",
      "\n",
      "Следующий объект скрыт от 'package:stats':\n",
      "\n",
      "    filter\n",
      "\n",
      "\n",
      "Следующий объект скрыт от 'package:graphics':\n",
      "\n",
      "    layout\n",
      "\n",
      "\n",
      "\n",
      "Присоединяю пакет: 'shiny'\n",
      "\n",
      "\n",
      "Следующий объект скрыт от 'package:ggExtra':\n",
      "\n",
      "    runExample\n",
      "\n",
      "\n",
      "Registered S3 method overwritten by 'parsnip':\n",
      "  method          from     \n",
      "  autoplot.glmnet ggfortify\n",
      "\n",
      "── \u001b[1mAttaching packages\u001b[22m ────────────────────────────────────────────────────────────────────────────── tidymodels 1.1.0 ──\n",
      "\n",
      "\u001b[32m✔\u001b[39m \u001b[34mbroom       \u001b[39m 1.0.4     \u001b[32m✔\u001b[39m \u001b[34mrsample     \u001b[39m 1.1.1\n",
      "\u001b[32m✔\u001b[39m \u001b[34mdials       \u001b[39m 1.2.0     \u001b[32m✔\u001b[39m \u001b[34mtibble      \u001b[39m 3.2.1\n",
      "\u001b[32m✔\u001b[39m \u001b[34minfer       \u001b[39m 1.0.4     \u001b[32m✔\u001b[39m \u001b[34mtidyr       \u001b[39m 1.3.0\n",
      "\u001b[32m✔\u001b[39m \u001b[34mmodeldata   \u001b[39m 1.1.0     \u001b[32m✔\u001b[39m \u001b[34mtune        \u001b[39m 1.1.1\n",
      "\u001b[32m✔\u001b[39m \u001b[34mparsnip     \u001b[39m 1.1.0     \u001b[32m✔\u001b[39m \u001b[34mworkflows   \u001b[39m 1.1.3\n",
      "\u001b[32m✔\u001b[39m \u001b[34mpurrr       \u001b[39m 1.0.1     \u001b[32m✔\u001b[39m \u001b[34mworkflowsets\u001b[39m 1.0.1\n",
      "\u001b[32m✔\u001b[39m \u001b[34mrecipes     \u001b[39m 1.0.6     \u001b[32m✔\u001b[39m \u001b[34myardstick   \u001b[39m 1.2.0\n",
      "\n",
      "── \u001b[1mConflicts\u001b[22m ───────────────────────────────────────────────────────────────────────────────── tidymodels_conflicts() ──\n",
      "\u001b[31m✖\u001b[39m \u001b[34mpsych\u001b[39m::\u001b[32m%+%()\u001b[39m             masks \u001b[34mggplot2\u001b[39m::%+%()\n",
      "\u001b[31m✖\u001b[39m \u001b[34mpsych\u001b[39m::\u001b[32malpha()\u001b[39m           masks \u001b[34mepiDisplay\u001b[39m::alpha(), \u001b[34mscales\u001b[39m::alpha(), \u001b[34mggplot2\u001b[39m::alpha(), \u001b[34mcoin\u001b[39m::alpha()\n",
      "\u001b[31m✖\u001b[39m \u001b[34minfer\u001b[39m::\u001b[32mchisq_test()\u001b[39m      masks \u001b[34mcoin\u001b[39m::chisq_test()\n",
      "\u001b[31m✖\u001b[39m \u001b[34mdplyr\u001b[39m::\u001b[32mcombine()\u001b[39m         masks \u001b[34mgridExtra\u001b[39m::combine()\n",
      "\u001b[31m✖\u001b[39m \u001b[34mpurrr\u001b[39m::\u001b[32mdiscard()\u001b[39m         masks \u001b[34mscales\u001b[39m::discard()\n",
      "\u001b[31m✖\u001b[39m \u001b[34mplotly\u001b[39m::\u001b[32mfilter()\u001b[39m         masks \u001b[34mdplyr\u001b[39m::filter(), \u001b[34mstats\u001b[39m::filter()\n",
      "\u001b[31m✖\u001b[39m \u001b[34mdplyr\u001b[39m::\u001b[32mfirst()\u001b[39m           masks \u001b[34mxts\u001b[39m::first()\n",
      "\u001b[31m✖\u001b[39m \u001b[34myardstick\u001b[39m::\u001b[32mkap()\u001b[39m         masks \u001b[34mepiDisplay\u001b[39m::kap()\n",
      "\u001b[31m✖\u001b[39m \u001b[34mdplyr\u001b[39m::\u001b[32mlag()\u001b[39m             masks \u001b[34mstats\u001b[39m::lag()\n",
      "\u001b[31m✖\u001b[39m \u001b[34mdplyr\u001b[39m::\u001b[32mlast()\u001b[39m            masks \u001b[34mxts\u001b[39m::last()\n",
      "\u001b[31m✖\u001b[39m \u001b[34mpurrr\u001b[39m::\u001b[32mlift()\u001b[39m            masks \u001b[34mcaret\u001b[39m::lift()\n",
      "\u001b[31m✖\u001b[39m \u001b[34minfer\u001b[39m::\u001b[32mobserve()\u001b[39m         masks \u001b[34mshiny\u001b[39m::observe()\n",
      "\u001b[31m✖\u001b[39m \u001b[34mtune\u001b[39m::\u001b[32mparameters()\u001b[39m       masks \u001b[34mdials\u001b[39m::parameters(), \u001b[34mgnm\u001b[39m::parameters()\n",
      "\u001b[31m✖\u001b[39m \u001b[34myardstick\u001b[39m::\u001b[32mprecision()\u001b[39m   masks \u001b[34mcaret\u001b[39m::precision()\n",
      "\u001b[31m✖\u001b[39m \u001b[34myardstick\u001b[39m::\u001b[32mrecall()\u001b[39m      masks \u001b[34mcaret\u001b[39m::recall()\n",
      "\u001b[31m✖\u001b[39m \u001b[34mdplyr\u001b[39m::\u001b[32mrecode()\u001b[39m          masks \u001b[34mcar\u001b[39m::recode()\n",
      "\u001b[31m✖\u001b[39m \u001b[34mplotly\u001b[39m::\u001b[32mselect()\u001b[39m         masks \u001b[34mdplyr\u001b[39m::select(), \u001b[34mMASS\u001b[39m::select()\n",
      "\u001b[31m✖\u001b[39m \u001b[34myardstick\u001b[39m::\u001b[32msensitivity()\u001b[39m masks \u001b[34mcaret\u001b[39m::sensitivity()\n",
      "\u001b[31m✖\u001b[39m \u001b[34mpurrr\u001b[39m::\u001b[32msome()\u001b[39m            masks \u001b[34mcar\u001b[39m::some()\n",
      "\u001b[31m✖\u001b[39m \u001b[34myardstick\u001b[39m::\u001b[32mspecificity()\u001b[39m masks \u001b[34mcaret\u001b[39m::specificity()\n",
      "\u001b[31m✖\u001b[39m \u001b[34mrecipes\u001b[39m::\u001b[32mstep()\u001b[39m          masks \u001b[34mstats\u001b[39m::step()\n",
      "\u001b[34m•\u001b[39m Use suppressPackageStartupMessages() to eliminate package startup messages\n",
      "\n",
      "Classes and Methods for R developed in the\n",
      "Political Science Computational Laboratory\n",
      "Department of Political Science\n",
      "Stanford University\n",
      "Simon Jackman\n",
      "hurdle and zeroinfl functions by Achim Zeileis\n",
      "\n",
      "\n",
      "Присоединяю пакет: 'Matrix'\n",
      "\n",
      "\n",
      "Следующие объекты скрыты от 'package:tidyr':\n",
      "\n",
      "    expand, pack, unpack\n",
      "\n",
      "\n",
      "ResourceSelection 0.3-5 \t 2019-07-22\n",
      "\n",
      "\n",
      "Присоединяю пакет: 'aod'\n",
      "\n",
      "\n",
      "Следующий объект скрыт от 'package:survival':\n",
      "\n",
      "    rats\n",
      "\n",
      "\n",
      "\n",
      "Присоединяю пакет: 'Rcpp'\n",
      "\n",
      "\n",
      "Следующий объект скрыт от 'package:rsample':\n",
      "\n",
      "    populate\n",
      "\n",
      "\n",
      "## \n",
      "## Amelia II: Multiple Imputation\n",
      "## (Version 1.8.1, built: 2022-11-18)\n",
      "## Copyright (C) 2005-2023 James Honaker, Gary King and Matthew Blackwell\n",
      "## Refer to http://gking.harvard.edu/amelia/ for more information\n",
      "## \n",
      "\n"
     ]
    }
   ],
   "source": [
    "options(java.parameters = \"-Xmx4096m\");\n",
    "default.warn = getOption(\"warn\")\n",
    "options(warn = -1)\n",
    "\n",
    "require(vcd, quietly=TRUE);\n",
    "require(coin, quietly=TRUE);\n",
    "require(Epi, quietly=TRUE);\n",
    "require(car, quietly=TRUE);\n",
    "require(TeachingDemos, quietly=TRUE);\n",
    "#require(exactRankTests, quietly=TRUE);\n",
    "require(abind, quietly=TRUE);\n",
    "require(tidycmprsk, quietly=TRUE);\n",
    "require(gnm, quietly=TRUE);\n",
    "require(RcmdrMisc, quietly=TRUE);\n",
    "require(multcomp, quietly=TRUE);\n",
    "require(agricolae, quietly=TRUE);\n",
    "require(pgirmess, quietly=TRUE);\n",
    "#require(beeswarm, quietly=TRUE);\n",
    "require(nortest, quietly=TRUE);\t# for normality test in case of N>5000. Anderson-Darling normality test\n",
    "\n",
    "require(ggplot2, quietly=TRUE);\n",
    "require(ggExtra, quietly=TRUE);\n",
    "require(ggfortify, quietly=TRUE);\n",
    "require(gridExtra, quietly=TRUE);\n",
    "require(scales, quietly=TRUE);\n",
    "\n",
    "library(ROCR, quietly=TRUE);\n",
    "library(caret, quietly=TRUE);\n",
    "library(epiDisplay, quietly=TRUE);\n",
    "library(cvAUC, quietly=TRUE);\n",
    "library(pROC, quietly=TRUE);\n",
    "library(PerformanceAnalytics, quietly=TRUE);\n",
    "library(psych, quietly=TRUE);\n",
    "\n",
    "library(DBI);#driver dbi \n",
    "library(RPostgreSQL);#work with postgres dbms\n",
    "\n",
    "require(ranger, quietly=TRUE);\n",
    "require(dplyr, quietly=TRUE);\n",
    "\n",
    "require(biostat3, quietly=TRUE);\n",
    "require(plotly, quietly=TRUE);\n",
    "require(shiny, quietly=TRUE);\n",
    "\n",
    "require(PerformanceAnalytics, quietly=TRUE);\n",
    "#require(readr, quietly=TRUE);\n",
    "require(tidymodels, quietly=TRUE);\n",
    "require(rsample, quietly=TRUE);\n",
    "require(pscl, quietly=TRUE);\n",
    "require(caret, quietly=TRUE);\n",
    "require(car, quietly=TRUE);\n",
    "require(InformationValue, quietly=TRUE);\n",
    "require(caTools, quietly=TRUE);\n",
    "require(Matrix, quietly=TRUE);\n",
    "require(ResourceSelection, quietly=TRUE); # Hosmer-Lemeshow Goodness of Fit (GOF) Test\n",
    "require(aod, quietly=TRUE);\n",
    "        \n",
    "require(Amelia, quietly=TRUE); # completenes of data\n",
    "\n",
    "options(warn = default.warn)"
   ]
  },
  {
   "cell_type": "markdown",
   "id": "c460f1d2-c3d9-4aa0-a18c-23cc3bf63251",
   "metadata": {
    "tags": []
   },
   "source": [
    "## Функции"
   ]
  },
  {
   "cell_type": "code",
   "execution_count": 3,
   "id": "55299f66-95f6-4d7d-8001-ed19341701ab",
   "metadata": {},
   "outputs": [],
   "source": [
    "calc_class_err = function(actual, predicted) {\n",
    "    mean(actual != predicted)\n",
    "}\n",
    "\n",
    "get_logistic_error = function(mod, data, res = \"y\", pos = 1, neg = 0, cut = 0.5) {\n",
    "    probs = predict(mod, newdata = data, type = \"response\")\n",
    "    preds = ifelse(probs > cut, pos, neg)\n",
    "    calc_class_err(actual = data[, res], predicted = preds)\n",
    "}"
   ]
  },
  {
   "cell_type": "markdown",
   "id": "7c798d3c-abf6-4f4a-994c-0e0038024c66",
   "metadata": {
    "tags": []
   },
   "source": [
    "## Загрузка данных"
   ]
  },
  {
   "cell_type": "code",
   "execution_count": 4,
   "id": "c31b3c6d-0eec-45ac-ae13-a8cf715a9220",
   "metadata": {
    "tags": []
   },
   "outputs": [],
   "source": [
    "#prem0 = read_delim(\"G:\\\\premature_data_final_2.csv\")\n",
    "pg_driver = dbDriver(\"PostgreSQL\");\n",
    "pg_conn = dbConnect(pg_driver, dbname = \"premature\", host = \"localhost\", port = 5432, user = \"postgres\", password = \"Lazarus2002\");\n",
    "query_res = dbGetQuery(pg_conn, \"select * from main.v_stage\");\n",
    "prem0 = data.frame(query_res);"
   ]
  },
  {
   "cell_type": "markdown",
   "id": "034b0148-70f4-44d0-ba3a-79ee37591c6e",
   "metadata": {},
   "source": [
    "## Преобразование данных"
   ]
  },
  {
   "cell_type": "code",
   "execution_count": 5,
   "id": "bd99cdec-3878-4b05-8fd1-b020fbd521d2",
   "metadata": {},
   "outputs": [
    {
     "name": "stderr",
     "output_type": "stream",
     "text": [
      "Warning message in eval(expr, envir, enclos):\n",
      "\"в результате преобразования созданы NA\"\n"
     ]
    }
   ],
   "source": [
    "#prem0$Этап = factor(prem0$Этап)\n",
    "prem0$Пол = factor(prem0$Пол)\n",
    "prem0$ЭКО0 = factor(prem0$ЭКО0, c(\"1-я\", \"2-я\", \"3-я\", \"3-я попытка, 1-ый криоперенос 05.2018 беременность не подтвердилась, 2-й криоперенос 02.2019 беременность не подтвердилась\", \"6-я \", \"ЭКО БДУ\", \"нет\"))\n",
    "levels(prem0$ЭКО0)[4] = \"3-я\"\n",
    "levels(prem0$ЭКО0)[4] = \"6-я\"\n",
    "\n",
    "prem0$ЭКО = factor(prem0$ЭКО)\n",
    "prem0$СБФ.Возраст0 = factor(prem0$СБФ.Возраст0)\n",
    "prem0$СБФ.Возраст = factor(prem0$СБФ.Возраст, c(\"менее 18\", \"[18; 30)\", \"[30; 40]\"))\n",
    "prem0$СБФ.Возраст.отца = factor(prem0$СБФ.Возраст.отца, c(\"до 40\", \"40+\"))\n",
    "prem0$СБФ.Одинокая = factor(prem0$СБФ.Одинокая, c(\"нет\", \"да\"))\n",
    "prem0$СБФ.ИМТ = factor(prem0$СБФ.ИМТ, c(\"норма\", \"ИМТ\"))\n",
    "prem0$Беременность.счет0 = factor(prem0$Беременность.счет0)\n",
    "prem0$Беременность.счет1 = factor(prem0$Беременность.счет1)\n",
    "prem0$Беременность.Многоплодие = factor(prem0$Беременность.Многоплодие, c(\"нет\", \"ДХДА\", \"МХДА\"))\n",
    "\n",
    "prem0$Беременность.Исход.многоплодности = factor(prem0$Беременность.Исход.многоплодност, c(\"одноплодный\", \"из двойни\", \"второй плод замер\"))\n",
    "prem0$Беременность.Плод.по.счету = factor(prem0$Беременность.Плод.по.счету, c(\"единственный\", \"1-й из двойни\", \"2-й из двойни\", \"БДУ\"))\n",
    "prem0$Беременность.Патология = factor(prem0$Беременность.Патология, c(\"нет\", \"да\"))\n",
    "prem0$Антенатальные.нарушения = factor(prem0$Антенатальные.нарушения, c(\"нет\", \"да\"))\n",
    "prem0$Бесплодие.матери = factor(prem0$Бесплодие.матери, c(\"нет\", \"да\"))\n",
    "prem0$Беременность.Анемия = factor(prem0$Беременность.Анемия, c(\"нет\", \"да\"))\n",
    "prem0$Беременность.МВС = factor(prem0$Беременность.МВС)\n",
    "prem0$Беременность.Энд.система0 = factor(prem0$Беременность.Энд.система0, c(\"нет\", \"Гипотиреоз с/к\", \"АИТ, гипотериоз\", \"Узловой зоб\", \"Узловой зоб, опер ЩЖ, гипотиреоз\", \"Рак ЩЖ, опер, гипотиреоз\", \"ГСД\"))\n",
    "prem0$Беременность.Энд.система = factor(prem0$Беременность.Энд.система, c(\"нет\", \"да\"))\n",
    "prem0$Беременность.ССС0 = factor(prem0$Беременность.ССС0, c(\"нет\", \"АГ\", \"ВПС\", \"АФЛС\"))\n",
    "prem0$Беременность.ССС = factor(prem0$Беременность.ССС, c(\"нет\", \"да\"))\n",
    "prem0$Беременность.ЖКТ = factor(prem0$Беременность.ЖКТ, c(\"нет\", \"да\"))\n",
    "prem0$Беременность.Курение = factor(prem0$Беременность.Курение, c(\"отрицает\", \"курит\"))\n",
    "prem0$Беременность.НС0 = factor(prem0$Беременность.НС0, c(\"нет\", \"ГБН\", \"ВЛИШ\", \"МБА\", \"НМСП\", \"МСА\", \"НФМ 1\"))\n",
    "prem0$Беременность.НС = factor(prem0$Беременность.НС, c(\"нет\", \"да\"))\n",
    "prem0$Беременность.Гинекология0 = factor(prem0$Беременность.Гинекология0)\n",
    "prem0$Беременность.Гинекология = factor(prem0$Беременность.Гинекология, c(\"нет\", \"да\"))\n",
    "prem0$Беременность.Угроза0 = factor(prem0$Беременность.Угроза0)\n",
    "prem0$Беременность.Угроза = factor(prem0$Беременность.Угроза, c(\"нет\", \"да\"))\n",
    "prem0$Беременность.ХФПН.ХВГП = factor(prem0$Беременность.ХФПН.ХВГП, c(\"нет\", \"да\"))\n",
    "prem0$Беременность.ИЦН = factor(prem0$Беременность.ИЦН, c(\"нет\", \"да\"))\n",
    "prem0$Беременность.Кольпит = factor(prem0$Беременность.Кольпит, c(\"нет\", \"да\"))\n",
    "prem0$Беременность.ОРВИ0 = factor(prem0$Беременность.ОРВИ0)\n",
    "prem0$Беременность.ОРВИ = factor(prem0$Беременность.ОРВИ, c(\"нет\", \"до 12\", \"(12; 22)\", \"22+\"))\n",
    "prem0$Беременность.Предлежание = factor(prem0$Беременность.Предлежание)\n",
    "prem0$Роды = factor(prem0$Роды)\n",
    "prem0$Родоразрешение = factor(prem0$Родоразрешение)\n",
    "prem0$Осложнения = factor(prem0$Осложнения, c(\"преэклампсия\", \"НМФПК\", \"ПИОПВ\", \"угроза разрыва старого рубца\"))\n",
    "prem0$Беременность.Воды = factor(prem0$Беременность.Воды, c(\"норма\", \"многоводие\", \"маловодие\"))\n",
    "prem0$О.плодные.воды = factor(prem0$О.плодные.воды)\n",
    "prem0$Гестация = factor(prem0$Гестация, c(\"[22; 28]\", \"(28; 31]\", \"(31; 33]\", \"(33; 36]\"))\n",
    "prem0$Апгар0 = factor(prem0$Апгар0)\n",
    "prem0$Апгар1 = factor(prem0$Апгар1)\n",
    "prem0$Асфиксия = factor(prem0$Асфиксия, c(\"нет\", \"да\"))\n",
    "prem0$Судороги0 = factor(prem0$Судороги0, c(\"нет\", \"АСН\", \"СС\"))\n",
    "prem0$РТ.КФГ = factor(prem0$РТ.КФГ, c(\"нет\", \"РТ\", \"КФГ\"))\n",
    "prem0$Реанимационные.мероприятия = factor(prem0$Реанимационные.мероприятия, c(\"нет\", \"да\"))\n",
    "prem0$ИВЛ = factor(prem0$ИВЛ, c(\"нет\", \"да\"))\n",
    "prem0$Куросурф = factor(prem0$Куросурф, c(\"нет\", \"да\"))\n",
    "prem0$АСН7 = factor(prem0$АСН7, c(\"нет\", \"да\", \"СС\"))\n",
    "prem0$ВУИ.сепсис = factor(prem0$ВУИ.сепсис, c(\"нет\", \"ВУИ\", \"ВУИ, сепсис\", \"ВУИ, сепсис,НЭК\"))\n",
    "prem0$ВУИ.сепсис.Этиология = factor(prem0$ВУИ.сепсис.Этиология)\n",
    "prem0$ПЦР.кровь = factor(prem0$ПЦР.кровь)\n",
    "prem0$ПЦР.слюна.моча = factor(prem0$ПЦР.слюна.моча)\n",
    "prem0$СЭИ = factor(prem0$СЭИ, c(\"нет\", \"да\"))\n",
    "prem0$НЭ = factor(prem0$НЭ, c(\"нет\", \"да\"))\n",
    "prem0$ДС = factor(prem0$ДС)\n",
    "prem0$ВЧК0 = factor(prem0$ВЧК0, c(\"нет\", \"ВЖК 4/ СГШ\", \"ПВК\", \"ПГИ в ЛПШ\"))\n",
    "prem0$ВЧК = factor(prem0$ВЧК, c(\"нет\", \"да\"))\n",
    "#prem0$ПВК.степень = factor(prem0$ПВК.степень, c(\"нет\", \"1\", \"2\", \"3\", \"4\"))\n",
    "prem0$ПВЛ = factor(prem0$ПВЛ, c(\"нет\", \"ПВЛ\", \"ЛМ\"))\n",
    "prem0$X30.дней = factor(prem0$X30.дней)\n",
    "levels(prem0$X30.дней)[2] = \"возбуждение\"\n",
    "levels(prem0$X30.дней)[3] = \"возбуждение\"\n",
    "\n",
    "prem0$Абилитация = factor(prem0$Абилитация, c(\"нет\", \"да\", \"после ПВЛ\"))\n",
    "prem0$Сухая.иммерсия = factor(prem0$Сухая.иммерсия, c(\"нет\", \"после ПВЛ\", \"да\"))\n",
    "#prem0$возраст.начала.терапии = factor(prem0$возраст.начала.терапии, c(\"до 1 мес.\", \"1-2 мес.\", \"после 2 мес.\", \"после 3 мес.\", \"после 5 мес.\", \"после 6 мес.\"))\n",
    "prem0$НПТ1 = factor(prem0$НПТ1, c(\"нет\", \"да\"))\n",
    "prem0$Косоглазие.1 = factor(prem0$Косоглазие.1, c(\"нет\", \"да\"))\n",
    "prem0$Задержка.речевых.навыков.1 = factor(prem0$Задержка.речевых.навыков.1, c(\"нет\", \"да\"))\n",
    "prem0$Задержка.речевых.навыков.2 = factor(prem0$Задержка.речевых.навыков.2, c(\"нет\", \"да\"))\n",
    "prem0$РАС.2 = factor(prem0$РАС.2, c(\"нет\", \"да\"))\n",
    "prem0$Избыточная.возбудимость.3 = factor(prem0$Избыточная.возбудимость.3, c(\"нет\", \"да\"))\n",
    "prem0$Нарушение.засыпания.0 = factor(prem0$Нарушение.засыпания.0, c(\"нет\", \"да\"))\n",
    "prem0$Нарушение.бодрствования.0 = factor(prem0$Нарушение.бодрствования.0, c(\"нет\", \"да\", \"РДН\"))\n",
    "prem0$Нарушение.сна.0 = factor(prem0$Нарушение.сна.0, c(\"нет\", \"да\"))\n",
    "prem0$Нарушения.ПС.0 = factor(prem0$Нарушения.ПС.0)\n",
    "prem0$Нарушения.Координация.0 = factor(prem0$Нарушения.Координация.0)\n",
    "prem0$Структура.нарушений.0 = factor(prem0$Структура.нарушений.0)\n",
    "prem0$Нарушения.1 = factor(prem0$Нарушения.1, c(\"НН\", \"БНН\"))\n",
    "prem0$Структура.нарушений.1.5 = factor(prem0$Структура.нарушений.1.5)\n",
    "prem0$Нарушения.1.5 = factor(prem0$Нарушения.1.5, c(\"НН\", \"МВПР\", \"БНН\"))\n",
    "levels(prem0$Нарушения.1.5)[2] = \"НН\"\n",
    "\n",
    "prem0$Структура.нарушений.2 = factor(prem0$Структура.нарушений.2)\n",
    "prem0$Нарушения.2 = factor(prem0$Нарушения.2, c(\"НН\", \"БНН\"))\n",
    "prem0$Инвалидность.ОФ = factor(prem0$Инвалидность.ОФ, c(\"нет\", \"да\"))\n",
    "prem0$Двигательная = factor(prem0$Двигательная, c(\"нет\", \"сп.парез\", \"ДЦП\"))\n",
    "prem0$СЛФ = factor(prem0$СЛФ, c(\"нет\", \"АС\", \"не вертикализирован\"))\n",
    "prem0$ГЦ = factor(prem0$ГЦ, c(\"нет\", \"ГЦ\", \"ГЦ, ВПШ\"))\n",
    "prem0$СС.Э = factor(prem0$СС.Э, c(\"нет\", \"ФС\", \"СС\", \"Э\"))\n",
    "prem0$РФ = factor(prem0$РФ, c(\"норма\", \"ЗРР\", \"НРР\"))\n",
    "prem0$ПФ = factor(prem0$ПФ, c(\"норма\", \"НПФ\", \"РАС\"))\n",
    "prem0$Косоглазие2 = factor(prem0$Косоглазие2)\n",
    "prem0$ЭФ.Характер.нарушений.2 = factor(prem0$ЭФ.Характер.нарушений.2, c(\"норма\", \"РДН\", \"РДН, нарушение сна\", \"нарушение сна\"))\n",
    "prem0$Признаки.инвалидности = factor(prem0$Признаки.инвалидности)\n",
    "prem0$Рефлексы = factor(prem0$Рефлексы, c(\"соответствуют\", \"повышеные\", \"высокие\", \"угнетение ЦНС\"))\n",
    "prem0$БВ = factor(prem0$БВ, c(\"нет\", \"переходная стадия\", \"ПВЛ\"))\n",
    "prem0$Длительность.ИВЛ = as.numeric(prem0$Длительность.ИВЛ)\n",
    "prem0$Длительность.CPAP = as.numeric(prem0$Длительность.CPAP)\n",
    "prem0$pH = as.numeric(prem0$pH)\n",
    "\n",
    "prem0$b134.1 = factor(prem0$b134.1)\n",
    "prem0$b134.3 = factor(prem0$b134.3)\n",
    "prem0$b134.6 = factor(prem0$b134.6)\n",
    "prem0$b134.12 = factor(prem0$b134.12)\n",
    "prem0$b134.24 = factor(prem0$b134.24)\n",
    "prem0$b152.1 = factor(prem0$b152.1)\n",
    "prem0$b152.3 = factor(prem0$b152.3)\n",
    "prem0$b152.6 = factor(prem0$b152.6)\n",
    "prem0$b152.12 = factor(prem0$b152.12)\n",
    "prem0$b152.24 = factor(prem0$b152.24)\n",
    "prem0$b730.1 = factor(prem0$b730.1)\n",
    "prem0$b730.3 = factor(prem0$b730.3)\n",
    "prem0$b730.6 = factor(prem0$b730.6)\n",
    "prem0$b730.12 = factor(prem0$b730.12)\n",
    "prem0$b730.24 = factor(prem0$b730.24)\n",
    "prem0$b735.1 = factor(prem0$b735.1)\n",
    "prem0$b735.3 = factor(prem0$b735.3)\n",
    "prem0$b735.6 = factor(prem0$b735.6)\n",
    "prem0$b735.12 = factor(prem0$b735.12)\n",
    "prem0$b735.24 = factor(prem0$b735.24)\n",
    "prem0$b750.1 = factor(prem0$b750.1)\n",
    "prem0$b750.3 = factor(prem0$b750.3)\n",
    "prem0$b750.6 = factor(prem0$b750.6)\n",
    "prem0$b750.12 = factor(prem0$b750.12)\n",
    "prem0$b750.24 = factor(prem0$b750.24)\n",
    "prem0$b755.1 = factor(prem0$b755.1)\n",
    "prem0$b755.3 = factor(prem0$b755.3)\n",
    "prem0$b755.6 = factor(prem0$b755.6)\n",
    "prem0$b755.12 = factor(prem0$b755.12)\n",
    "prem0$b755.24 = factor(prem0$b755.24)\n",
    "prem0$b760.1 = factor(prem0$b760.1)\n",
    "prem0$b760.3 = factor(prem0$b760.3)\n",
    "prem0$b760.6 = factor(prem0$b760.6)\n",
    "prem0$b760.12 = factor(prem0$b760.12)\n",
    "prem0$b760.24 = factor(prem0$b760.24)\n",
    "prem0$d330.1 = factor(prem0$d330.1)\n",
    "prem0$d330.3 = factor(prem0$d330.3)\n",
    "prem0$d330.6 = factor(prem0$d330.6)\n",
    "prem0$d330.12 = factor(prem0$d330.12)\n",
    "prem0$d330.24 = factor(prem0$d330.24)\n",
    "prem0$d4103.1 = factor(prem0$d4103.1)\n",
    "prem0$d4103.3 = factor(prem0$d4103.3)\n",
    "prem0$d4103.6 = factor(prem0$d4103.6)\n",
    "prem0$d4103.12 = factor(prem0$d4103.12)\n",
    "prem0$d4103.24 = factor(prem0$d4103.24)\n",
    "prem0$d4104.1 = factor(prem0$d4104.1)\n",
    "prem0$d4104.3 = factor(prem0$d4104.3)\n",
    "prem0$d4104.6 = factor(prem0$d4104.6)\n",
    "prem0$d4104.12 = factor(prem0$d4104.12)\n",
    "prem0$d4104.24 = factor(prem0$d4104.24)\n",
    "prem0$d4550.1 = factor(prem0$d4550.1)\n",
    "prem0$d4550.3 = factor(prem0$d4550.3)\n",
    "prem0$d4550.6 = factor(prem0$d4550.6)\n",
    "prem0$d4550.12 = factor(prem0$d4550.12)\n",
    "prem0$d4550.24 = factor(prem0$d4550.24)\n",
    "prem0$e110.1 = factor(prem0$e110.1)\n",
    "prem0$e110.3 = factor(prem0$e110.3)\n",
    "prem0$e110.6 = factor(prem0$e110.6)\n",
    "prem0$e110.12 = factor(prem0$e110.12)\n",
    "prem0$e110.24 = factor(prem0$e110.24)\n",
    "prem0$e1101.1 = factor(prem0$e1101.1)\n",
    "prem0$e1101.3 = factor(prem0$e1101.3)\n",
    "prem0$e1101.6 = factor(prem0$e1101.6)\n",
    "prem0$e1101.12 = factor(prem0$e1101.12)\n",
    "prem0$e1101.24 = factor(prem0$e1101.24)\n",
    "prem0$e355.1 = factor(prem0$e355.1)\n",
    "prem0$e355.3 = factor(prem0$e355.3)\n",
    "prem0$e355.6 = factor(prem0$e355.6)\n",
    "prem0$e355.12 = factor(prem0$e355.12)\n",
    "prem0$e355.24 = factor(prem0$e355.24)\n",
    "prem0$e410.1 = factor(prem0$e410.1, c('e410-2', 'e410-1', 'e410+0', 'e410+1', 'e410+2', 'e410+3', 'e410+4'))\n",
    "prem0$e410.3 = factor(prem0$e410.3, c('e410-2', 'e410-1', 'e410+0', 'e410+1', 'e410+2', 'e410+3', 'e410+4'))\n",
    "prem0$e410.6 = factor(prem0$e410.6, c('e410-2', 'e410-1', 'e410+0', 'e410+1', 'e410+2', 'e410+3', 'e410+4'))\n",
    "prem0$e410.12 = factor(prem0$e410.12, c('e410-2', 'e410-1', 'e410+0', 'e410+1', 'e410+2', 'e410+3', 'e410+4'))\n",
    "prem0$e410.24 = factor(prem0$e410.24, c('e410-2', 'e410-1', 'e410+0', 'e410+1', 'e410+2', 'e410+3', 'e410+4'))\n",
    "prem0$e580.1 = factor(prem0$e580.1)\n",
    "prem0$e580.3 = factor(prem0$e580.3)\n",
    "prem0$e580.6 = factor(prem0$e580.6)\n",
    "prem0$e580.12 = factor(prem0$e580.12)\n",
    "prem0$e580.24 = factor(prem0$e580.24)\n",
    "prem0$s110.1 = factor(prem0$s110.1)\n",
    "prem0$s110.3 = factor(prem0$s110.3)\n",
    "prem0$s110.6 = factor(prem0$s110.6)\n",
    "prem0$s110.12 = factor(prem0$s110.12)\n",
    "prem0$s110.24 = factor(prem0$s110.24)\n",
    "\n",
    "prem0$m_d330.1 = factor(prem0$m_d330.1)\n",
    "prem0$m_d330.3 = factor(prem0$m_d330.3)\n",
    "prem0$m_d330.6 = factor(prem0$m_d330.6)\n",
    "prem0$m_d330.12 = factor(prem0$m_d330.12)\n",
    "prem0$m_d330.24 = factor(prem0$m_d330.24)\n",
    "prem0$m_d4103.1 = factor(prem0$m_d4103.1)\n",
    "prem0$m_d4103.3 = factor(prem0$m_d4103.3)\n",
    "prem0$m_d4103.6 = factor(prem0$m_d4103.6)\n",
    "prem0$m_d4103.12 = factor(prem0$m_d4103.12)\n",
    "prem0$m_d4103.24 = factor(prem0$m_d4103.24)\n",
    "prem0$m_d4104.1 = factor(prem0$m_d4104.1)\n",
    "prem0$m_d4104.3 = factor(prem0$m_d4104.3)\n",
    "prem0$m_d4104.6 = factor(prem0$m_d4104.6)\n",
    "prem0$m_d4104.12 = factor(prem0$m_d4104.12)\n",
    "prem0$m_d4104.24 = factor(prem0$m_d4104.24)\n",
    "prem0$m_d4550.1 = factor(prem0$m_d4550.1)\n",
    "prem0$m_d4550.3 = factor(prem0$m_d4550.3)\n",
    "prem0$m_d4550.6 = factor(prem0$m_d4550.6)\n",
    "prem0$m_d4550.12 = factor(prem0$m_d4550.12)\n",
    "prem0$m_d4550.24 = factor(prem0$m_d4550.24)\n",
    "\n",
    "prem0$ЛМФ.МКФ = factor(prem0$ЛМФ.МКФ)\n",
    "prem0$НС.по.МКФ = factor(prem0$НС.по.МКФ)\n",
    "prem0$Речь.МКФ = factor(prem0$Речь.МКФ)\n",
    "prem0$Сон.Эмоции.МКФ = factor(prem0$Сон.Эмоции.МКФ)\n",
    "\n",
    "prem0$m_s110.1 = factor(substr(prem0$s110.1, 1, 6))\n",
    "prem0$m_s110.3 = factor(substr(prem0$s110.3, 1, 6))\n",
    "prem0$m_s110.6 = factor(substr(prem0$s110.6, 1, 6))\n",
    "prem0$m_s110.12 = factor(substr(prem0$s110.12, 1, 6))\n",
    "prem0$m_s110.24 = factor(substr(prem0$s110.24, 1, 6))\n",
    "\n",
    "prem0$Абилитация2 = prem0$Абилитация\n",
    "levels(prem0$Абилитация2)[3] = \"да\"\n",
    "\n",
    "prem0$ЭФПН = factor(prem0$ЭФПН)\n",
    "\n",
    "prem0$возраст.начала.терапии = factor(prem0$возраст.начала.терапии, c(\"до 1 мес.\", \"1-2 мес\", \"1-2 мес.\", \"после 1 мес.\", \"после 2 мес.\", \"после 3 мес.\", \"после 5 мес.\", \"после 6 мес.\"))\n",
    "\n",
    "levels(prem0$возраст.начала.терапии)[1] = \"[0; 1)\"\n",
    "levels(prem0$возраст.начала.терапии)[2] = \"[1; 2)\"\n",
    "levels(prem0$возраст.начала.терапии)[3] = \"[1; 2)\"\n",
    "levels(prem0$возраст.начала.терапии)[3] = \"[1; 2)\"\n",
    "levels(prem0$возраст.начала.терапии)[3] = \"[2; 3)\"\n",
    "levels(prem0$возраст.начала.терапии)[4] = \"[3; 4)\"\n",
    "levels(prem0$возраст.начала.терапии)[5] = \"[5; 12]\"\n",
    "levels(prem0$возраст.начала.терапии)[6] = \"[5; 12]\"\n",
    "\n",
    "names(prem0)[names(prem0) == \"Кожа..стигмы\"] = \"Кожа.стигмы\"\n",
    "names(prem0)[names(prem0) == \"Косоглазие2\"] = \"Косоглазие.2\"\n",
    "levels(prem0$БВ)[levels(prem0$БВ) == \"переходная стадия\"] = \"СПП\""
   ]
  },
  {
   "cell_type": "markdown",
   "id": "1771a57c-d54b-449b-954b-2750817364d5",
   "metadata": {
    "tags": []
   },
   "source": [
    "# Анализ"
   ]
  },
  {
   "cell_type": "markdown",
   "id": "7374b821-ffe8-40dc-ba17-d607a6cb7884",
   "metadata": {},
   "source": [
    "## Введение\n",
    "Логистическая регрессия -- модель бинарной классификации. Является частью группы обобщенных линейных моделей (GLM). Логистическая регрессия может быть расширена для решения задач классификации для более чем 2-х состояний.\n",
    "Логистическая регрессия изучае связи (отражения) между значениями изучаемого фактора (зависимая переменная) и значениями факторов, влияющих (формирующих) эти значения. Результатом моделирования является возможность отнести новые данные к заранее определенным значениям классам. \n",
    "Допущения линейной регрессии: \n",
    "- бинарность -- зависимая переменная имеет только 2 значения\n",
    "- линейность -- связи между независимыми переменными и зависимой переменной должны быть линейными (The Box-Tidwell test)\n",
    "- гомоскедастичность (однородность дисперсий) -- дисперсии остатков должны быть одинаковыми для всех подмножеств независимых переменных\n",
    "- независимость -- независимые переменные должны иметь минимальную мультиколинеарность и не иметь автокорреляции (Variance Inflation Factor, VIF; Residual Series plot)\n",
    "- отсутствие экстремальных выбросов -- ; outliers or any highly significant anomalies in data by means of Cook’s distance)\n",
    "- нормальность -- набор данных должен иметь нормальное распределение\n",
    "\n",
    "Еще одно допущение -- размер обучающей выборки. Рекомендуется, чтобы в подгруппе, сформированной каждым уникальным значением, был не менее 10 случаев. Для N факторов и вероятности наименее встречающегося значения для каждого параметра x, количество рекомендованных случаев составляет 10*N/x.\n",
    "For example, if you have 3 explanatory variables and the expected probability of the least frequent outcome is 0.20, then you should have a sample size of at least (10*3) / 0.20 = 150.\n",
    "\n",
    "Ссылки\n",
    "- https://www.projectpro.io/article/example-on-how-to-do-logistic-regression-in-r/542\n",
    "- https://stats.oarc.ucla.edu/r/dae/logit-regression/\n",
    "- https://www.statology.org/logistic-regression-in-r/\n",
    "- https://github.com/kennethleungty/Logistic-Regression-Assumptions\n",
    "\n",
    "### Этапы выполнения\n",
    "1. Готовим данные: группирование, случаи с отсутствием некоторых данных.\n",
    "2. Для отбора независимых предикторов для последующего их использования в модели был выполнен корреляционный анализ. Отбирались параметры с малыми значениями коэффициентов корреляции.\n",
    "3. Исходные данные были разделены случайным образом на 2 выборки:\n",
    "- обучающая -- 80%\n",
    "- тестовая -- 20%\n",
    "Первая выборка предназначалась для построения модели. Вторая -- для проверки работы полученной модели.\n",
    "Для полученной модели расчитывались различные метрики (численные способы оценивания модели), оценивались остатки, (графические способы оценивания модели), строилась ROC кривая, расчитывалась матрица соответствия (confusion matrix)."
   ]
  },
  {
   "cell_type": "markdown",
   "id": "bdf4dfae-614c-4455-9a3a-56991a006595",
   "metadata": {
    "tags": []
   },
   "source": [
    "## Отбор данных"
   ]
  },
  {
   "cell_type": "code",
   "execution_count": 6,
   "id": "9d5dab1c-c27c-4d18-a5ec-c8e6a9e15b14",
   "metadata": {
    "tags": []
   },
   "outputs": [],
   "source": [
    "prem = prem0[, c(\"Пол\", \"ЭКО\", \"Гестация\", \"Масса\", \"Рост\", \"Апгар1\", \"Асфиксия\", \"Судороги0\", \"ИВЛ\"\n",
    "                 , \"Длительность.ИВЛ\", \"Длительность.CPAP\", \"Куросурф\", \"АСН7\", \"ВУИ.сепсис\", \"СЭИ\", \"НЭ\"\n",
    "                 , \"ДС\", \"ДН.степень\", \"ВЧК\", \"ПВК.степень\", \"ПВЛ\", \"ЭФПН\", \"Абилитация\", \"Сухая.иммерсия\"\n",
    "                 , \"возраст.начала.терапии\", \"Рефлексы\", \"БВ\", \"Нарушения.1.5\", \"Нарушения.2\", \"Признаки.инвалидности\"\n",
    "                 , \"Косоглазие.1\", \"Задержка.речевых.навыков.2\", \"РАС.2\", \"Избыточная.возбудимость.3\"\n",
    "                 , \"Нарушение.засыпания.0\", \"Нарушение.бодрствования.0\", \"Нарушение.сна.0\", \"Двигательная\", \"СЛФ\"\n",
    "                 , \"ГЦ\", \"СС.Э\", \"РФ\", \"ПФ\", \"Косоглазие.2\", \"ЭФ.Характер.нарушений.2\")\n",
    "            ]"
   ]
  },
  {
   "cell_type": "code",
   "execution_count": 7,
   "id": "05cd7295-bd8e-4bc2-b576-5207d23f76db",
   "metadata": {
    "tags": []
   },
   "outputs": [
    {
     "data": {
      "text/plain": [
       "\n",
       "нет ПВЛ  ЛМ \n",
       "153  56   3 "
      ]
     },
     "metadata": {},
     "output_type": "display_data"
    },
    {
     "data": {
      "text/plain": [
       "\n",
       "нет ПВЛ \n",
       "153  59 "
      ]
     },
     "metadata": {},
     "output_type": "display_data"
    }
   ],
   "source": [
    "table(prem$ПВЛ)\n",
    "levels(prem$ПВЛ)[3] = \"ПВЛ\"\n",
    "table(prem$ПВЛ)"
   ]
  },
  {
   "cell_type": "code",
   "execution_count": 8,
   "id": "d1896083-c873-4c2e-9fdb-4fed0bba2d68",
   "metadata": {
    "tags": []
   },
   "outputs": [
    {
     "data": {
      "text/plain": [
       "\n",
       "            нет             ВУИ     ВУИ, сепсис ВУИ, сепсис,НЭК \n",
       "             21             158              31               2 "
      ]
     },
     "metadata": {},
     "output_type": "display_data"
    },
    {
     "data": {
      "text/plain": [
       "\n",
       "        нет         ВУИ ВУИ, сепсис \n",
       "         21         158          33 "
      ]
     },
     "metadata": {},
     "output_type": "display_data"
    }
   ],
   "source": [
    "table(prem$ВУИ.сепсис)\n",
    "levels(prem$ВУИ.сепсис)[4] = \"ВУИ, сепсис\"\n",
    "table(prem$ВУИ.сепсис)"
   ]
  },
  {
   "cell_type": "code",
   "execution_count": 9,
   "id": "08274b82-583c-428c-8db4-73de71be8384",
   "metadata": {
    "tags": []
   },
   "outputs": [
    {
     "data": {
      "text/html": [
       "<table class=\"dataframe\">\n",
       "<caption>A data.frame: 2 × 3</caption>\n",
       "<thead>\n",
       "\t<tr><th scope=col>Нарушения</th><th scope=col>1.5 года</th><th scope=col>2 года</th></tr>\n",
       "\t<tr><th scope=col>&lt;fct&gt;</th><th scope=col>&lt;int&gt;</th><th scope=col>&lt;int&gt;</th></tr>\n",
       "</thead>\n",
       "<tbody>\n",
       "\t<tr><td>НН </td><td>190</td><td>141</td></tr>\n",
       "\t<tr><td>БНН</td><td> 22</td><td> 71</td></tr>\n",
       "</tbody>\n",
       "</table>\n"
      ],
      "text/latex": [
       "A data.frame: 2 × 3\n",
       "\\begin{tabular}{lll}\n",
       " Нарушения & 1.5 года & 2 года\\\\\n",
       " <fct> & <int> & <int>\\\\\n",
       "\\hline\n",
       "\t НН  & 190 & 141\\\\\n",
       "\t БНН &  22 &  71\\\\\n",
       "\\end{tabular}\n"
      ],
      "text/markdown": [
       "\n",
       "A data.frame: 2 × 3\n",
       "\n",
       "| Нарушения &lt;fct&gt; | 1.5 года &lt;int&gt; | 2 года &lt;int&gt; |\n",
       "|---|---|---|\n",
       "| НН  | 190 | 141 |\n",
       "| БНН |  22 |  71 |\n",
       "\n"
      ],
      "text/plain": [
       "  Нарушения 1.5 года 2 года\n",
       "1 НН        190      141   \n",
       "2 БНН        22       71   "
      ]
     },
     "metadata": {},
     "output_type": "display_data"
    }
   ],
   "source": [
    "disoder = as.data.frame(table(prem$Нарушения.1.5))\n",
    "disoder = cbind(disoder, as.data.frame(table(prem$Нарушения.2))[, 2])\n",
    "colnames(disoder) = c('Нарушения', '1.5 года', '2 года')\n",
    "disoder"
   ]
  },
  {
   "cell_type": "markdown",
   "id": "9978020d-60e5-43a6-b9bc-4dfa43ce3bac",
   "metadata": {},
   "source": [
    "Подключение данных"
   ]
  },
  {
   "cell_type": "code",
   "execution_count": 10,
   "id": "968ca157-ae4a-4ce2-84a3-d556b2cd41d6",
   "metadata": {
    "tags": []
   },
   "outputs": [],
   "source": [
    "attach(prem)"
   ]
  },
  {
   "cell_type": "markdown",
   "id": "a00e8acb-4052-4d8f-8409-1c35506d3442",
   "metadata": {},
   "source": [
    "Полнота данных"
   ]
  },
  {
   "cell_type": "code",
   "execution_count": 11,
   "id": "43ceac25-46af-4243-bbbb-393cd3f5b82a",
   "metadata": {
    "tags": []
   },
   "outputs": [
    {
     "data": {
      "image/png": "[encoded data removed]",
      "text/plain": [
       "Plot with title \"Полнота данных\""
      ]
     },
     "metadata": {
      "image/png": {
       "height": 540,
       "width": 720
      }
     },
     "output_type": "display_data"
    }
   ],
   "source": [
    "default.warn = getOption(\"warn\")\n",
    "options(warn = -1)\n",
    "missmap(prem, main = \"Полнота данных\", gap.xaxis = 0, margins = c(10, 5))\n",
    "options(warn = default.warn)"
   ]
  },
  {
   "cell_type": "code",
   "execution_count": 12,
   "id": "6a962b04-957f-4778-b211-35e972dfed04",
   "metadata": {
    "tags": []
   },
   "outputs": [
    {
     "name": "stderr",
     "output_type": "stream",
     "text": [
      "Warning message in is.na(x):\n",
      "\"is.na() применен к не-списку/вектору типа 'symbol'\"\n",
      "Warning message in is.na(x):\n",
      "\"is.na() применен к не-списку/вектору типа 'symbol'\"\n",
      "Warning message in is.na(x):\n",
      "\"is.na() применен к не-списку/вектору типа 'language'\"\n"
     ]
    },
    {
     "data": {
      "text/html": [
       "<table class=\"dataframe\">\n",
       "<caption>A data.frame: 3 × 1</caption>\n",
       "<thead>\n",
       "\t<tr><th></th><th scope=col>sapply(train, function(x) sum(is.na(x)))</th></tr>\n",
       "\t<tr><th></th><th scope=col>&lt;int&gt;</th></tr>\n",
       "</thead>\n",
       "<tbody>\n",
       "\t<tr><th scope=row>x</th><td>0</td></tr>\n",
       "\t<tr><th scope=row>...</th><td>0</td></tr>\n",
       "\t<tr><th scope=row></th><td>0</td></tr>\n",
       "</tbody>\n",
       "</table>\n"
      ],
      "text/latex": [
       "A data.frame: 3 × 1\n",
       "\\begin{tabular}{r|l}\n",
       "  & sapply(train, function(x) sum(is.na(x)))\\\\\n",
       "  & <int>\\\\\n",
       "\\hline\n",
       "\tx & 0\\\\\n",
       "\t... & 0\\\\\n",
       "\t & 0\\\\\n",
       "\\end{tabular}\n"
      ],
      "text/markdown": [
       "\n",
       "A data.frame: 3 × 1\n",
       "\n",
       "| <!--/--> | sapply(train, function(x) sum(is.na(x))) &lt;int&gt; |\n",
       "|---|---|\n",
       "| x | 0 |\n",
       "| ... | 0 |\n",
       "| <!----> | 0 |\n",
       "\n"
      ],
      "text/plain": [
       "    sapply(train, function(x) sum(is.na(x)))\n",
       "x   0                                       \n",
       "... 0                                       \n",
       "    0                                       "
      ]
     },
     "metadata": {},
     "output_type": "display_data"
    }
   ],
   "source": [
    "as.data.frame(sapply(train, function(x) sum(is.na(x))))"
   ]
  },
  {
   "cell_type": "markdown",
   "id": "cf291f58-0406-43ee-a1a2-a73c20a156e4",
   "metadata": {},
   "source": [
    "Преобразованіе к численным значениям"
   ]
  },
  {
   "cell_type": "code",
   "execution_count": 13,
   "id": "e13be37a-e5dd-4e67-818d-c9ecb1ee4573",
   "metadata": {
    "tags": []
   },
   "outputs": [
    {
     "data": {
      "text/plain": [
       "      Пол              ЭКО            Гестация       Масса          \n",
       " Min.   :0.0000   Min.   :0.0000   Min.   :0.00   Length:212        \n",
       " 1st Qu.:0.0000   1st Qu.:0.0000   1st Qu.:1.00   Class :character  \n",
       " Median :1.0000   Median :0.0000   Median :2.00   Mode  :character  \n",
       " Mean   :0.5425   Mean   :0.1604   Mean   :1.75                     \n",
       " 3rd Qu.:1.0000   3rd Qu.:0.0000   3rd Qu.:3.00                     \n",
       " Max.   :1.0000   Max.   :1.0000   Max.   :3.00                     \n",
       "     Рост               Апгар1         Асфиксия        Судороги0     \n",
       " Length:212         Min.   :0.000   Min.   :0.0000   Min.   :0.0000  \n",
       " Class :character   1st Qu.:3.000   1st Qu.:0.0000   1st Qu.:0.0000  \n",
       " Mode  :character   Median :5.000   Median :1.0000   Median :0.0000  \n",
       "                    Mean   :4.151   Mean   :0.6368   Mean   :0.4481  \n",
       "                    3rd Qu.:5.000   3rd Qu.:1.0000   3rd Qu.:1.0000  \n",
       "                    Max.   :5.000   Max.   :1.0000   Max.   :2.0000  \n",
       "      ИВЛ         Длительность.ИВЛ Длительность.CPAP    Куросурф     \n",
       " Min.   :0.0000   Min.   : 0.000   Min.   : 0.00     Min.   :0.0000  \n",
       " 1st Qu.:0.0000   1st Qu.: 0.000   1st Qu.: 1.00     1st Qu.:0.0000  \n",
       " Median :1.0000   Median : 4.000   Median : 2.00     Median :1.0000  \n",
       " Mean   :0.7217   Mean   : 6.594   Mean   : 2.59     Mean   :0.6604  \n",
       " 3rd Qu.:1.0000   3rd Qu.: 7.000   3rd Qu.: 3.00     3rd Qu.:1.0000  \n",
       " Max.   :1.0000   Max.   :66.000   Max.   :27.00     Max.   :1.0000  \n",
       "      АСН7          ВУИ.сепсис         СЭИ               НЭ        \n",
       " Min.   :0.0000   Min.   :0.000   Min.   :0.0000   Min.   :0.0000  \n",
       " 1st Qu.:0.0000   1st Qu.:1.000   1st Qu.:0.0000   1st Qu.:1.0000  \n",
       " Median :0.0000   Median :1.000   Median :1.0000   Median :1.0000  \n",
       " Mean   :0.5142   Mean   :1.057   Mean   :0.7028   Mean   :0.9528  \n",
       " 3rd Qu.:1.0000   3rd Qu.:1.000   3rd Qu.:1.0000   3rd Qu.:1.0000  \n",
       " Max.   :2.0000   Max.   :2.000   Max.   :1.0000   Max.   :1.0000  \n",
       "       ДС           ДН.степень           ВЧК          ПВК.степень     \n",
       " Min.   : 0.000   Min.   :-1.0000   Min.   :0.0000   Min.   :-1.0000  \n",
       " 1st Qu.: 4.000   1st Qu.: 0.0000   1st Qu.:1.0000   1st Qu.: 0.0000  \n",
       " Median : 8.000   Median : 0.0000   Median :1.0000   Median : 1.0000  \n",
       " Mean   : 7.292   Mean   : 0.3208   Mean   :0.8915   Mean   : 0.5047  \n",
       " 3rd Qu.:11.000   3rd Qu.: 1.0000   3rd Qu.:1.0000   3rd Qu.: 1.0000  \n",
       " Max.   :12.000   Max.   : 2.0000   Max.   :1.0000   Max.   : 3.0000  \n",
       "      ПВЛ              ЭФПН          Абилитация     Сухая.иммерсия  \n",
       " Min.   :0.0000   Min.   :0.0000   Min.   :0.0000   Min.   :0.0000  \n",
       " 1st Qu.:0.0000   1st Qu.:0.0000   1st Qu.:0.0000   1st Qu.:0.0000  \n",
       " Median :0.0000   Median :1.0000   Median :0.0000   Median :0.0000  \n",
       " Mean   :0.2783   Mean   :0.6462   Mean   :0.4481   Mean   :0.6038  \n",
       " 3rd Qu.:1.0000   3rd Qu.:1.0000   3rd Qu.:1.0000   3rd Qu.:2.0000  \n",
       " Max.   :1.0000   Max.   :1.0000   Max.   :2.0000   Max.   :2.0000  \n",
       " возраст.начала.терапии    Рефлексы           БВ        Нарушения.1.5   \n",
       " Min.   :0.000          Min.   :0.000   Min.   :0.000   Min.   :0.0000  \n",
       " 1st Qu.:0.000          1st Qu.:1.000   1st Qu.:1.000   1st Qu.:0.0000  \n",
       " Median :3.000          Median :1.000   Median :1.000   Median :0.0000  \n",
       " Mean   :1.854          Mean   :1.632   Mean   :1.085   Mean   :0.1038  \n",
       " 3rd Qu.:3.000          3rd Qu.:3.000   3rd Qu.:2.000   3rd Qu.:0.0000  \n",
       " Max.   :4.000          Max.   :3.000   Max.   :2.000   Max.   :1.0000  \n",
       "  Нарушения.2     Признаки.инвалидности  Косоглазие.1   \n",
       " Min.   :0.0000   Min.   :0.0000        Min.   :0.0000  \n",
       " 1st Qu.:0.0000   1st Qu.:1.0000        1st Qu.:0.0000  \n",
       " Median :0.0000   Median :1.0000        Median :0.0000  \n",
       " Mean   :0.3349   Mean   :0.7547        Mean   :0.2642  \n",
       " 3rd Qu.:1.0000   3rd Qu.:1.0000        3rd Qu.:1.0000  \n",
       " Max.   :1.0000   Max.   :1.0000        Max.   :1.0000  \n",
       " Задержка.речевых.навыков.2     РАС.2         Избыточная.возбудимость.3\n",
       " Min.   :0.0000             Min.   :0.00000   Min.   :0.0000           \n",
       " 1st Qu.:1.0000             1st Qu.:0.00000   1st Qu.:1.0000           \n",
       " Median :1.0000             Median :0.00000   Median :1.0000           \n",
       " Mean   :0.8208             Mean   :0.06132   Mean   :0.7689           \n",
       " 3rd Qu.:1.0000             3rd Qu.:0.00000   3rd Qu.:1.0000           \n",
       " Max.   :1.0000             Max.   :1.00000   Max.   :1.0000           \n",
       " Нарушение.засыпания.0 Нарушение.бодрствования.0 Нарушение.сна.0 \n",
       " Min.   :0.0000        Min.   :0.00              Min.   :0.0000  \n",
       " 1st Qu.:1.0000        1st Qu.:0.00              1st Qu.:0.0000  \n",
       " Median :1.0000        Median :1.00              Median :1.0000  \n",
       " Mean   :0.7547        Mean   :0.75              Mean   :0.7406  \n",
       " 3rd Qu.:1.0000        3rd Qu.:1.00              3rd Qu.:1.0000  \n",
       " Max.   :1.0000        Max.   :2.00              Max.   :1.0000  \n",
       "  Двигательная         СЛФ               ГЦ               СС.Э       \n",
       " Min.   :0.0000   Min.   :0.0000   Min.   :0.00000   Min.   :0.0000  \n",
       " 1st Qu.:0.0000   1st Qu.:0.0000   1st Qu.:0.00000   1st Qu.:0.0000  \n",
       " Median :0.0000   Median :0.0000   Median :0.00000   Median :0.0000  \n",
       " Mean   :0.3632   Mean   :0.3255   Mean   :0.09906   Mean   :0.3585  \n",
       " 3rd Qu.:0.0000   3rd Qu.:1.0000   3rd Qu.:0.00000   3rd Qu.:0.0000  \n",
       " Max.   :2.0000   Max.   :2.0000   Max.   :2.00000   Max.   :3.0000  \n",
       "       РФ              ПФ          Косоглазие.2   ЭФ.Характер.нарушений.2\n",
       " Min.   :0.000   Min.   :0.0000   Min.   :0.000   Min.   :0.0000         \n",
       " 1st Qu.:0.000   1st Qu.:0.0000   1st Qu.:2.000   1st Qu.:0.0000         \n",
       " Median :1.000   Median :0.0000   Median :2.000   Median :0.0000         \n",
       " Mean   :1.057   Mean   :0.2028   Mean   :2.014   Mean   :0.8302         \n",
       " 3rd Qu.:2.000   3rd Qu.:0.0000   3rd Qu.:2.000   3rd Qu.:2.0000         \n",
       " Max.   :2.000   Max.   :2.0000   Max.   :5.000   Max.   :3.0000         \n",
       "      ИВЛ1      \n",
       " Min.   :0.000  \n",
       " 1st Qu.:0.000  \n",
       " Median :1.000  \n",
       " Mean   :1.189  \n",
       " 3rd Qu.:2.000  \n",
       " Max.   :5.000  "
      ]
     },
     "metadata": {},
     "output_type": "display_data"
    }
   ],
   "source": [
    "prem.num = prem\n",
    "prem.num$Пол = as.integer(prem.num$Пол) - 1\n",
    "prem.num$ЭКО = as.integer(prem.num$ЭКО) - 1\n",
    "prem.num$Гестация = as.integer(prem.num$Гестация) - 1\n",
    "prem.num$Апгар1 = as.integer(prem.num$Апгар1) - 1\n",
    "prem.num$Асфиксия = as.integer(prem.num$Асфиксия) - 1\n",
    "prem.num$Судороги0 = as.integer(prem.num$Судороги0) - 1\n",
    "prem.num$ИВЛ = as.integer(prem.num$ИВЛ) - 1\n",
    "prem.num$Куросурф = as.integer(prem.num$Куросурф) - 1\n",
    "prem.num$АСН7 = as.integer(prem.num$АСН7) - 1\n",
    "prem.num$ВУИ.сепсис = as.integer(prem.num$ВУИ.сепсис) - 1\n",
    "prem.num$СЭИ = as.integer(prem.num$СЭИ) - 1\n",
    "prem.num$НЭ = as.integer(prem.num$НЭ) - 1\n",
    "prem.num$ДС = as.integer(prem.num$ДС) - 1\n",
    "prem.num$ДН.степень = as.integer(prem.num$ДН.степень) - 1\n",
    "prem.num$ВЧК = as.integer(prem.num$ВЧК) - 1\n",
    "prem.num$ПВК.степень = as.integer(prem.num$ПВК.степень) - 1\n",
    "prem.num$ПВЛ = as.integer(prem.num$ПВЛ) - 1\n",
    "prem.num$ЭФПН = as.integer(prem.num$ЭФПН) - 1\n",
    "prem.num$Абилитация = as.integer(prem.num$Абилитация) - 1\n",
    "prem.num$Сухая.иммерсия = as.integer(prem.num$Сухая.иммерсия) - 1\n",
    "prem.num$возраст.начала.терапии = as.integer(prem.num$возраст.начала.терапии) - 1\n",
    "prem.num$Рефлексы = as.integer(prem.num$Рефлексы) - 1\n",
    "prem.num$БВ = as.integer(prem.num$БВ) - 1\n",
    "prem.num$Нарушения.1.5 = as.integer(prem.num$Нарушения.1.5) - 1\n",
    "prem.num$Нарушения.2 = as.integer(prem.num$Нарушения.2) - 1\n",
    "prem.num$Признаки.инвалидности = as.integer(prem.num$Признаки.инвалидности) - 1\n",
    "prem.num$Косоглазие.1 = as.integer(prem.num$Косоглазие.1) - 1\n",
    "prem.num$Задержка.речевых.навыков.2 = as.integer(prem.num$Задержка.речевых.навыков.2) - 1\n",
    "prem.num$РАС.2 = as.integer(prem.num$РАС.2) - 1\n",
    "prem.num$Избыточная.возбудимость.3 = as.integer(prem.num$Избыточная.возбудимость.3) - 1\n",
    "prem.num$Нарушение.засыпания.0 = as.integer(prem.num$Нарушение.засыпания.0) - 1\n",
    "prem.num$Нарушение.бодрствования.0 = as.integer(prem.num$Нарушение.бодрствования.0) - 1\n",
    "prem.num$Нарушение.сна.0 = as.integer(prem.num$Нарушение.сна.0) - 1\n",
    "prem.num$Двигательная = as.integer(prem.num$Двигательная) - 1\n",
    "prem.num$СЛФ = as.integer(prem.num$СЛФ) - 1\n",
    "prem.num$ГЦ = as.integer(prem.num$ГЦ) - 1\n",
    "prem.num$СС.Э = as.integer(prem.num$СС.Э) - 1\n",
    "prem.num$РФ = as.integer(prem.num$РФ) - 1\n",
    "prem.num$ПФ = as.integer(prem.num$ПФ) - 1\n",
    "prem.num$Косоглазие.2 = as.integer(prem.num$Косоглазие.2) - 1\n",
    "prem.num$ЭФ.Характер.нарушений.2 = as.integer(prem.num$ЭФ.Характер.нарушений.2) - 1\n",
    "\n",
    "prem.num$ИВЛ1 = cut(Длительность.ИВЛ, c(0, 1, 7, 14, 21, 30, 66), include.lowest=T, right=F)\n",
    "prem.num$ИВЛ1 = as.integer(prem.num$ИВЛ1) - 1\n",
    "\n",
    "summary(prem.num)\n",
    "\n",
    "default.warn = getOption(\"warn\")\n",
    "options(warn = -1)\n",
    "#chart.Correlation(prem.num, method=\"spearman\", histogram=TRUE, pch=16)\n",
    "options(warn = default.warn)"
   ]
  },
  {
   "cell_type": "markdown",
   "id": "4f715e8e-fae9-4fa7-b93e-2663ab70163d",
   "metadata": {
    "tags": []
   },
   "source": [
    "### Мозаики"
   ]
  },
  {
   "cell_type": "code",
   "execution_count": 14,
   "id": "1f135851-c0f3-4dec-bcb3-c2349e537f4b",
   "metadata": {
    "tags": []
   },
   "outputs": [
    {
     "data": {
      "image/png": "[encoded data removed]",
      "text/plain": [
       "plot without title"
      ]
     },
     "metadata": {
      "image/png": {
       "height": 540,
       "width": 720
      }
     },
     "output_type": "display_data"
    }
   ],
   "source": [
    "mosaic(~Судороги0 + АСН7\n",
    "       , shade=TRUE\n",
    "       , gp_labels=gpar(fontsize=10)\n",
    "       , keep_aspect_ratio=FALSE\n",
    "       , split_vertical=TRUE\n",
    "       , labeling=labeling_values\n",
    "       , offset_varnames=c(left=5, top=2)\n",
    "       , offset_labels=c(left=2.5, top=1)\n",
    "       , rot_labels=c(left=0, top=0)\n",
    "       , margins=c(5,2,2,8)\n",
    "       , labeling_args=list(set_varnames=c(Судороги=\"ПС в раннем неотанальном периоде\", АСН=\"ПС в неотанальном периоде\"))\n",
    "      )"
   ]
  },
  {
   "cell_type": "code",
   "execution_count": 15,
   "id": "9d1d7eea-2200-46fd-862e-739727572ad0",
   "metadata": {
    "tags": []
   },
   "outputs": [
    {
     "data": {
      "image/png": "[encoded data removed]",
      "text/plain": [
       "plot without title"
      ]
     },
     "metadata": {
      "image/png": {
       "height": 540,
       "width": 720
      }
     },
     "output_type": "display_data"
    }
   ],
   "source": [
    "mosaic(~ЭФПН + ПВЛ\n",
    "       , shade=TRUE\n",
    "       , gp_labels=gpar(fontsize=10)\n",
    "       , keep_aspect_ratio=FALSE\n",
    "       , split_vertical=TRUE\n",
    "       , labeling=labeling_values\n",
    "       , offset_varnames=c(left=5, top=2)\n",
    "       , offset_labels=c(left=2.5, top=1)\n",
    "       , rot_labels=c(left=0, top=0)\n",
    "       , margins=c(5,2,2,8)\n",
    "       , labeling_args=list(set_varnames=c(Судороги=\"ПС в раннем неотанальном периоде\", АСН=\"ПС в неотанальном периоде\"))\n",
    "      )"
   ]
  },
  {
   "cell_type": "code",
   "execution_count": 16,
   "id": "bce96080-5eb9-4a69-b49c-58bd65947ebd",
   "metadata": {
    "tags": []
   },
   "outputs": [
    {
     "data": {
      "image/png": "[encoded data removed]",
      "text/plain": [
       "plot without title"
      ]
     },
     "metadata": {
      "image/png": {
       "height": 540,
       "width": 720
      }
     },
     "output_type": "display_data"
    }
   ],
   "source": [
    "mosaic(~ПВЛ + БВ\n",
    "       , shade=TRUE\n",
    "       , gp_labels=gpar(fontsize=10)\n",
    "       , keep_aspect_ratio=FALSE\n",
    "       , split_vertical=TRUE\n",
    "       , labeling=labeling_values\n",
    "       , offset_varnames=c(left=5, top=2)\n",
    "       , offset_labels=c(left=2.5, top=1)\n",
    "       , rot_labels=c(left=0, top=0)\n",
    "       , margins=c(5,2,2,8)\n",
    "       , labeling_args=list(set_varnames=c(Судороги=\"ПС в раннем неотанальном периоде\", АСН=\"ПС в неотанальном периоде\"))\n",
    "      )"
   ]
  },
  {
   "cell_type": "code",
   "execution_count": 17,
   "id": "bfae108b-2a2f-4f21-a69e-639f4c1ad986",
   "metadata": {
    "tags": []
   },
   "outputs": [
    {
     "data": {
      "image/png": "[encoded data removed]",
      "text/plain": [
       "Plot with title \"\""
      ]
     },
     "metadata": {
      "image/png": {
       "height": 540,
       "width": 720
      }
     },
     "output_type": "display_data"
    }
   ],
   "source": [
    "prem2.num = prem.num[, c(\"Гестация\", \"Асфиксия\", \"ИВЛ1\", \"АСН7\", \"ВУИ.сепсис\", \"СЭИ\", \"ДН.степень\", \"ПВК.степень\"\n",
    "                          , \"ПВЛ\", \"ЭФПН\", \"БВ\", \"Абилитация\", \"Рефлексы\", \"Нарушения.2\")\n",
    "                     ]\n",
    "\n",
    "default.warn = getOption(\"warn\")\n",
    "options(warn = -1)\n",
    "chart.Correlation(prem2.num, method=\"spearman\", histogram=TRUE, pch=16)\n",
    "options(warn = default.warn)"
   ]
  },
  {
   "cell_type": "code",
   "execution_count": 18,
   "id": "2635d1dc-78d8-4146-aa56-91d2f24e1618",
   "metadata": {},
   "outputs": [
    {
     "name": "stdout",
     "output_type": "stream",
     "text": [
      "Call:corr.test(x = prem2.num, use = \"pairwise\", method = \"spearman\", \n",
      "    adjust = \"none\", alpha = 0.05)\n",
      "Correlation matrix \n",
      "            Гестация Асфиксия  ИВЛ1  АСН7 ВУИ.сепсис   СЭИ ДН.степень\n",
      "Гестация        1.00     0.11 -0.64 -0.41      -0.36  0.12      -0.41\n",
      "Асфиксия        0.11     1.00  0.10  0.30       0.26  0.47       0.19\n",
      "ИВЛ1           -0.64     0.10  1.00  0.49       0.36  0.06       0.39\n",
      "АСН7           -0.41     0.30  0.49  1.00       0.41  0.20       0.37\n",
      "ВУИ.сепсис     -0.36     0.26  0.36  0.41       1.00  0.19       0.37\n",
      "СЭИ             0.12     0.47  0.06  0.20       0.19  1.00       0.28\n",
      "ДН.степень     -0.41     0.19  0.39  0.37       0.37  0.28       1.00\n",
      "ПВК.степень    -0.26     0.32  0.40  0.40       0.33  0.24       0.39\n",
      "ПВЛ            -0.33     0.08  0.45  0.24       0.24  0.06       0.16\n",
      "ЭФПН            0.31    -0.17 -0.42 -0.29      -0.21 -0.14      -0.19\n",
      "БВ             -0.37     0.13  0.47  0.27       0.36  0.09       0.27\n",
      "Абилитация      0.26     0.11 -0.33 -0.20      -0.19  0.04      -0.26\n",
      "Рефлексы       -0.58     0.08  0.58  0.49       0.35  0.06       0.30\n",
      "Нарушения.2     0.43     0.04 -0.46 -0.28      -0.32  0.02      -0.29\n",
      "            ПВК.степень   ПВЛ  ЭФПН    БВ Абилитация Рефлексы Нарушения.2\n",
      "Гестация          -0.26 -0.33  0.31 -0.37       0.26    -0.58        0.43\n",
      "Асфиксия           0.32  0.08 -0.17  0.13       0.11     0.08        0.04\n",
      "ИВЛ1               0.40  0.45 -0.42  0.47      -0.33     0.58       -0.46\n",
      "АСН7               0.40  0.24 -0.29  0.27      -0.20     0.49       -0.28\n",
      "ВУИ.сепсис         0.33  0.24 -0.21  0.36      -0.19     0.35       -0.32\n",
      "СЭИ                0.24  0.06 -0.14  0.09       0.04     0.06        0.02\n",
      "ДН.степень         0.39  0.16 -0.19  0.27      -0.26     0.30       -0.29\n",
      "ПВК.степень        1.00  0.42 -0.53  0.48      -0.35     0.33       -0.43\n",
      "ПВЛ                0.42  1.00 -0.84  0.86      -0.20     0.46       -0.42\n",
      "ЭФПН              -0.53 -0.84  1.00 -0.69       0.02    -0.39        0.25\n",
      "БВ                 0.48  0.86 -0.69  1.00      -0.35     0.54       -0.66\n",
      "Абилитация        -0.35 -0.20  0.02 -0.35       1.00    -0.14        0.65\n",
      "Рефлексы           0.33  0.46 -0.39  0.54      -0.14     1.00       -0.49\n",
      "Нарушения.2       -0.43 -0.42  0.25 -0.66       0.65    -0.49        1.00\n",
      "Sample Size \n",
      "[1] 212\n",
      "Probability values (Entries above the diagonal are adjusted for multiple tests.) \n",
      "            Гестация Асфиксия ИВЛ1 АСН7 ВУИ.сепсис  СЭИ ДН.степень ПВК.степень\n",
      "Гестация        0.00     0.10 0.00    0       0.00 0.08       0.00           0\n",
      "Асфиксия        0.10     0.00 0.14    0       0.00 0.00       0.00           0\n",
      "ИВЛ1            0.00     0.14 0.00    0       0.00 0.37       0.00           0\n",
      "АСН7            0.00     0.00 0.00    0       0.00 0.00       0.00           0\n",
      "ВУИ.сепсис      0.00     0.00 0.00    0       0.00 0.00       0.00           0\n",
      "СЭИ             0.08     0.00 0.37    0       0.00 0.00       0.00           0\n",
      "ДН.степень      0.00     0.00 0.00    0       0.00 0.00       0.00           0\n",
      "ПВК.степень     0.00     0.00 0.00    0       0.00 0.00       0.00           0\n",
      "ПВЛ             0.00     0.28 0.00    0       0.00 0.40       0.02           0\n",
      "ЭФПН            0.00     0.01 0.00    0       0.00 0.05       0.01           0\n",
      "БВ              0.00     0.05 0.00    0       0.00 0.17       0.00           0\n",
      "Абилитация      0.00     0.11 0.00    0       0.01 0.58       0.00           0\n",
      "Рефлексы        0.00     0.23 0.00    0       0.00 0.39       0.00           0\n",
      "Нарушения.2     0.00     0.59 0.00    0       0.00 0.73       0.00           0\n",
      "             ПВЛ ЭФПН   БВ Абилитация Рефлексы Нарушения.2\n",
      "Гестация    0.00 0.00 0.00       0.00     0.00        0.00\n",
      "Асфиксия    0.28 0.01 0.05       0.11     0.23        0.59\n",
      "ИВЛ1        0.00 0.00 0.00       0.00     0.00        0.00\n",
      "АСН7        0.00 0.00 0.00       0.00     0.00        0.00\n",
      "ВУИ.сепсис  0.00 0.00 0.00       0.01     0.00        0.00\n",
      "СЭИ         0.40 0.05 0.17       0.58     0.39        0.73\n",
      "ДН.степень  0.02 0.01 0.00       0.00     0.00        0.00\n",
      "ПВК.степень 0.00 0.00 0.00       0.00     0.00        0.00\n",
      "ПВЛ         0.00 0.00 0.00       0.00     0.00        0.00\n",
      "ЭФПН        0.00 0.00 0.00       0.82     0.00        0.00\n",
      "БВ          0.00 0.00 0.00       0.00     0.00        0.00\n",
      "Абилитация  0.00 0.82 0.00       0.00     0.04        0.00\n",
      "Рефлексы    0.00 0.00 0.00       0.04     0.00        0.00\n",
      "Нарушения.2 0.00 0.00 0.00       0.00     0.00        0.00\n",
      "\n",
      " Confidence intervals based upon normal theory.  To get bootstrapped values, try cor.ci\n",
      "            raw.lower raw.r raw.upper raw.p lower.adj upper.adj\n",
      "Геста-Асфик     -0.02  0.11      0.24  0.10     -0.13      0.34\n",
      "Геста-ИВЛ1      -0.71 -0.64     -0.55  0.00     -0.76     -0.48\n",
      "Геста-АСН7      -0.52 -0.41     -0.29  0.00     -0.59     -0.20\n",
      "Геста-ВУИсе     -0.47 -0.36     -0.23  0.00     -0.55     -0.13\n",
      "Геста-СЭИ       -0.01  0.12      0.25  0.08     -0.12      0.35\n",
      "Геста-ДНсте     -0.52 -0.41     -0.29  0.00     -0.59     -0.20\n",
      "Геста-ПВКст     -0.38 -0.26     -0.13  0.00     -0.46     -0.03\n",
      "Геста-ПВЛ       -0.44 -0.33     -0.20  0.00     -0.52     -0.10\n",
      "Геста-ЭФПН       0.18  0.31      0.43  0.00      0.08      0.51\n",
      "Геста-БВ        -0.48 -0.37     -0.25  0.00     -0.56     -0.15\n",
      "Геста-Абили      0.13  0.26      0.38  0.00      0.03      0.47\n",
      "Геста-Рефле     -0.66 -0.58     -0.48  0.00     -0.71     -0.39\n",
      "Геста-Наруш      0.31  0.43      0.53  0.00      0.21      0.60\n",
      "Асфик-ИВЛ1      -0.03  0.10      0.23  0.14     -0.14      0.33\n",
      "Асфик-АСН7       0.17  0.30      0.42  0.00      0.07      0.50\n",
      "Асфик-ВУИсе      0.13  0.26      0.38  0.00      0.03      0.47\n",
      "Асфик-СЭИ        0.36  0.47      0.57  0.00      0.27      0.64\n",
      "Асфик-ДНсте      0.06  0.19      0.32  0.00     -0.04      0.41\n",
      "Асфик-ПВКст      0.19  0.32      0.43  0.00      0.09      0.51\n",
      "Асфик-ПВЛ       -0.06  0.08      0.21  0.28     -0.16      0.30\n",
      "Асфик-ЭФПН      -0.30 -0.17     -0.04  0.01     -0.39      0.07\n",
      "Асфик-БВ         0.00  0.13      0.26  0.05     -0.10      0.36\n",
      "Асфик-Абили     -0.02  0.11      0.24  0.11     -0.13      0.34\n",
      "Асфик-Рефле     -0.05  0.08      0.22  0.23     -0.15      0.31\n",
      "Асфик-Наруш     -0.10  0.04      0.17  0.59     -0.20      0.27\n",
      "ИВЛ1-АСН7        0.38  0.49      0.59  0.00      0.29      0.65\n",
      "ИВЛ1-ВУИсе       0.24  0.36      0.47  0.00      0.14      0.55\n",
      "ИВЛ1-СЭИ        -0.07  0.06      0.19  0.37     -0.18      0.29\n",
      "ИВЛ1-ДНсте       0.27  0.39      0.50  0.00      0.17      0.57\n",
      "ИВЛ1-ПВКст       0.28  0.40      0.50  0.00      0.18      0.58\n",
      "ИВЛ1-ПВЛ         0.33  0.45      0.55  0.00      0.24      0.62\n",
      "ИВЛ1-ЭФПН       -0.53 -0.42     -0.31  0.00     -0.60     -0.21\n",
      "ИВЛ1-БВ          0.36  0.47      0.57  0.00      0.26      0.63\n",
      "ИВЛ1-Абили      -0.44 -0.33     -0.20  0.00     -0.52     -0.10\n",
      "ИВЛ1-Рефле       0.48  0.58      0.66  0.00      0.40      0.72\n",
      "ИВЛ1-Наруш      -0.56 -0.46     -0.35  0.00     -0.63     -0.26\n",
      "АСН7-ВУИсе       0.29  0.41      0.51  0.00      0.19      0.59\n",
      "АСН7-СЭИ         0.06  0.20      0.32  0.00     -0.04      0.41\n",
      "АСН7-ДНсте       0.25  0.37      0.48  0.00      0.15      0.56\n",
      "АСН7-ПВКст       0.28  0.40      0.51  0.00      0.19      0.58\n",
      "АСН7-ПВЛ         0.11  0.24      0.36  0.00      0.01      0.45\n",
      "АСН7-ЭФПН       -0.41 -0.29     -0.16  0.00     -0.49     -0.06\n",
      "АСН7-БВ          0.14  0.27      0.39  0.00      0.04      0.48\n",
      "АСН7-Абили      -0.32 -0.20     -0.06  0.00     -0.41      0.04\n",
      "АСН7-Рефле       0.38  0.49      0.58  0.00      0.29      0.65\n",
      "АСН7-Наруш      -0.40 -0.28     -0.15  0.00     -0.48     -0.05\n",
      "ВУИсе-СЭИ        0.06  0.19      0.32  0.00     -0.04      0.41\n",
      "ВУИсе-ДНсте      0.24  0.37      0.48  0.00      0.14      0.55\n",
      "ВУИсе-ПВКст      0.21  0.33      0.45  0.00      0.11      0.53\n",
      "ВУИсе-ПВЛ        0.11  0.24      0.37  0.00      0.01      0.45\n",
      "ВУИсе-ЭФПН      -0.34 -0.21     -0.08  0.00     -0.43      0.02\n",
      "ВУИсе-БВ         0.24  0.36      0.48  0.00      0.14      0.55\n",
      "ВУИсе-Абили     -0.32 -0.19     -0.06  0.01     -0.41      0.05\n",
      "ВУИсе-Рефле      0.23  0.35      0.47  0.00      0.13      0.54\n",
      "ВУИсе-Наруш     -0.43 -0.32     -0.19  0.00     -0.51     -0.09\n",
      "СЭИ-ДНсте        0.15  0.28      0.40  0.00      0.05      0.49\n",
      "СЭИ-ПВКст        0.11  0.24      0.36  0.00      0.00      0.45\n",
      "СЭИ-ПВЛ         -0.08  0.06      0.19  0.40     -0.18      0.29\n",
      "СЭИ-ЭФПН        -0.27 -0.14      0.00  0.05     -0.36      0.10\n",
      "СЭИ-БВ          -0.04  0.09      0.23  0.17     -0.14      0.32\n",
      "СЭИ-Абили       -0.10  0.04      0.17  0.58     -0.20      0.27\n",
      "СЭИ-Рефле       -0.08  0.06      0.19  0.39     -0.18      0.29\n",
      "СЭИ-Наруш       -0.11  0.02      0.16  0.73     -0.21      0.26\n",
      "ДНсте-ПВКст      0.27  0.39      0.50  0.00      0.17      0.57\n",
      "ДНсте-ПВЛ        0.02  0.16      0.29  0.02     -0.08      0.38\n",
      "ДНсте-ЭФПН      -0.31 -0.19     -0.05  0.01     -0.40      0.05\n",
      "ДНсте-БВ         0.14  0.27      0.39  0.00      0.03      0.47\n",
      "ДНсте-Абили     -0.38 -0.26     -0.13  0.00     -0.46     -0.02\n",
      "ДНсте-Рефле      0.17  0.30      0.42  0.00      0.07      0.50\n",
      "ДНсте-Наруш     -0.41 -0.29     -0.16  0.00     -0.49     -0.06\n",
      "ПВКст-ПВЛ        0.30  0.42      0.53  0.00      0.21      0.60\n",
      "ПВКст-ЭФПН      -0.62 -0.53     -0.43  0.00     -0.68     -0.34\n",
      "ПВКст-БВ         0.36  0.48      0.57  0.00      0.27      0.64\n",
      "ПВКст-Абили     -0.46 -0.35     -0.23  0.00     -0.54     -0.13\n",
      "ПВКст-Рефле      0.21  0.33      0.45  0.00      0.11      0.53\n",
      "ПВКст-Наруш     -0.54 -0.43     -0.32  0.00     -0.61     -0.22\n",
      "ПВЛ-ЭФПН        -0.88 -0.84     -0.79  0.00     -0.90     -0.75\n",
      "ПВЛ-БВ           0.81  0.86      0.89  0.00      0.78      0.91\n",
      "ПВЛ-Абили       -0.33 -0.20     -0.07  0.00     -0.42      0.03\n",
      "ПВЛ-Рефле        0.35  0.46      0.56  0.00      0.26      0.63\n",
      "ПВЛ-Наруш       -0.52 -0.42     -0.30  0.00     -0.59     -0.20\n",
      "ЭФПН-БВ         -0.76 -0.69     -0.62  0.00     -0.80     -0.55\n",
      "ЭФПН-Абили      -0.12  0.02      0.15  0.82     -0.22      0.25\n",
      "ЭФПН-Рефле      -0.50 -0.39     -0.27  0.00     -0.57     -0.17\n",
      "ЭФПН-Наруш       0.12  0.25      0.38  0.00      0.02      0.46\n",
      "БВ-Абили        -0.46 -0.35     -0.22  0.00     -0.54     -0.12\n",
      "БВ-Рефле         0.43  0.54      0.63  0.00      0.35      0.68\n",
      "БВ-Наруш        -0.73 -0.66     -0.58  0.00     -0.78     -0.51\n",
      "Абили-Рефле     -0.27 -0.14     -0.01  0.04     -0.36      0.10\n",
      "Абили-Наруш      0.56  0.65      0.72  0.00      0.49      0.77\n",
      "Рефле-Наруш     -0.59 -0.49     -0.39  0.00     -0.65     -0.29\n"
     ]
    }
   ],
   "source": [
    "default.warn = getOption(\"warn\")\n",
    "options(warn = -1)\n",
    "print(corr.test(prem2.num, use=\"pairwise\", method=\"spearman\", adjust=\"none\", alpha=.05), short=FALSE)\n",
    "options(warn = default.warn)"
   ]
  },
  {
   "cell_type": "markdown",
   "id": "9adf7fab-4c17-4238-ba46-1e5c10e562ef",
   "metadata": {
    "tags": []
   },
   "source": [
    "## Транформация данных"
   ]
  },
  {
   "cell_type": "markdown",
   "id": "e45b5dae-5ee7-4c38-900f-db8d4600de9f",
   "metadata": {},
   "source": [
    "ИВЛ разбиваем на периоды (полных суток):\n",
    "* до суток\n",
    "* 1-6 суток (до недели)\n",
    "* 7-13 суток (2 недели)\n",
    "* 14-20 суток (3 недели)\n",
    "* до 30 суток (1 мес)\n",
    "* больше 1 месяца (максимальное значение -- 66)"
   ]
  },
  {
   "cell_type": "code",
   "execution_count": 19,
   "id": "50416118-8fcb-4285-8af1-3736b8361a0e",
   "metadata": {
    "tags": []
   },
   "outputs": [],
   "source": [
    "prem$ИВЛ1 = cut(Длительность.ИВЛ, c(0, 1, 7, 14, 21, 30, 66), include.lowest=T, right=F)\n",
    "levels(prem$ИВЛ1)[1] = \"нет\""
   ]
  },
  {
   "cell_type": "markdown",
   "id": "10861188-f970-4821-b97d-14ab429e3939",
   "metadata": {
    "tags": []
   },
   "source": [
    "Степень ДН"
   ]
  },
  {
   "cell_type": "code",
   "execution_count": 20,
   "id": "a4fb2e0a-460b-48a1-8166-d6903795c558",
   "metadata": {
    "tags": []
   },
   "outputs": [],
   "source": [
    "prem$ДН.степень = factor(prem$ДН.степень)\n",
    "levels(prem$ДН.степень)[1] = \"нет\""
   ]
  },
  {
   "cell_type": "markdown",
   "id": "bcc6b439-474a-4306-a37a-ab26994a0682",
   "metadata": {
    "tags": []
   },
   "source": [
    "Абилитация"
   ]
  },
  {
   "cell_type": "code",
   "execution_count": 21,
   "id": "bdd68278-fc9f-4e97-8a55-2c58f16729aa",
   "metadata": {
    "tags": []
   },
   "outputs": [],
   "source": [
    "# levels(prem$Абилитация)[3] = 'да'\n",
    "# levels(prem$Абилитация)"
   ]
  },
  {
   "cell_type": "markdown",
   "id": "0704ca37-2824-4e45-bdb5-2b2819fe1c63",
   "metadata": {},
   "source": [
    "Непустые данные"
   ]
  },
  {
   "cell_type": "code",
   "execution_count": 22,
   "id": "0b97fdc5-bd59-44e9-b9b2-4fe500fdbd8e",
   "metadata": {
    "tags": []
   },
   "outputs": [
    {
     "data": {
      "text/plain": [
       "     Гестация  Асфиксия       ИВЛ1     АСН7           ВУИ.сепсис   СЭИ     \n",
       " [22; 28]:36   нет: 77   нет    :71   нет:126   нет        : 21   нет: 63  \n",
       " (28; 31]:51   да :135   [1,7)  :83   да : 63   ВУИ        :158   да :149  \n",
       " (31; 33]:55             [7,14) :32   СС : 23   ВУИ, сепсис: 33            \n",
       " (33; 36]:70             [14,21):10                                        \n",
       "                         [21,30): 5                                        \n",
       "                         [30,66]:11                                        \n",
       " ДН.степень ПВК.степень         ЭФПН       БВ          Абилитация \n",
       " нет: 14    Length:212         да : 75   нет: 41   нет      :123  \n",
       " 1  :122    Class :character   нет:137   СПП:112   да       : 83  \n",
       " 2  : 70    Mode  :character             ПВЛ: 59   после ПВЛ:  6  \n",
       " 3  :  6                                                          \n",
       "                                                                  \n",
       "                                                                  \n",
       "          Рефлексы   Нарушения.2\n",
       " соответствуют:  5   НН :141    \n",
       " повышеные    :123   БНН: 71    \n",
       " высокие      : 29              \n",
       " угнетение ЦНС: 55              \n",
       "                                \n",
       "                                "
      ]
     },
     "metadata": {},
     "output_type": "display_data"
    }
   ],
   "source": [
    "prem.omit = dplyr::select(prem, Гестация, Асфиксия, ИВЛ1, АСН7, ВУИ.сепсис, СЭИ, ДН.степень, ПВК.степень\n",
    "                           , БВ, Абилитация, Рефлексы, Нарушения.2\n",
    "                          )\n",
    "prem = prem[, c(\"Гестация\", \"Асфиксия\", \"ИВЛ1\", \"АСН7\", \"ВУИ.сепсис\", \"СЭИ\", \"ДН.степень\", \"ПВК.степень\"\n",
    "                , \"ЭФПН\", \"БВ\", \"Абилитация\", \"Рефлексы\", \"Нарушения.2\"\n",
    "               )\n",
    "           ]\n",
    "summary(prem)"
   ]
  },
  {
   "cell_type": "code",
   "execution_count": 23,
   "id": "d156297e-48f9-4079-8e3a-52b914584205",
   "metadata": {
    "tags": []
   },
   "outputs": [],
   "source": [
    "names(prem)[names(prem) == \"Нарушения.2\"] = \"Нарушения\"\n",
    "names(prem.num)[names(prem.num) == \"Нарушения.2\"] = \"Нарушения\"\n",
    "names(prem.omit)[names(prem.omit) == \"Нарушения.2\"] = \"Нарушения\""
   ]
  },
  {
   "cell_type": "markdown",
   "id": "993ad621-8dee-4e91-8ba7-d8798aed4395",
   "metadata": {
    "tags": []
   },
   "source": [
    "## Нарушения"
   ]
  },
  {
   "cell_type": "markdown",
   "id": "0d2997bd-2fa4-434e-86fb-bc8d3d1f4529",
   "metadata": {
    "tags": []
   },
   "source": [
    "### Определение обучающей и тестовой выборок  "
   ]
  },
  {
   "cell_type": "code",
   "execution_count": 24,
   "id": "811fac9d-bb88-433d-a677-d03b3dd8d8f8",
   "metadata": {
    "tags": []
   },
   "outputs": [],
   "source": [
    "set.seed(421)\n",
    "test.proportion = 0.8\n",
    "split = initial_split(prem, prop = test.proportion, strata = Нарушения)\n",
    "train = split %>% \n",
    "        training()\n",
    "test = split %>% \n",
    "        testing()"
   ]
  },
  {
   "cell_type": "markdown",
   "id": "b302cb27-cb05-4914-ac0b-0b3342fd9395",
   "metadata": {
    "tags": []
   },
   "source": [
    "### Пошаговая регрессия\n",
    "Пошаговая регрессия генерирует лучший набор факторов, основываясь на величине Akaike Information Criterion (AIC) и их значимости"
   ]
  },
  {
   "cell_type": "markdown",
   "id": "91dbcd23-4d0c-4bc2-a19b-7c69e8e2642b",
   "metadata": {},
   "source": [
    "#### Нулевая и полная модели"
   ]
  },
  {
   "cell_type": "markdown",
   "id": "88e0845d-30ce-4740-9f0b-ad5d86836836",
   "metadata": {},
   "source": [
    "Нулевая модель -- Нарушения ни от чего не зависят. \n",
    "* Данные -- prem.omit\n",
    "* family -- binomial"
   ]
  },
  {
   "cell_type": "code",
   "execution_count": 25,
   "id": "e4263456-747e-4e8c-88c7-9f309ecc8e08",
   "metadata": {
    "tags": []
   },
   "outputs": [
    {
     "data": {
      "text/plain": [
       "\n",
       "Call:\n",
       "glm(formula = Нарушения ~ 1, family = binomial(link = \"logit\"), \n",
       "    data = prem)\n",
       "\n",
       "Deviance Residuals: \n",
       "    Min       1Q   Median       3Q      Max  \n",
       "-0.9031  -0.9031  -0.9031   1.4791   1.4791  \n",
       "\n",
       "Coefficients:\n",
       "            Estimate Std. Error z value Pr(>|z|)    \n",
       "(Intercept)  -0.6861     0.1455  -4.715 2.42e-06 ***\n",
       "---\n",
       "Signif. codes:  0 '***' 0.001 '**' 0.01 '*' 0.05 '.' 0.1 ' ' 1\n",
       "\n",
       "(Dispersion parameter for binomial family taken to be 1)\n",
       "\n",
       "    Null deviance: 270.34  on 211  degrees of freedom\n",
       "Residual deviance: 270.34  on 211  degrees of freedom\n",
       "AIC: 272.34\n",
       "\n",
       "Number of Fisher Scoring iterations: 4\n"
      ]
     },
     "metadata": {},
     "output_type": "display_data"
    }
   ],
   "source": [
    "model.null = glm(Нарушения ~ 1, data=prem, family = binomial(link=\"logit\"))\n",
    "summary(model.null)"
   ]
  },
  {
   "cell_type": "markdown",
   "id": "701a4ae5-7b95-41f7-a03c-14b796a14084",
   "metadata": {},
   "source": [
    "Полная модель -- Нарушения зависит от всех переменных"
   ]
  },
  {
   "cell_type": "code",
   "execution_count": 26,
   "id": "5b662f38-1077-4b31-a9f2-6679251cbfb5",
   "metadata": {
    "tags": []
   },
   "outputs": [
    {
     "name": "stderr",
     "output_type": "stream",
     "text": [
      "Warning message:\n",
      "\"glm.fit: алгоритм не сошелся\"\n",
      "Warning message:\n",
      "\"glm.fit: возникли подогнанные вероятности 0 или 1\"\n"
     ]
    },
    {
     "data": {
      "text/plain": [
       "\n",
       "Call:\n",
       "glm(formula = Нарушения ~ ., family = binomial(link = \"logit\"), \n",
       "    data = prem)\n",
       "\n",
       "Deviance Residuals: \n",
       "       Min          1Q      Median          3Q         Max  \n",
       "-4.383e-05  -2.100e-08  -2.100e-08   2.100e-08   5.114e-05  \n",
       "\n",
       "Coefficients:\n",
       "                        Estimate Std. Error z value Pr(>|z|)\n",
       "(Intercept)             -150.326 403961.828   0.000    1.000\n",
       "Гестация(28; 31]           3.317 103747.743   0.000    1.000\n",
       "Гестация(31; 33]          43.960 116850.857   0.000    1.000\n",
       "Гестация(33; 36]          15.697 136319.399   0.000    1.000\n",
       "Асфиксияда                12.594  77982.603   0.000    1.000\n",
       "ИВЛ1[1,7)                -42.697  38810.887  -0.001    0.999\n",
       "ИВЛ1[7,14)               -19.275  94950.822   0.000    1.000\n",
       "ИВЛ1[14,21)              -55.022 171682.958   0.000    1.000\n",
       "ИВЛ1[21,30)              -21.041 539662.862   0.000    1.000\n",
       "ИВЛ1[30,66]              -82.597 137577.535  -0.001    1.000\n",
       "АСН7да                    55.892  53161.272   0.001    0.999\n",
       "АСН7СС                    57.331  94572.904   0.001    1.000\n",
       "ВУИ.сепсисВУИ            -12.622  74797.957   0.000    1.000\n",
       "ВУИ.сепсисВУИ, сепсис     10.354 120131.751   0.000    1.000\n",
       "СЭИда                    -18.010  70375.825   0.000    1.000\n",
       "ДН.степень1              217.812 209844.136   0.001    0.999\n",
       "ДН.степень2              224.150 192649.718   0.001    0.999\n",
       "ДН.степень3              242.623 302914.110   0.001    0.999\n",
       "ПВК.степень1              16.773  87842.021   0.000    1.000\n",
       "ПВК.степень2             -23.785  82991.938   0.000    1.000\n",
       "ПВК.степень3              -7.788 237710.760   0.000    1.000\n",
       "ПВК.степень4              51.323 178627.459   0.000    1.000\n",
       "ЭФПНнет                    5.903  83137.668   0.000    1.000\n",
       "БВСПП                   -179.693 135632.534  -0.001    0.999\n",
       "БВПВЛ                   -164.917 137772.909  -0.001    0.999\n",
       "Абилитацияда             119.740  70081.638   0.002    0.999\n",
       "Абилитацияпосле ПВЛ       42.585 445490.045   0.000    1.000\n",
       "Рефлексыповышеные         36.101 346469.329   0.000    1.000\n",
       "Рефлексывысокие          -49.965 350934.577   0.000    1.000\n",
       "Рефлексыугнетение ЦНС     -7.843 351974.825   0.000    1.000\n",
       "\n",
       "(Dispersion parameter for binomial family taken to be 1)\n",
       "\n",
       "    Null deviance: 2.7034e+02  on 211  degrees of freedom\n",
       "Residual deviance: 1.5740e-08  on 182  degrees of freedom\n",
       "AIC: 60\n",
       "\n",
       "Number of Fisher Scoring iterations: 25\n"
      ]
     },
     "metadata": {},
     "output_type": "display_data"
    }
   ],
   "source": [
    "model.full = glm(Нарушения ~ ., data=prem, family = binomial(link=\"logit\"))\n",
    "summary(model.full)"
   ]
  },
  {
   "cell_type": "code",
   "execution_count": 27,
   "id": "8c5eeafc-fa32-42aa-82e9-5cd3127d37b3",
   "metadata": {
    "tags": []
   },
   "outputs": [
    {
     "data": {
      "text/html": [
       "<table class=\"dataframe\">\n",
       "<caption>A anova: 2 × 4</caption>\n",
       "<thead>\n",
       "\t<tr><th></th><th scope=col>Resid. Df</th><th scope=col>Resid. Dev</th><th scope=col>Df</th><th scope=col>Deviance</th></tr>\n",
       "\t<tr><th></th><th scope=col>&lt;dbl&gt;</th><th scope=col>&lt;dbl&gt;</th><th scope=col>&lt;dbl&gt;</th><th scope=col>&lt;dbl&gt;</th></tr>\n",
       "</thead>\n",
       "<tbody>\n",
       "\t<tr><th scope=row>1</th><td>211</td><td>2.703417e+02</td><td>NA</td><td>      NA</td></tr>\n",
       "\t<tr><th scope=row>2</th><td>182</td><td>1.573963e-08</td><td>29</td><td>270.3417</td></tr>\n",
       "</tbody>\n",
       "</table>\n"
      ],
      "text/latex": [
       "A anova: 2 × 4\n",
       "\\begin{tabular}{r|llll}\n",
       "  & Resid. Df & Resid. Dev & Df & Deviance\\\\\n",
       "  & <dbl> & <dbl> & <dbl> & <dbl>\\\\\n",
       "\\hline\n",
       "\t1 & 211 & 2.703417e+02 & NA &       NA\\\\\n",
       "\t2 & 182 & 1.573963e-08 & 29 & 270.3417\\\\\n",
       "\\end{tabular}\n"
      ],
      "text/markdown": [
       "\n",
       "A anova: 2 × 4\n",
       "\n",
       "| <!--/--> | Resid. Df &lt;dbl&gt; | Resid. Dev &lt;dbl&gt; | Df &lt;dbl&gt; | Deviance &lt;dbl&gt; |\n",
       "|---|---|---|---|---|\n",
       "| 1 | 211 | 2.703417e+02 | NA |       NA |\n",
       "| 2 | 182 | 1.573963e-08 | 29 | 270.3417 |\n",
       "\n"
      ],
      "text/plain": [
       "  Resid. Df Resid. Dev   Df Deviance\n",
       "1 211       2.703417e+02 NA       NA\n",
       "2 182       1.573963e-08 29 270.3417"
      ]
     },
     "metadata": {},
     "output_type": "display_data"
    }
   ],
   "source": [
    "anova(model.null, model.full)"
   ]
  },
  {
   "cell_type": "markdown",
   "id": "64fa5bed-804d-4880-8ca4-d5534209e13d",
   "metadata": {},
   "source": [
    "#### Автоподбор (прямой)"
   ]
  },
  {
   "cell_type": "code",
   "execution_count": 28,
   "id": "65101843-a10b-4b0a-8d53-50dffd3ad780",
   "metadata": {
    "tags": []
   },
   "outputs": [
    {
     "name": "stdout",
     "output_type": "stream",
     "text": [
      "Start:  AIC=60\n",
      "Нарушения ~ Гестация + Асфиксия + ИВЛ1 + \n",
      "    АСН7 + ВУИ.сепсис + СЭИ + ДН.степень + \n",
      "    ПВК.степень + ЭФПН + БВ + Абилитация + \n",
      "    Рефлексы\n",
      "\n"
     ]
    }
   ],
   "source": [
    "default.warn = getOption(\"warn\")\n",
    "options(warn = -1)\n",
    "step = stepAIC(model.full, direction='forward', trace=T)\n",
    "options(warn = default.warn)"
   ]
  },
  {
   "cell_type": "code",
   "execution_count": 29,
   "id": "89a81280-3f01-4e94-8228-6d33ffbe7161",
   "metadata": {
    "tags": []
   },
   "outputs": [
    {
     "data": {
      "text/html": [
       "<table class=\"dataframe\">\n",
       "<caption>A Anova: 1 × 6</caption>\n",
       "<thead>\n",
       "\t<tr><th scope=col>Step</th><th scope=col>Df</th><th scope=col>Deviance</th><th scope=col>Resid. Df</th><th scope=col>Resid. Dev</th><th scope=col>AIC</th></tr>\n",
       "\t<tr><th scope=col>&lt;chr&gt;</th><th scope=col>&lt;dbl&gt;</th><th scope=col>&lt;dbl&gt;</th><th scope=col>&lt;dbl&gt;</th><th scope=col>&lt;dbl&gt;</th><th scope=col>&lt;dbl&gt;</th></tr>\n",
       "</thead>\n",
       "<tbody>\n",
       "\t<tr><td></td><td>NA</td><td>NA</td><td>182</td><td>1.573963e-08</td><td>60</td></tr>\n",
       "</tbody>\n",
       "</table>\n"
      ],
      "text/latex": [
       "A Anova: 1 × 6\n",
       "\\begin{tabular}{llllll}\n",
       " Step & Df & Deviance & Resid. Df & Resid. Dev & AIC\\\\\n",
       " <chr> & <dbl> & <dbl> & <dbl> & <dbl> & <dbl>\\\\\n",
       "\\hline\n",
       "\t  & NA & NA & 182 & 1.573963e-08 & 60\\\\\n",
       "\\end{tabular}\n"
      ],
      "text/markdown": [
       "\n",
       "A Anova: 1 × 6\n",
       "\n",
       "| Step &lt;chr&gt; | Df &lt;dbl&gt; | Deviance &lt;dbl&gt; | Resid. Df &lt;dbl&gt; | Resid. Dev &lt;dbl&gt; | AIC &lt;dbl&gt; |\n",
       "|---|---|---|---|---|---|\n",
       "| <!----> | NA | NA | 182 | 1.573963e-08 | 60 |\n",
       "\n"
      ],
      "text/plain": [
       "  Step Df Deviance Resid. Df Resid. Dev   AIC\n",
       "1      NA NA       182       1.573963e-08 60 "
      ]
     },
     "metadata": {},
     "output_type": "display_data"
    },
    {
     "data": {
      "text/plain": [
       "\n",
       "Call:  glm(formula = Нарушения ~ Гестация + Асфиксия + \n",
       "    ИВЛ1 + АСН7 + ВУИ.сепсис + СЭИ + ДН.степень + \n",
       "    ПВК.степень + ЭФПН + БВ + Абилитация + \n",
       "    Рефлексы, family = binomial(link = \"logit\"), data = prem)\n",
       "\n",
       "Coefficients:\n",
       "          (Intercept)       Гестация(28; 31]       Гестация(31; 33]  \n",
       "             -150.326                  3.317                 43.960  \n",
       "     Гестация(33; 36]             Асфиксияда              ИВЛ1[1,7)  \n",
       "               15.697                 12.594                -42.697  \n",
       "           ИВЛ1[7,14)            ИВЛ1[14,21)            ИВЛ1[21,30)  \n",
       "              -19.275                -55.022                -21.041  \n",
       "          ИВЛ1[30,66]                 АСН7да                 АСН7СС  \n",
       "              -82.597                 55.892                 57.331  \n",
       "        ВУИ.сепсисВУИ  ВУИ.сепсисВУИ, сепсис                  СЭИда  \n",
       "              -12.622                 10.354                -18.010  \n",
       "          ДН.степень1            ДН.степень2            ДН.степень3  \n",
       "              217.812                224.150                242.623  \n",
       "         ПВК.степень1           ПВК.степень2           ПВК.степень3  \n",
       "               16.773                -23.785                 -7.788  \n",
       "         ПВК.степень4                ЭФПНнет                  БВСПП  \n",
       "               51.323                  5.903               -179.693  \n",
       "                БВПВЛ           Абилитацияда    Абилитацияпосле ПВЛ  \n",
       "             -164.917                119.740                 42.585  \n",
       "    Рефлексыповышеные        Рефлексывысокие  Рефлексыугнетение ЦНС  \n",
       "               36.101                -49.965                 -7.843  \n",
       "\n",
       "Degrees of Freedom: 211 Total (i.e. Null);  182 Residual\n",
       "Null Deviance:\t    270.3 \n",
       "Residual Deviance: 1.574e-08 \tAIC: 60"
      ]
     },
     "metadata": {},
     "output_type": "display_data"
    },
    {
     "data": {
      "text/plain": [
       "\n",
       "Call:\n",
       "glm(formula = Нарушения ~ Гестация + Асфиксия + \n",
       "    ИВЛ1 + АСН7 + ВУИ.сепсис + СЭИ + ДН.степень + \n",
       "    ПВК.степень + ЭФПН + БВ + Абилитация + \n",
       "    Рефлексы, family = binomial(link = \"logit\"), data = prem)\n",
       "\n",
       "Deviance Residuals: \n",
       "       Min          1Q      Median          3Q         Max  \n",
       "-4.383e-05  -2.100e-08  -2.100e-08   2.100e-08   5.114e-05  \n",
       "\n",
       "Coefficients:\n",
       "                        Estimate Std. Error z value Pr(>|z|)\n",
       "(Intercept)             -150.326 403961.828   0.000    1.000\n",
       "Гестация(28; 31]           3.317 103747.743   0.000    1.000\n",
       "Гестация(31; 33]          43.960 116850.857   0.000    1.000\n",
       "Гестация(33; 36]          15.697 136319.399   0.000    1.000\n",
       "Асфиксияда                12.594  77982.603   0.000    1.000\n",
       "ИВЛ1[1,7)                -42.697  38810.887  -0.001    0.999\n",
       "ИВЛ1[7,14)               -19.275  94950.822   0.000    1.000\n",
       "ИВЛ1[14,21)              -55.022 171682.958   0.000    1.000\n",
       "ИВЛ1[21,30)              -21.041 539662.862   0.000    1.000\n",
       "ИВЛ1[30,66]              -82.597 137577.535  -0.001    1.000\n",
       "АСН7да                    55.892  53161.272   0.001    0.999\n",
       "АСН7СС                    57.331  94572.904   0.001    1.000\n",
       "ВУИ.сепсисВУИ            -12.622  74797.957   0.000    1.000\n",
       "ВУИ.сепсисВУИ, сепсис     10.354 120131.751   0.000    1.000\n",
       "СЭИда                    -18.010  70375.825   0.000    1.000\n",
       "ДН.степень1              217.812 209844.136   0.001    0.999\n",
       "ДН.степень2              224.150 192649.718   0.001    0.999\n",
       "ДН.степень3              242.623 302914.110   0.001    0.999\n",
       "ПВК.степень1              16.773  87842.021   0.000    1.000\n",
       "ПВК.степень2             -23.785  82991.938   0.000    1.000\n",
       "ПВК.степень3              -7.788 237710.760   0.000    1.000\n",
       "ПВК.степень4              51.323 178627.459   0.000    1.000\n",
       "ЭФПНнет                    5.903  83137.668   0.000    1.000\n",
       "БВСПП                   -179.693 135632.534  -0.001    0.999\n",
       "БВПВЛ                   -164.917 137772.909  -0.001    0.999\n",
       "Абилитацияда             119.740  70081.638   0.002    0.999\n",
       "Абилитацияпосле ПВЛ       42.585 445490.045   0.000    1.000\n",
       "Рефлексыповышеные         36.101 346469.329   0.000    1.000\n",
       "Рефлексывысокие          -49.965 350934.577   0.000    1.000\n",
       "Рефлексыугнетение ЦНС     -7.843 351974.825   0.000    1.000\n",
       "\n",
       "(Dispersion parameter for binomial family taken to be 1)\n",
       "\n",
       "    Null deviance: 2.7034e+02  on 211  degrees of freedom\n",
       "Residual deviance: 1.5740e-08  on 182  degrees of freedom\n",
       "AIC: 60\n",
       "\n",
       "Number of Fisher Scoring iterations: 25\n"
      ]
     },
     "metadata": {},
     "output_type": "display_data"
    }
   ],
   "source": [
    "step$anova\n",
    "step\n",
    "summary(step)"
   ]
  },
  {
   "cell_type": "markdown",
   "id": "20ebdda2-4c41-4632-9bb6-b933504365a0",
   "metadata": {},
   "source": [
    "#### Автоподбор (обратный)"
   ]
  },
  {
   "cell_type": "code",
   "execution_count": 30,
   "id": "61546aa4-66f6-4e6d-9483-f17407ffbba3",
   "metadata": {
    "tags": []
   },
   "outputs": [
    {
     "name": "stdout",
     "output_type": "stream",
     "text": [
      "Start:  AIC=60\n",
      "Нарушения ~ Гестация + Асфиксия + ИВЛ1 + \n",
      "    АСН7 + ВУИ.сепсис + СЭИ + ДН.степень + \n",
      "    ПВК.степень + ЭФПН + БВ + Абилитация + \n",
      "    Рефлексы\n",
      "\n",
      "              Df Deviance    AIC\n",
      "- ИВЛ1         5    0.000 50.000\n",
      "- ПВК.степень  4    0.000 52.000\n",
      "- ДН.степень   3    0.000 54.000\n",
      "- Гестация     3    0.000 54.000\n",
      "- ВУИ.сепсис   2    0.000 56.000\n",
      "- АСН7         2    0.000 56.000\n",
      "- ЭФПН         1    0.000 58.000\n",
      "- Асфиксия     1    0.000 58.000\n",
      "- СЭИ          1    0.000 58.000\n",
      "<none>              0.000 60.000\n",
      "- Рефлексы     3   23.501 77.501\n",
      "- БВ           2   38.787 94.787\n",
      "- Абилитация   2   42.519 98.519\n",
      "\n",
      "Step:  AIC=50\n",
      "Нарушения ~ Гестация + Асфиксия + АСН7 + \n",
      "    ВУИ.сепсис + СЭИ + ДН.степень + ПВК.степень + \n",
      "    ЭФПН + БВ + Абилитация + Рефлексы\n",
      "\n",
      "              Df Deviance     AIC\n",
      "- ДН.степень   3    0.000  44.000\n",
      "- Гестация     3    0.000  44.000\n",
      "- ВУИ.сепсис   2    0.000  46.000\n",
      "- АСН7         2    0.000  46.000\n",
      "- ПВК.степень  4    5.545  47.545\n",
      "- ЭФПН         1    0.000  48.000\n",
      "- Асфиксия     1    0.000  48.000\n",
      "- СЭИ          1    0.000  48.000\n",
      "<none>              0.000  50.000\n",
      "- Рефлексы     3   23.876  67.876\n",
      "- БВ           2   42.577  88.577\n",
      "- Абилитация   2   57.266 103.266\n",
      "\n",
      "Step:  AIC=44\n",
      "Нарушения ~ Гестация + Асфиксия + АСН7 + \n",
      "    ВУИ.сепсис + СЭИ + ПВК.степень + ЭФПН + \n",
      "    БВ + Абилитация + Рефлексы\n",
      "\n",
      "              Df Deviance    AIC\n",
      "- Гестация     3    0.000 38.000\n",
      "- ВУИ.сепсис   2    0.000 40.000\n",
      "- АСН7         2    0.000 40.000\n",
      "- ПВК.степень  4    5.545 41.545\n",
      "- Асфиксия     1    0.000 42.000\n",
      "- ЭФПН         1    0.000 42.000\n",
      "- СЭИ          1    0.000 42.000\n",
      "<none>              0.000 44.000\n",
      "- Рефлексы     3   27.365 65.365\n",
      "- БВ           2   46.637 86.637\n",
      "- Абилитация   2   58.787 98.787\n",
      "\n",
      "Step:  AIC=38\n",
      "Нарушения ~ Асфиксия + АСН7 + ВУИ.сепсис + \n",
      "    СЭИ + ПВК.степень + ЭФПН + БВ + Абилитация + \n",
      "    Рефлексы\n",
      "\n",
      "              Df Deviance     AIC\n",
      "- ВУИ.сепсис   2    0.000  34.000\n",
      "- Асфиксия     1    0.000  36.000\n",
      "- ЭФПН         1    0.000  36.000\n",
      "<none>              0.000  38.000\n",
      "- АСН7         2    5.545  39.545\n",
      "- ПВК.степень  4   14.594  44.594\n",
      "- СЭИ          1   14.510  50.510\n",
      "- Рефлексы     3   36.508  68.508\n",
      "- БВ           2   49.610  83.610\n",
      "- Абилитация   2   70.237 104.237\n",
      "\n",
      "Step:  AIC=34\n",
      "Нарушения ~ Асфиксия + АСН7 + СЭИ + ПВК.степень + \n",
      "    ЭФПН + БВ + Абилитация + Рефлексы\n",
      "\n",
      "              Df Deviance     AIC\n",
      "- Асфиксия     1    0.000  32.000\n",
      "- ЭФПН         1    0.000  32.000\n",
      "<none>              0.000  34.000\n",
      "- АСН7         2    6.491  36.491\n",
      "- ПВК.степень  4   16.334  42.334\n",
      "- СЭИ          1   17.029  49.029\n",
      "- Рефлексы     3   39.696  67.696\n",
      "- БВ           2   50.363  80.363\n",
      "- Абилитация   2   73.946 103.946\n",
      "\n",
      "Step:  AIC=32\n",
      "Нарушения ~ АСН7 + СЭИ + ПВК.степень + \n",
      "    ЭФПН + БВ + Абилитация + Рефлексы\n",
      "\n",
      "              Df Deviance     AIC\n",
      "- ЭФПН         1    0.000  30.000\n",
      "<none>              0.000  32.000\n",
      "- АСН7         2   10.211  38.211\n",
      "- ПВК.степень  4   16.414  40.414\n",
      "- СЭИ          1   17.141  47.141\n",
      "- Рефлексы     3   48.840  74.840\n",
      "- БВ           2   54.985  82.985\n",
      "- Абилитация   2   88.995 116.995\n",
      "\n",
      "Step:  AIC=30\n",
      "Нарушения ~ АСН7 + СЭИ + ПВК.степень + \n",
      "    БВ + Абилитация + Рефлексы\n",
      "\n",
      "              Df Deviance     AIC\n",
      "<none>              0.000  30.000\n",
      "- АСН7         2   10.600  36.600\n",
      "- ПВК.степень  4   17.953  39.953\n",
      "- СЭИ          1   17.255  45.255\n",
      "- Рефлексы     3   51.062  75.062\n",
      "- БВ           2   57.715  83.715\n",
      "- Абилитация   2  102.554 128.554\n"
     ]
    }
   ],
   "source": [
    "default.warn = getOption(\"warn\")\n",
    "options(warn = -1)\n",
    "step = stepAIC(model.full, direction='backward', trace=T)\n",
    "options(warn = default.warn)"
   ]
  },
  {
   "cell_type": "code",
   "execution_count": 31,
   "id": "0f8b5999-0852-4a06-ba31-697ba16c0324",
   "metadata": {
    "tags": []
   },
   "outputs": [
    {
     "data": {
      "text/html": [
       "<table class=\"dataframe\">\n",
       "<caption>A Anova: 7 × 6</caption>\n",
       "<thead>\n",
       "\t<tr><th scope=col>Step</th><th scope=col>Df</th><th scope=col>Deviance</th><th scope=col>Resid. Df</th><th scope=col>Resid. Dev</th><th scope=col>AIC</th></tr>\n",
       "\t<tr><th scope=col>&lt;chr&gt;</th><th scope=col>&lt;dbl&gt;</th><th scope=col>&lt;dbl&gt;</th><th scope=col>&lt;dbl&gt;</th><th scope=col>&lt;dbl&gt;</th><th scope=col>&lt;dbl&gt;</th></tr>\n",
       "</thead>\n",
       "<tbody>\n",
       "\t<tr><td>            </td><td>NA</td><td>          NA</td><td>182</td><td>1.573963e-08</td><td>60</td></tr>\n",
       "\t<tr><td>- ИВЛ1      </td><td> 5</td><td>1.208187e-08</td><td>187</td><td>2.782150e-08</td><td>50</td></tr>\n",
       "\t<tr><td>- ДН.степень</td><td> 3</td><td>2.366976e-09</td><td>190</td><td>3.018847e-08</td><td>44</td></tr>\n",
       "\t<tr><td>- Гестация  </td><td> 3</td><td>4.283357e-08</td><td>193</td><td>7.302204e-08</td><td>38</td></tr>\n",
       "\t<tr><td>- ВУИ.сепсис</td><td> 2</td><td>1.109363e-08</td><td>195</td><td>8.411568e-08</td><td>34</td></tr>\n",
       "\t<tr><td>- Асфиксия  </td><td> 1</td><td>1.184494e-09</td><td>196</td><td>8.293118e-08</td><td>32</td></tr>\n",
       "\t<tr><td>- ЭФПН      </td><td> 1</td><td>7.157564e-09</td><td>197</td><td>9.008875e-08</td><td>30</td></tr>\n",
       "</tbody>\n",
       "</table>\n"
      ],
      "text/latex": [
       "A Anova: 7 × 6\n",
       "\\begin{tabular}{llllll}\n",
       " Step & Df & Deviance & Resid. Df & Resid. Dev & AIC\\\\\n",
       " <chr> & <dbl> & <dbl> & <dbl> & <dbl> & <dbl>\\\\\n",
       "\\hline\n",
       "\t              & NA &           NA & 182 & 1.573963e-08 & 60\\\\\n",
       "\t - ИВЛ1       &  5 & 1.208187e-08 & 187 & 2.782150e-08 & 50\\\\\n",
       "\t - ДН.степень &  3 & 2.366976e-09 & 190 & 3.018847e-08 & 44\\\\\n",
       "\t - Гестация   &  3 & 4.283357e-08 & 193 & 7.302204e-08 & 38\\\\\n",
       "\t - ВУИ.сепсис &  2 & 1.109363e-08 & 195 & 8.411568e-08 & 34\\\\\n",
       "\t - Асфиксия   &  1 & 1.184494e-09 & 196 & 8.293118e-08 & 32\\\\\n",
       "\t - ЭФПН       &  1 & 7.157564e-09 & 197 & 9.008875e-08 & 30\\\\\n",
       "\\end{tabular}\n"
      ],
      "text/markdown": [
       "\n",
       "A Anova: 7 × 6\n",
       "\n",
       "| Step &lt;chr&gt; | Df &lt;dbl&gt; | Deviance &lt;dbl&gt; | Resid. Df &lt;dbl&gt; | Resid. Dev &lt;dbl&gt; | AIC &lt;dbl&gt; |\n",
       "|---|---|---|---|---|---|\n",
       "| <!----> | NA |           NA | 182 | 1.573963e-08 | 60 |\n",
       "| - ИВЛ1       |  5 | 1.208187e-08 | 187 | 2.782150e-08 | 50 |\n",
       "| - ДН.степень |  3 | 2.366976e-09 | 190 | 3.018847e-08 | 44 |\n",
       "| - Гестация   |  3 | 4.283357e-08 | 193 | 7.302204e-08 | 38 |\n",
       "| - ВУИ.сепсис |  2 | 1.109363e-08 | 195 | 8.411568e-08 | 34 |\n",
       "| - Асфиксия   |  1 | 1.184494e-09 | 196 | 8.293118e-08 | 32 |\n",
       "| - ЭФПН       |  1 | 7.157564e-09 | 197 | 9.008875e-08 | 30 |\n",
       "\n"
      ],
      "text/plain": [
       "  Step         Df Deviance     Resid. Df Resid. Dev   AIC\n",
       "1              NA           NA 182       1.573963e-08 60 \n",
       "2 - ИВЛ1        5 1.208187e-08 187       2.782150e-08 50 \n",
       "3 - ДН.степень  3 2.366976e-09 190       3.018847e-08 44 \n",
       "4 - Гестация    3 4.283357e-08 193       7.302204e-08 38 \n",
       "5 - ВУИ.сепсис  2 1.109363e-08 195       8.411568e-08 34 \n",
       "6 - Асфиксия    1 1.184494e-09 196       8.293118e-08 32 \n",
       "7 - ЭФПН        1 7.157564e-09 197       9.008875e-08 30 "
      ]
     },
     "metadata": {},
     "output_type": "display_data"
    },
    {
     "data": {
      "text/plain": [
       "\n",
       "Call:  glm(formula = Нарушения ~ АСН7 + СЭИ + ПВК.степень + \n",
       "    БВ + Абилитация + Рефлексы, family = binomial(link = \"logit\"), \n",
       "    data = prem)\n",
       "\n",
       "Coefficients:\n",
       "          (Intercept)                 АСН7да                 АСН7СС  \n",
       "              200.755                 77.015                 75.609  \n",
       "                СЭИда           ПВК.степень1           ПВК.степень2  \n",
       "             -114.124                107.617                 -4.521  \n",
       "         ПВК.степень3           ПВК.степень4                  БВСПП  \n",
       "               64.592                334.101               -345.567  \n",
       "                БВПВЛ           Абилитацияда    Абилитацияпосле ПВЛ  \n",
       "             -420.368                344.919                262.515  \n",
       "    Рефлексыповышеные        Рефлексывысокие  Рефлексыугнетение ЦНС  \n",
       "              -60.588               -214.613               -251.575  \n",
       "\n",
       "Degrees of Freedom: 211 Total (i.e. Null);  197 Residual\n",
       "Null Deviance:\t    270.3 \n",
       "Residual Deviance: 9.009e-08 \tAIC: 30"
      ]
     },
     "metadata": {},
     "output_type": "display_data"
    },
    {
     "data": {
      "text/plain": [
       "\n",
       "Call:\n",
       "glm(formula = Нарушения ~ АСН7 + СЭИ + ПВК.степень + \n",
       "    БВ + Абилитация + Рефлексы, family = binomial(link = \"logit\"), \n",
       "    data = prem)\n",
       "\n",
       "Deviance Residuals: \n",
       "       Min          1Q      Median          3Q         Max  \n",
       "-1.260e-04  -2.100e-08  -2.100e-08   2.100e-08   1.495e-04  \n",
       "\n",
       "Coefficients:\n",
       "                        Estimate Std. Error z value Pr(>|z|)\n",
       "(Intercept)            2.008e+02  3.001e+07   0.000    1.000\n",
       "АСН7да                 7.702e+01  1.491e+04   0.005    0.996\n",
       "АСН7СС                 7.561e+01  4.453e+04   0.002    0.999\n",
       "СЭИда                 -1.141e+02  1.936e+04  -0.006    0.995\n",
       "ПВК.степень1           1.076e+02  1.021e+05   0.001    0.999\n",
       "ПВК.степень2          -4.521e+00  1.003e+05   0.000    1.000\n",
       "ПВК.степень3           6.459e+01  1.412e+05   0.000    1.000\n",
       "ПВК.степень4           3.341e+02  1.326e+05   0.003    0.998\n",
       "БВСПП                 -3.456e+02  5.870e+04  -0.006    0.995\n",
       "БВПВЛ                 -4.204e+02  6.931e+04  -0.006    0.995\n",
       "Абилитацияда           3.449e+02  5.330e+04   0.006    0.995\n",
       "Абилитацияпосле ПВЛ    2.625e+02  1.102e+05   0.002    0.998\n",
       "Рефлексыповышеные     -6.059e+01  3.001e+07   0.000    1.000\n",
       "Рефлексывысокие       -2.146e+02  3.001e+07   0.000    1.000\n",
       "Рефлексыугнетение ЦНС -2.516e+02  3.001e+07   0.000    1.000\n",
       "\n",
       "(Dispersion parameter for binomial family taken to be 1)\n",
       "\n",
       "    Null deviance: 2.7034e+02  on 211  degrees of freedom\n",
       "Residual deviance: 9.0089e-08  on 197  degrees of freedom\n",
       "AIC: 30\n",
       "\n",
       "Number of Fisher Scoring iterations: 25\n"
      ]
     },
     "metadata": {},
     "output_type": "display_data"
    }
   ],
   "source": [
    "step$anova\n",
    "step\n",
    "summary(step)"
   ]
  },
  {
   "cell_type": "code",
   "execution_count": 32,
   "id": "a8498e85-e821-47b4-be6f-e49c854bb3a2",
   "metadata": {
    "tags": []
   },
   "outputs": [],
   "source": [
    "# default.warn = getOption(\"warn\")\n",
    "# options(warn = -1)\n",
    "# model.step.aic = step(model.null\n",
    "#                       , scope = list(lower=model.null, upper=model.full)\n",
    "#                       , direction = \"forward\"\n",
    "#                       , test = \"Chisq\"\n",
    "#                       , data = prem\n",
    "#                       , trace = 1\n",
    "#                      )\n",
    "# options(warn = default.warn)\n",
    "# try(summary(model.step.aic))"
   ]
  },
  {
   "cell_type": "markdown",
   "id": "29d945ef-30c9-42e7-86fc-619095365209",
   "metadata": {},
   "source": [
    "#### Регрессия с лучшим подбором"
   ]
  },
  {
   "cell_type": "code",
   "execution_count": 33,
   "id": "d8735985-5d04-4d21-bee7-00955ff0d60c",
   "metadata": {
    "tags": []
   },
   "outputs": [],
   "source": [
    "require(leaps, quietly=TRUE);\n",
    "require(bestglm, quietly=TRUE);"
   ]
  },
  {
   "cell_type": "markdown",
   "id": "ac49b681-548e-4e29-bfc1-5e8d7b5dafb1",
   "metadata": {},
   "source": [
    "### Регрессия с определением параметров вручную"
   ]
  },
  {
   "cell_type": "markdown",
   "id": "c31f2fec-4616-4d27-b484-2037f26ea953",
   "metadata": {},
   "source": [
    "#### Модель"
   ]
  },
  {
   "cell_type": "code",
   "execution_count": 34,
   "id": "6cff739e-994c-4e0a-9dea-1004737e13a5",
   "metadata": {
    "tags": []
   },
   "outputs": [
    {
     "name": "stderr",
     "output_type": "stream",
     "text": [
      "Warning message:\n",
      "\"glm.fit: алгоритм не сошелся\"\n",
      "Warning message:\n",
      "\"glm.fit: возникли подогнанные вероятности 0 или 1\"\n"
     ]
    },
    {
     "data": {
      "text/plain": [
       "\n",
       "Call:\n",
       "glm(formula = Нарушения ~ ., family = binomial(link = \"logit\"), \n",
       "    data = train)\n",
       "\n",
       "Deviance Residuals: \n",
       "       Min          1Q      Median          3Q         Max  \n",
       "-3.793e-05  -2.100e-08  -2.100e-08   2.100e-08   4.139e-05  \n",
       "\n",
       "Coefficients:\n",
       "                        Estimate Std. Error z value Pr(>|z|)\n",
       "(Intercept)             -150.079 303815.580   0.000    1.000\n",
       "Гестация(28; 31]           3.997 138462.394   0.000    1.000\n",
       "Гестация(31; 33]          44.843  89426.161   0.001    1.000\n",
       "Гестация(33; 36]          21.944 107887.899   0.000    1.000\n",
       "Асфиксияда                17.593 133249.326   0.000    1.000\n",
       "ИВЛ1[1,7)                -43.201  38161.015  -0.001    0.999\n",
       "ИВЛ1[7,14)               -19.476 166663.533   0.000    1.000\n",
       "ИВЛ1[14,21)              -46.661 181091.607   0.000    1.000\n",
       "ИВЛ1[21,30)              -31.982 618978.324   0.000    1.000\n",
       "ИВЛ1[30,66]              -87.486 169324.015  -0.001    1.000\n",
       "АСН7да                    62.106  60302.617   0.001    0.999\n",
       "АСН7СС                    59.445 170850.574   0.000    1.000\n",
       "ВУИ.сепсисВУИ            -17.395 133383.243   0.000    1.000\n",
       "ВУИ.сепсисВУИ, сепсис      4.118 145291.042   0.000    1.000\n",
       "СЭИда                    -21.960  49286.875   0.000    1.000\n",
       "ДН.степень1              225.997 331860.758   0.001    0.999\n",
       "ДН.степень2              230.570 247280.320   0.001    0.999\n",
       "ДН.степень3              244.198 502339.843   0.000    1.000\n",
       "ПВК.степень1              20.570  79518.041   0.000    1.000\n",
       "ПВК.степень2             -21.000  78740.413   0.000    1.000\n",
       "ПВК.степень3             -15.922 292589.427   0.000    1.000\n",
       "ПВК.степень4              47.475 240594.923   0.000    1.000\n",
       "ЭФПНнет                    2.718  70636.161   0.000    1.000\n",
       "БВСПП                   -187.317 268887.927  -0.001    0.999\n",
       "БВПВЛ                   -169.076 172168.252  -0.001    0.999\n",
       "Абилитацияда             114.057 141645.129   0.001    0.999\n",
       "Абилитацияпосле ПВЛ       55.651 619742.438   0.000    1.000\n",
       "Рефлексыповышеные         38.603 190140.030   0.000    1.000\n",
       "Рефлексывысокие          -48.038 194866.984   0.000    1.000\n",
       "Рефлексыугнетение ЦНС     -5.923 228105.355   0.000    1.000\n",
       "\n",
       "(Dispersion parameter for binomial family taken to be 1)\n",
       "\n",
       "    Null deviance: 2.1387e+02  on 167  degrees of freedom\n",
       "Residual deviance: 1.1985e-08  on 138  degrees of freedom\n",
       "AIC: 60\n",
       "\n",
       "Number of Fisher Scoring iterations: 25\n"
      ]
     },
     "metadata": {},
     "output_type": "display_data"
    }
   ],
   "source": [
    "prem.model = glm(Нарушения ~ ., family=binomial(link='logit'), data=train)\n",
    "summary(prem.model)"
   ]
  },
  {
   "cell_type": "markdown",
   "id": "07df8d13-c9bc-4e76-a33e-cdd076056315",
   "metadata": {},
   "source": [
    "##### Контрасты"
   ]
  },
  {
   "cell_type": "code",
   "execution_count": 35,
   "id": "e225ed2b-04ed-4425-a298-f98a3487fe48",
   "metadata": {
    "tags": []
   },
   "outputs": [
    {
     "data": {
      "text/html": [
       "<dl>\n",
       "\t<dt>$Гестация</dt>\n",
       "\t\t<dd><table class=\"dataframe\">\n",
       "<caption>A matrix: 4 × 3 of type dbl</caption>\n",
       "<thead>\n",
       "\t<tr><th></th><th scope=col>(28; 31]</th><th scope=col>(31; 33]</th><th scope=col>(33; 36]</th></tr>\n",
       "</thead>\n",
       "<tbody>\n",
       "\t<tr><th scope=row>[22; 28]</th><td>0</td><td>0</td><td>0</td></tr>\n",
       "\t<tr><th scope=row>(28; 31]</th><td>1</td><td>0</td><td>0</td></tr>\n",
       "\t<tr><th scope=row>(31; 33]</th><td>0</td><td>1</td><td>0</td></tr>\n",
       "\t<tr><th scope=row>(33; 36]</th><td>0</td><td>0</td><td>1</td></tr>\n",
       "</tbody>\n",
       "</table>\n",
       "</dd>\n",
       "\t<dt>$Асфиксия</dt>\n",
       "\t\t<dd><table class=\"dataframe\">\n",
       "<caption>A matrix: 2 × 1 of type dbl</caption>\n",
       "<thead>\n",
       "\t<tr><th></th><th scope=col>да</th></tr>\n",
       "</thead>\n",
       "<tbody>\n",
       "\t<tr><th scope=row>нет</th><td>0</td></tr>\n",
       "\t<tr><th scope=row>да</th><td>1</td></tr>\n",
       "</tbody>\n",
       "</table>\n",
       "</dd>\n",
       "\t<dt>$ИВЛ1</dt>\n",
       "\t\t<dd><table class=\"dataframe\">\n",
       "<caption>A matrix: 6 × 5 of type dbl</caption>\n",
       "<thead>\n",
       "\t<tr><th></th><th scope=col>[1,7)</th><th scope=col>[7,14)</th><th scope=col>[14,21)</th><th scope=col>[21,30)</th><th scope=col>[30,66]</th></tr>\n",
       "</thead>\n",
       "<tbody>\n",
       "\t<tr><th scope=row>нет</th><td>0</td><td>0</td><td>0</td><td>0</td><td>0</td></tr>\n",
       "\t<tr><th scope=row>[1,7)</th><td>1</td><td>0</td><td>0</td><td>0</td><td>0</td></tr>\n",
       "\t<tr><th scope=row>[7,14)</th><td>0</td><td>1</td><td>0</td><td>0</td><td>0</td></tr>\n",
       "\t<tr><th scope=row>[14,21)</th><td>0</td><td>0</td><td>1</td><td>0</td><td>0</td></tr>\n",
       "\t<tr><th scope=row>[21,30)</th><td>0</td><td>0</td><td>0</td><td>1</td><td>0</td></tr>\n",
       "\t<tr><th scope=row>[30,66]</th><td>0</td><td>0</td><td>0</td><td>0</td><td>1</td></tr>\n",
       "</tbody>\n",
       "</table>\n",
       "</dd>\n",
       "\t<dt>$АСН7</dt>\n",
       "\t\t<dd><table class=\"dataframe\">\n",
       "<caption>A matrix: 3 × 2 of type dbl</caption>\n",
       "<thead>\n",
       "\t<tr><th></th><th scope=col>да</th><th scope=col>СС</th></tr>\n",
       "</thead>\n",
       "<tbody>\n",
       "\t<tr><th scope=row>нет</th><td>0</td><td>0</td></tr>\n",
       "\t<tr><th scope=row>да</th><td>1</td><td>0</td></tr>\n",
       "\t<tr><th scope=row>СС</th><td>0</td><td>1</td></tr>\n",
       "</tbody>\n",
       "</table>\n",
       "</dd>\n",
       "\t<dt>$ВУИ.сепсис</dt>\n",
       "\t\t<dd><table class=\"dataframe\">\n",
       "<caption>A matrix: 3 × 2 of type dbl</caption>\n",
       "<thead>\n",
       "\t<tr><th></th><th scope=col>ВУИ</th><th scope=col>ВУИ, сепсис</th></tr>\n",
       "</thead>\n",
       "<tbody>\n",
       "\t<tr><th scope=row>нет</th><td>0</td><td>0</td></tr>\n",
       "\t<tr><th scope=row>ВУИ</th><td>1</td><td>0</td></tr>\n",
       "\t<tr><th scope=row>ВУИ, сепсис</th><td>0</td><td>1</td></tr>\n",
       "</tbody>\n",
       "</table>\n",
       "</dd>\n",
       "\t<dt>$СЭИ</dt>\n",
       "\t\t<dd><table class=\"dataframe\">\n",
       "<caption>A matrix: 2 × 1 of type dbl</caption>\n",
       "<thead>\n",
       "\t<tr><th></th><th scope=col>да</th></tr>\n",
       "</thead>\n",
       "<tbody>\n",
       "\t<tr><th scope=row>нет</th><td>0</td></tr>\n",
       "\t<tr><th scope=row>да</th><td>1</td></tr>\n",
       "</tbody>\n",
       "</table>\n",
       "</dd>\n",
       "\t<dt>$ДН.степень</dt>\n",
       "\t\t<dd><table class=\"dataframe\">\n",
       "<caption>A matrix: 4 × 3 of type dbl</caption>\n",
       "<thead>\n",
       "\t<tr><th></th><th scope=col>1</th><th scope=col>2</th><th scope=col>3</th></tr>\n",
       "</thead>\n",
       "<tbody>\n",
       "\t<tr><th scope=row>нет</th><td>0</td><td>0</td><td>0</td></tr>\n",
       "\t<tr><th scope=row>1</th><td>1</td><td>0</td><td>0</td></tr>\n",
       "\t<tr><th scope=row>2</th><td>0</td><td>1</td><td>0</td></tr>\n",
       "\t<tr><th scope=row>3</th><td>0</td><td>0</td><td>1</td></tr>\n",
       "</tbody>\n",
       "</table>\n",
       "</dd>\n",
       "\t<dt>$ПВК.степень</dt>\n",
       "\t\t<dd>NULL</dd>\n",
       "\t<dt>$ЭФПН</dt>\n",
       "\t\t<dd><table class=\"dataframe\">\n",
       "<caption>A matrix: 2 × 1 of type dbl</caption>\n",
       "<thead>\n",
       "\t<tr><th></th><th scope=col>нет</th></tr>\n",
       "</thead>\n",
       "<tbody>\n",
       "\t<tr><th scope=row>да</th><td>0</td></tr>\n",
       "\t<tr><th scope=row>нет</th><td>1</td></tr>\n",
       "</tbody>\n",
       "</table>\n",
       "</dd>\n",
       "\t<dt>$БВ</dt>\n",
       "\t\t<dd><table class=\"dataframe\">\n",
       "<caption>A matrix: 3 × 2 of type dbl</caption>\n",
       "<thead>\n",
       "\t<tr><th></th><th scope=col>СПП</th><th scope=col>ПВЛ</th></tr>\n",
       "</thead>\n",
       "<tbody>\n",
       "\t<tr><th scope=row>нет</th><td>0</td><td>0</td></tr>\n",
       "\t<tr><th scope=row>СПП</th><td>1</td><td>0</td></tr>\n",
       "\t<tr><th scope=row>ПВЛ</th><td>0</td><td>1</td></tr>\n",
       "</tbody>\n",
       "</table>\n",
       "</dd>\n",
       "\t<dt>$Абилитация</dt>\n",
       "\t\t<dd><table class=\"dataframe\">\n",
       "<caption>A matrix: 3 × 2 of type dbl</caption>\n",
       "<thead>\n",
       "\t<tr><th></th><th scope=col>да</th><th scope=col>после ПВЛ</th></tr>\n",
       "</thead>\n",
       "<tbody>\n",
       "\t<tr><th scope=row>нет</th><td>0</td><td>0</td></tr>\n",
       "\t<tr><th scope=row>да</th><td>1</td><td>0</td></tr>\n",
       "\t<tr><th scope=row>после ПВЛ</th><td>0</td><td>1</td></tr>\n",
       "</tbody>\n",
       "</table>\n",
       "</dd>\n",
       "\t<dt>$Рефлексы</dt>\n",
       "\t\t<dd><table class=\"dataframe\">\n",
       "<caption>A matrix: 4 × 3 of type dbl</caption>\n",
       "<thead>\n",
       "\t<tr><th></th><th scope=col>повышеные</th><th scope=col>высокие</th><th scope=col>угнетение ЦНС</th></tr>\n",
       "</thead>\n",
       "<tbody>\n",
       "\t<tr><th scope=row>соответствуют</th><td>0</td><td>0</td><td>0</td></tr>\n",
       "\t<tr><th scope=row>повышеные</th><td>1</td><td>0</td><td>0</td></tr>\n",
       "\t<tr><th scope=row>высокие</th><td>0</td><td>1</td><td>0</td></tr>\n",
       "\t<tr><th scope=row>угнетение ЦНС</th><td>0</td><td>0</td><td>1</td></tr>\n",
       "</tbody>\n",
       "</table>\n",
       "</dd>\n",
       "\t<dt>$Нарушения</dt>\n",
       "\t\t<dd><table class=\"dataframe\">\n",
       "<caption>A matrix: 2 × 1 of type dbl</caption>\n",
       "<thead>\n",
       "\t<tr><th></th><th scope=col>БНН</th></tr>\n",
       "</thead>\n",
       "<tbody>\n",
       "\t<tr><th scope=row>НН</th><td>0</td></tr>\n",
       "\t<tr><th scope=row>БНН</th><td>1</td></tr>\n",
       "</tbody>\n",
       "</table>\n",
       "</dd>\n",
       "</dl>\n"
      ],
      "text/latex": [
       "\\begin{description}\n",
       "\\item[\\$Гестация] A matrix: 4 × 3 of type dbl\n",
       "\\begin{tabular}{r|lll}\n",
       "  & (28; 31{]} & (31; 33{]} & (33; 36{]}\\\\\n",
       "\\hline\n",
       "\t{[}22; 28{]} & 0 & 0 & 0\\\\\n",
       "\t(28; 31{]} & 1 & 0 & 0\\\\\n",
       "\t(31; 33{]} & 0 & 1 & 0\\\\\n",
       "\t(33; 36{]} & 0 & 0 & 1\\\\\n",
       "\\end{tabular}\n",
       "\n",
       "\\item[\\$Асфиксия] A matrix: 2 × 1 of type dbl\n",
       "\\begin{tabular}{r|l}\n",
       "  & да\\\\\n",
       "\\hline\n",
       "\tнет & 0\\\\\n",
       "\tда & 1\\\\\n",
       "\\end{tabular}\n",
       "\n",
       "\\item[\\$ИВЛ1] A matrix: 6 × 5 of type dbl\n",
       "\\begin{tabular}{r|lllll}\n",
       "  & {[}1,7) & {[}7,14) & {[}14,21) & {[}21,30) & {[}30,66{]}\\\\\n",
       "\\hline\n",
       "\tнет & 0 & 0 & 0 & 0 & 0\\\\\n",
       "\t{[}1,7) & 1 & 0 & 0 & 0 & 0\\\\\n",
       "\t{[}7,14) & 0 & 1 & 0 & 0 & 0\\\\\n",
       "\t{[}14,21) & 0 & 0 & 1 & 0 & 0\\\\\n",
       "\t{[}21,30) & 0 & 0 & 0 & 1 & 0\\\\\n",
       "\t{[}30,66{]} & 0 & 0 & 0 & 0 & 1\\\\\n",
       "\\end{tabular}\n",
       "\n",
       "\\item[\\$АСН7] A matrix: 3 × 2 of type dbl\n",
       "\\begin{tabular}{r|ll}\n",
       "  & да & СС\\\\\n",
       "\\hline\n",
       "\tнет & 0 & 0\\\\\n",
       "\tда & 1 & 0\\\\\n",
       "\tСС & 0 & 1\\\\\n",
       "\\end{tabular}\n",
       "\n",
       "\\item[\\$ВУИ.сепсис] A matrix: 3 × 2 of type dbl\n",
       "\\begin{tabular}{r|ll}\n",
       "  & ВУИ & ВУИ, сепсис\\\\\n",
       "\\hline\n",
       "\tнет & 0 & 0\\\\\n",
       "\tВУИ & 1 & 0\\\\\n",
       "\tВУИ, сепсис & 0 & 1\\\\\n",
       "\\end{tabular}\n",
       "\n",
       "\\item[\\$СЭИ] A matrix: 2 × 1 of type dbl\n",
       "\\begin{tabular}{r|l}\n",
       "  & да\\\\\n",
       "\\hline\n",
       "\tнет & 0\\\\\n",
       "\tда & 1\\\\\n",
       "\\end{tabular}\n",
       "\n",
       "\\item[\\$ДН.степень] A matrix: 4 × 3 of type dbl\n",
       "\\begin{tabular}{r|lll}\n",
       "  & 1 & 2 & 3\\\\\n",
       "\\hline\n",
       "\tнет & 0 & 0 & 0\\\\\n",
       "\t1 & 1 & 0 & 0\\\\\n",
       "\t2 & 0 & 1 & 0\\\\\n",
       "\t3 & 0 & 0 & 1\\\\\n",
       "\\end{tabular}\n",
       "\n",
       "\\item[\\$ПВК.степень] NULL\n",
       "\\item[\\$ЭФПН] A matrix: 2 × 1 of type dbl\n",
       "\\begin{tabular}{r|l}\n",
       "  & нет\\\\\n",
       "\\hline\n",
       "\tда & 0\\\\\n",
       "\tнет & 1\\\\\n",
       "\\end{tabular}\n",
       "\n",
       "\\item[\\$БВ] A matrix: 3 × 2 of type dbl\n",
       "\\begin{tabular}{r|ll}\n",
       "  & СПП & ПВЛ\\\\\n",
       "\\hline\n",
       "\tнет & 0 & 0\\\\\n",
       "\tСПП & 1 & 0\\\\\n",
       "\tПВЛ & 0 & 1\\\\\n",
       "\\end{tabular}\n",
       "\n",
       "\\item[\\$Абилитация] A matrix: 3 × 2 of type dbl\n",
       "\\begin{tabular}{r|ll}\n",
       "  & да & после ПВЛ\\\\\n",
       "\\hline\n",
       "\tнет & 0 & 0\\\\\n",
       "\tда & 1 & 0\\\\\n",
       "\tпосле ПВЛ & 0 & 1\\\\\n",
       "\\end{tabular}\n",
       "\n",
       "\\item[\\$Рефлексы] A matrix: 4 × 3 of type dbl\n",
       "\\begin{tabular}{r|lll}\n",
       "  & повышеные & высокие & угнетение ЦНС\\\\\n",
       "\\hline\n",
       "\tсоответствуют & 0 & 0 & 0\\\\\n",
       "\tповышеные & 1 & 0 & 0\\\\\n",
       "\tвысокие & 0 & 1 & 0\\\\\n",
       "\tугнетение ЦНС & 0 & 0 & 1\\\\\n",
       "\\end{tabular}\n",
       "\n",
       "\\item[\\$Нарушения] A matrix: 2 × 1 of type dbl\n",
       "\\begin{tabular}{r|l}\n",
       "  & БНН\\\\\n",
       "\\hline\n",
       "\tНН & 0\\\\\n",
       "\tБНН & 1\\\\\n",
       "\\end{tabular}\n",
       "\n",
       "\\end{description}\n"
      ],
      "text/markdown": [
       "$Гестация\n",
       ":   \n",
       "A matrix: 4 × 3 of type dbl\n",
       "\n",
       "| <!--/--> | (28; 31] | (31; 33] | (33; 36] |\n",
       "|---|---|---|---|\n",
       "| [22; 28] | 0 | 0 | 0 |\n",
       "| (28; 31] | 1 | 0 | 0 |\n",
       "| (31; 33] | 0 | 1 | 0 |\n",
       "| (33; 36] | 0 | 0 | 1 |\n",
       "\n",
       "\n",
       "$Асфиксия\n",
       ":   \n",
       "A matrix: 2 × 1 of type dbl\n",
       "\n",
       "| <!--/--> | да |\n",
       "|---|---|\n",
       "| нет | 0 |\n",
       "| да | 1 |\n",
       "\n",
       "\n",
       "$ИВЛ1\n",
       ":   \n",
       "A matrix: 6 × 5 of type dbl\n",
       "\n",
       "| <!--/--> | [1,7) | [7,14) | [14,21) | [21,30) | [30,66] |\n",
       "|---|---|---|---|---|---|\n",
       "| нет | 0 | 0 | 0 | 0 | 0 |\n",
       "| [1,7) | 1 | 0 | 0 | 0 | 0 |\n",
       "| [7,14) | 0 | 1 | 0 | 0 | 0 |\n",
       "| [14,21) | 0 | 0 | 1 | 0 | 0 |\n",
       "| [21,30) | 0 | 0 | 0 | 1 | 0 |\n",
       "| [30,66] | 0 | 0 | 0 | 0 | 1 |\n",
       "\n",
       "\n",
       "$АСН7\n",
       ":   \n",
       "A matrix: 3 × 2 of type dbl\n",
       "\n",
       "| <!--/--> | да | СС |\n",
       "|---|---|---|\n",
       "| нет | 0 | 0 |\n",
       "| да | 1 | 0 |\n",
       "| СС | 0 | 1 |\n",
       "\n",
       "\n",
       "$ВУИ.сепсис\n",
       ":   \n",
       "A matrix: 3 × 2 of type dbl\n",
       "\n",
       "| <!--/--> | ВУИ | ВУИ, сепсис |\n",
       "|---|---|---|\n",
       "| нет | 0 | 0 |\n",
       "| ВУИ | 1 | 0 |\n",
       "| ВУИ, сепсис | 0 | 1 |\n",
       "\n",
       "\n",
       "$СЭИ\n",
       ":   \n",
       "A matrix: 2 × 1 of type dbl\n",
       "\n",
       "| <!--/--> | да |\n",
       "|---|---|\n",
       "| нет | 0 |\n",
       "| да | 1 |\n",
       "\n",
       "\n",
       "$ДН.степень\n",
       ":   \n",
       "A matrix: 4 × 3 of type dbl\n",
       "\n",
       "| <!--/--> | 1 | 2 | 3 |\n",
       "|---|---|---|---|\n",
       "| нет | 0 | 0 | 0 |\n",
       "| 1 | 1 | 0 | 0 |\n",
       "| 2 | 0 | 1 | 0 |\n",
       "| 3 | 0 | 0 | 1 |\n",
       "\n",
       "\n",
       "$ПВК.степень\n",
       ":   NULL\n",
       "$ЭФПН\n",
       ":   \n",
       "A matrix: 2 × 1 of type dbl\n",
       "\n",
       "| <!--/--> | нет |\n",
       "|---|---|\n",
       "| да | 0 |\n",
       "| нет | 1 |\n",
       "\n",
       "\n",
       "$БВ\n",
       ":   \n",
       "A matrix: 3 × 2 of type dbl\n",
       "\n",
       "| <!--/--> | СПП | ПВЛ |\n",
       "|---|---|---|\n",
       "| нет | 0 | 0 |\n",
       "| СПП | 1 | 0 |\n",
       "| ПВЛ | 0 | 1 |\n",
       "\n",
       "\n",
       "$Абилитация\n",
       ":   \n",
       "A matrix: 3 × 2 of type dbl\n",
       "\n",
       "| <!--/--> | да | после ПВЛ |\n",
       "|---|---|---|\n",
       "| нет | 0 | 0 |\n",
       "| да | 1 | 0 |\n",
       "| после ПВЛ | 0 | 1 |\n",
       "\n",
       "\n",
       "$Рефлексы\n",
       ":   \n",
       "A matrix: 4 × 3 of type dbl\n",
       "\n",
       "| <!--/--> | повышеные | высокие | угнетение ЦНС |\n",
       "|---|---|---|---|\n",
       "| соответствуют | 0 | 0 | 0 |\n",
       "| повышеные | 1 | 0 | 0 |\n",
       "| высокие | 0 | 1 | 0 |\n",
       "| угнетение ЦНС | 0 | 0 | 1 |\n",
       "\n",
       "\n",
       "$Нарушения\n",
       ":   \n",
       "A matrix: 2 × 1 of type dbl\n",
       "\n",
       "| <!--/--> | БНН |\n",
       "|---|---|\n",
       "| НН | 0 |\n",
       "| БНН | 1 |\n",
       "\n",
       "\n",
       "\n",
       "\n"
      ],
      "text/plain": [
       "$Гестация\n",
       "         (28; 31] (31; 33] (33; 36]\n",
       "[22; 28]        0        0        0\n",
       "(28; 31]        1        0        0\n",
       "(31; 33]        0        1        0\n",
       "(33; 36]        0        0        1\n",
       "\n",
       "$Асфиксия\n",
       "    да\n",
       "нет  0\n",
       "да   1\n",
       "\n",
       "$ИВЛ1\n",
       "        [1,7) [7,14) [14,21) [21,30) [30,66]\n",
       "нет         0      0       0       0       0\n",
       "[1,7)       1      0       0       0       0\n",
       "[7,14)      0      1       0       0       0\n",
       "[14,21)     0      0       1       0       0\n",
       "[21,30)     0      0       0       1       0\n",
       "[30,66]     0      0       0       0       1\n",
       "\n",
       "$АСН7\n",
       "    да СС\n",
       "нет  0  0\n",
       "да   1  0\n",
       "СС   0  1\n",
       "\n",
       "$ВУИ.сепсис\n",
       "            ВУИ ВУИ, сепсис\n",
       "нет           0           0\n",
       "ВУИ           1           0\n",
       "ВУИ, сепсис   0           1\n",
       "\n",
       "$СЭИ\n",
       "    да\n",
       "нет  0\n",
       "да   1\n",
       "\n",
       "$ДН.степень\n",
       "    1 2 3\n",
       "нет 0 0 0\n",
       "1   1 0 0\n",
       "2   0 1 0\n",
       "3   0 0 1\n",
       "\n",
       "$ПВК.степень\n",
       "NULL\n",
       "\n",
       "$ЭФПН\n",
       "    нет\n",
       "да    0\n",
       "нет   1\n",
       "\n",
       "$БВ\n",
       "    СПП ПВЛ\n",
       "нет   0   0\n",
       "СПП   1   0\n",
       "ПВЛ   0   1\n",
       "\n",
       "$Абилитация\n",
       "          да после ПВЛ\n",
       "нет        0         0\n",
       "да         1         0\n",
       "после ПВЛ  0         1\n",
       "\n",
       "$Рефлексы\n",
       "              повышеные высокие угнетение ЦНС\n",
       "соответствуют         0       0             0\n",
       "повышеные             1       0             0\n",
       "высокие               0       1             0\n",
       "угнетение ЦНС         0       0             1\n",
       "\n",
       "$Нарушения\n",
       "    БНН\n",
       "НН    0\n",
       "БНН   1\n"
      ]
     },
     "metadata": {},
     "output_type": "display_data"
    }
   ],
   "source": [
    "sapply(train\n",
    "       , function(x) \n",
    "           if (is.factor(x)) {\n",
    "               contrasts(x) \n",
    "           } \n",
    "        )"
   ]
  },
  {
   "cell_type": "markdown",
   "id": "bceffe9e-105a-4d59-81a5-2a00ec5cbed0",
   "metadata": {
    "tags": []
   },
   "source": [
    "#### Проверка модели"
   ]
  },
  {
   "cell_type": "markdown",
   "id": "22633bcc-3406-4ef6-a93e-5419191a3938",
   "metadata": {
    "tags": []
   },
   "source": [
    "#### Метрики"
   ]
  },
  {
   "cell_type": "markdown",
   "id": "47910098-591e-44c1-8edb-2e220670d27f",
   "metadata": {
    "tags": []
   },
   "source": [
    "##### McFadden"
   ]
  },
  {
   "cell_type": "markdown",
   "id": "f97b2062-53a3-4f27-b35a-13b1c60401f5",
   "metadata": {},
   "source": [
    "McFadden (величина > 0.4 является высокой и означает, что модель хорошо описывает данные и имеет высокую предсказательную мощность)"
   ]
  },
  {
   "cell_type": "code",
   "execution_count": 36,
   "id": "e09680c7-71a7-492b-8985-c893a6475bce",
   "metadata": {
    "tags": []
   },
   "outputs": [
    {
     "name": "stdout",
     "output_type": "stream",
     "text": [
      "fitting null model for pseudo-r2\n"
     ]
    },
    {
     "data": {
      "text/html": [
       "<table class=\"dataframe\">\n",
       "<caption>A matrix: 1 × 6 of type dbl</caption>\n",
       "<thead>\n",
       "\t<tr><th></th><th scope=col>llh</th><th scope=col>llhNull</th><th scope=col>G2</th><th scope=col>McFadden</th><th scope=col>r2ML</th><th scope=col>r2CU</th></tr>\n",
       "</thead>\n",
       "<tbody>\n",
       "\t<tr><th scope=row>pR2(prem.model)</th><td>-5.992646e-09</td><td>-106.9344</td><td>213.8688</td><td>1</td><td>0.7200175</td><td>1</td></tr>\n",
       "</tbody>\n",
       "</table>\n"
      ],
      "text/latex": [
       "A matrix: 1 × 6 of type dbl\n",
       "\\begin{tabular}{r|llllll}\n",
       "  & llh & llhNull & G2 & McFadden & r2ML & r2CU\\\\\n",
       "\\hline\n",
       "\tpR2(prem.model) & -5.992646e-09 & -106.9344 & 213.8688 & 1 & 0.7200175 & 1\\\\\n",
       "\\end{tabular}\n"
      ],
      "text/markdown": [
       "\n",
       "A matrix: 1 × 6 of type dbl\n",
       "\n",
       "| <!--/--> | llh | llhNull | G2 | McFadden | r2ML | r2CU |\n",
       "|---|---|---|---|---|---|---|\n",
       "| pR2(prem.model) | -5.992646e-09 | -106.9344 | 213.8688 | 1 | 0.7200175 | 1 |\n",
       "\n"
      ],
      "text/plain": [
       "                llh           llhNull   G2       McFadden r2ML      r2CU\n",
       "pR2(prem.model) -5.992646e-09 -106.9344 213.8688 1        0.7200175 1   "
      ]
     },
     "metadata": {},
     "output_type": "display_data"
    }
   ],
   "source": [
    "t(as.data.frame(pR2(prem.model)))"
   ]
  },
  {
   "cell_type": "markdown",
   "id": "d9105d74-cb42-4b18-a113-19bed812b385",
   "metadata": {
    "tags": []
   },
   "source": [
    "##### ViF"
   ]
  },
  {
   "cell_type": "markdown",
   "id": "5243eff4-40bf-4051-b692-9a27f5f130b6",
   "metadata": {},
   "source": [
    "ViF (VIF > 5 как правило означает значительную мультиколинеарность, VIF > 10 указывает на сильную колинеарность предикторов)"
   ]
  },
  {
   "cell_type": "code",
   "execution_count": 37,
   "id": "d8f27299-9251-4fbd-826d-e4c5c98dbc21",
   "metadata": {
    "tags": []
   },
   "outputs": [
    {
     "data": {
      "text/html": [
       "<table class=\"dataframe\">\n",
       "<caption>A matrix: 12 × 3 of type dbl</caption>\n",
       "<thead>\n",
       "\t<tr><th></th><th scope=col>GVIF</th><th scope=col>Df</th><th scope=col>GVIF^(1/(2*Df))</th></tr>\n",
       "</thead>\n",
       "<tbody>\n",
       "\t<tr><th scope=row>Гестация</th><td>1830.820892</td><td>3</td><td>3.497634</td></tr>\n",
       "\t<tr><th scope=row>Асфиксия</th><td>  71.264364</td><td>1</td><td>8.441822</td></tr>\n",
       "\t<tr><th scope=row>ИВЛ1</th><td>3181.647752</td><td>5</td><td>2.240089</td></tr>\n",
       "\t<tr><th scope=row>АСН7</th><td>  80.649030</td><td>2</td><td>2.996745</td></tr>\n",
       "\t<tr><th scope=row>ВУИ.сепсис</th><td>  45.144139</td><td>2</td><td>2.592092</td></tr>\n",
       "\t<tr><th scope=row>СЭИ</th><td>   9.575216</td><td>1</td><td>3.094385</td></tr>\n",
       "\t<tr><th scope=row>ДН.степень</th><td>  96.651284</td><td>3</td><td>2.142239</td></tr>\n",
       "\t<tr><th scope=row>ПВК.степень</th><td> 118.539201</td><td>4</td><td>1.816489</td></tr>\n",
       "\t<tr><th scope=row>ЭФПН</th><td>  19.858504</td><td>1</td><td>4.456288</td></tr>\n",
       "\t<tr><th scope=row>БВ</th><td>1000.041244</td><td>2</td><td>5.623471</td></tr>\n",
       "\t<tr><th scope=row>Абилитация</th><td> 413.375178</td><td>2</td><td>4.509061</td></tr>\n",
       "\t<tr><th scope=row>Рефлексы</th><td> 452.994824</td><td>3</td><td>2.771291</td></tr>\n",
       "</tbody>\n",
       "</table>\n"
      ],
      "text/latex": [
       "A matrix: 12 × 3 of type dbl\n",
       "\\begin{tabular}{r|lll}\n",
       "  & GVIF & Df & GVIF\\textasciicircum{}(1/(2*Df))\\\\\n",
       "\\hline\n",
       "\tГестация & 1830.820892 & 3 & 3.497634\\\\\n",
       "\tАсфиксия &   71.264364 & 1 & 8.441822\\\\\n",
       "\tИВЛ1 & 3181.647752 & 5 & 2.240089\\\\\n",
       "\tАСН7 &   80.649030 & 2 & 2.996745\\\\\n",
       "\tВУИ.сепсис &   45.144139 & 2 & 2.592092\\\\\n",
       "\tСЭИ &    9.575216 & 1 & 3.094385\\\\\n",
       "\tДН.степень &   96.651284 & 3 & 2.142239\\\\\n",
       "\tПВК.степень &  118.539201 & 4 & 1.816489\\\\\n",
       "\tЭФПН &   19.858504 & 1 & 4.456288\\\\\n",
       "\tБВ & 1000.041244 & 2 & 5.623471\\\\\n",
       "\tАбилитация &  413.375178 & 2 & 4.509061\\\\\n",
       "\tРефлексы &  452.994824 & 3 & 2.771291\\\\\n",
       "\\end{tabular}\n"
      ],
      "text/markdown": [
       "\n",
       "A matrix: 12 × 3 of type dbl\n",
       "\n",
       "| <!--/--> | GVIF | Df | GVIF^(1/(2*Df)) |\n",
       "|---|---|---|---|\n",
       "| Гестация | 1830.820892 | 3 | 3.497634 |\n",
       "| Асфиксия |   71.264364 | 1 | 8.441822 |\n",
       "| ИВЛ1 | 3181.647752 | 5 | 2.240089 |\n",
       "| АСН7 |   80.649030 | 2 | 2.996745 |\n",
       "| ВУИ.сепсис |   45.144139 | 2 | 2.592092 |\n",
       "| СЭИ |    9.575216 | 1 | 3.094385 |\n",
       "| ДН.степень |   96.651284 | 3 | 2.142239 |\n",
       "| ПВК.степень |  118.539201 | 4 | 1.816489 |\n",
       "| ЭФПН |   19.858504 | 1 | 4.456288 |\n",
       "| БВ | 1000.041244 | 2 | 5.623471 |\n",
       "| Абилитация |  413.375178 | 2 | 4.509061 |\n",
       "| Рефлексы |  452.994824 | 3 | 2.771291 |\n",
       "\n"
      ],
      "text/plain": [
       "            GVIF        Df GVIF^(1/(2*Df))\n",
       "Гестация    1830.820892 3  3.497634       \n",
       "Асфиксия      71.264364 1  8.441822       \n",
       "ИВЛ1        3181.647752 5  2.240089       \n",
       "АСН7          80.649030 2  2.996745       \n",
       "ВУИ.сепсис    45.144139 2  2.592092       \n",
       "СЭИ            9.575216 1  3.094385       \n",
       "ДН.степень    96.651284 3  2.142239       \n",
       "ПВК.степень  118.539201 4  1.816489       \n",
       "ЭФПН          19.858504 1  4.456288       \n",
       "БВ          1000.041244 2  5.623471       \n",
       "Абилитация   413.375178 2  4.509061       \n",
       "Рефлексы     452.994824 3  2.771291       "
      ]
     },
     "metadata": {},
     "output_type": "display_data"
    }
   ],
   "source": [
    "vif(prem.model)"
   ]
  },
  {
   "cell_type": "markdown",
   "id": "929d13b5-d8bb-47df-a31a-0e86a5c9ad28",
   "metadata": {},
   "source": [
    "#### Остатки"
   ]
  },
  {
   "cell_type": "code",
   "execution_count": 38,
   "id": "792168a5-241d-490d-a07c-a29f99e9672b",
   "metadata": {
    "tags": []
   },
   "outputs": [],
   "source": [
    "res.deviance = residuals(prem.model, type = \"deviance\")\n",
    "res.pearson = residuals(prem.model, type = \"pearson\")\n",
    "\n",
    "std.res.deviance = res.deviance/sqrt(1 - hatvalues(prem.model)) # standardized deviance residuals\n",
    "std.res.pearson = res.pearson/sqrt(1 - hatvalues(prem.model)) # standardized pearson residuals"
   ]
  },
  {
   "cell_type": "code",
   "execution_count": 39,
   "id": "cf3d8b32-b62b-4600-b028-b507857e9f97",
   "metadata": {
    "tags": []
   },
   "outputs": [
    {
     "data": {
      "image/png": "[encoded data removed]",
      "text/plain": [
       "plot without title"
      ]
     },
     "metadata": {
      "image/png": {
       "height": 540,
       "width": 720
      }
     },
     "output_type": "display_data"
    },
    {
     "data": {
      "image/png": "[encoded data removed]",
      "text/plain": [
       "plot without title"
      ]
     },
     "metadata": {
      "image/png": {
       "height": 540,
       "width": 720
      }
     },
     "output_type": "display_data"
    }
   ],
   "source": [
    "plot(res.deviance[prem.model$model$Нарушения==\"НН\"], col = \"red\", ylim = c(-2, 2), ylab = \"std. deviance residuals\", xlab = \"ID\")\n",
    "points(res.pearson[prem.model$model$Нарушения==\"БНН\"], col = \"blue\")\n",
    "\n",
    "plot(std.res.deviance[prem.model$model$Нарушения==\"НН\"], col = \"red\", ylim = c(-2, 2), ylab = \"std. Pearson residuals\", xlab = \"ID\")\n",
    "points(std.res.pearson[prem.model$model$Нарушения==\"БНН\"], col = \"blue\")"
   ]
  },
  {
   "cell_type": "code",
   "execution_count": 40,
   "id": "4ce7011e-2364-4676-a833-8d3cd95cfa27",
   "metadata": {
    "tags": []
   },
   "outputs": [
    {
     "data": {
      "image/png": "[encoded data removed]",
      "text/plain": [
       "Plot with title \"\""
      ]
     },
     "metadata": {
      "image/png": {
       "height": 540,
       "width": 720
      }
     },
     "output_type": "display_data"
    }
   ],
   "source": [
    "plot(prem.model, which = 4, id.n = dim(train)[1])"
   ]
  },
  {
   "cell_type": "code",
   "execution_count": 41,
   "id": "39445811-be51-42b3-ae74-a2baa8bcf999",
   "metadata": {
    "tags": []
   },
   "outputs": [
    {
     "data": {
      "image/png": "[encoded data removed]",
      "text/plain": [
       "plot without title"
      ]
     },
     "metadata": {
      "image/png": {
       "height": 540,
       "width": 720
      }
     },
     "output_type": "display_data"
    }
   ],
   "source": [
    "model_data = augment(prem.model) %>% \n",
    "    mutate(index = 1:n())\n",
    "ggplot(model_data\n",
    "       , aes(index, .std.resid, color = train$Нарушения)\n",
    "      ) + \n",
    "    geom_point(alpha=0.5) \n",
    "# +\n",
    "#     geom_hline(yintercept=0.005, linetype=\"dashed\", color=\"blue\")  + \n",
    "#     geom_hline(yintercept=-0.005, linetype=\"dashed\", color=\"blue\") "
   ]
  },
  {
   "cell_type": "markdown",
   "id": "b9b23512-ed3c-406a-a390-90d36981dff2",
   "metadata": {},
   "source": [
    "#### Значимость переменных"
   ]
  },
  {
   "cell_type": "code",
   "execution_count": 42,
   "id": "2ca80efe-5bb8-4ac8-b715-e3815f944ac3",
   "metadata": {
    "tags": []
   },
   "outputs": [
    {
     "data": {
      "text/html": [
       "<table class=\"dataframe\">\n",
       "<caption>A data.frame: 29 × 1</caption>\n",
       "<thead>\n",
       "\t<tr><th></th><th scope=col>Overall</th></tr>\n",
       "\t<tr><th></th><th scope=col>&lt;dbl&gt;</th></tr>\n",
       "</thead>\n",
       "<tbody>\n",
       "\t<tr><th scope=row>Гестация(28; 31]</th><td>2.886854e-05</td></tr>\n",
       "\t<tr><th scope=row>Гестация(31; 33]</th><td>5.014476e-04</td></tr>\n",
       "\t<tr><th scope=row>Гестация(33; 36]</th><td>2.033982e-04</td></tr>\n",
       "\t<tr><th scope=row>Асфиксияда</th><td>1.320272e-04</td></tr>\n",
       "\t<tr><th scope=row>ИВЛ1[1,7)</th><td>1.132072e-03</td></tr>\n",
       "\t<tr><th scope=row>ИВЛ1[7,14)</th><td>1.168602e-04</td></tr>\n",
       "\t<tr><th scope=row>ИВЛ1[14,21)</th><td>2.576676e-04</td></tr>\n",
       "\t<tr><th scope=row>ИВЛ1[21,30)</th><td>5.166918e-05</td></tr>\n",
       "\t<tr><th scope=row>ИВЛ1[30,66]</th><td>5.166754e-04</td></tr>\n",
       "\t<tr><th scope=row>АСН7да</th><td>1.029903e-03</td></tr>\n",
       "\t<tr><th scope=row>АСН7СС</th><td>3.479358e-04</td></tr>\n",
       "\t<tr><th scope=row>ВУИ.сепсисВУИ</th><td>1.304128e-04</td></tr>\n",
       "\t<tr><th scope=row>ВУИ.сепсисВУИ, сепсис</th><td>2.833992e-05</td></tr>\n",
       "\t<tr><th scope=row>СЭИда</th><td>4.455636e-04</td></tr>\n",
       "\t<tr><th scope=row>ДН.степень1</th><td>6.810004e-04</td></tr>\n",
       "\t<tr><th scope=row>ДН.степень2</th><td>9.324223e-04</td></tr>\n",
       "\t<tr><th scope=row>ДН.степень3</th><td>4.861211e-04</td></tr>\n",
       "\t<tr><th scope=row>ПВК.степень1</th><td>2.586778e-04</td></tr>\n",
       "\t<tr><th scope=row>ПВК.степень2</th><td>2.666958e-04</td></tr>\n",
       "\t<tr><th scope=row>ПВК.степень3</th><td>5.441613e-05</td></tr>\n",
       "\t<tr><th scope=row>ПВК.степень4</th><td>1.973245e-04</td></tr>\n",
       "\t<tr><th scope=row>ЭФПНнет</th><td>3.848086e-05</td></tr>\n",
       "\t<tr><th scope=row>БВСПП</th><td>6.966374e-04</td></tr>\n",
       "\t<tr><th scope=row>БВПВЛ</th><td>9.820400e-04</td></tr>\n",
       "\t<tr><th scope=row>Абилитацияда</th><td>8.052289e-04</td></tr>\n",
       "\t<tr><th scope=row>Абилитацияпосле ПВЛ</th><td>8.979719e-05</td></tr>\n",
       "\t<tr><th scope=row>Рефлексыповышеные</th><td>2.030218e-04</td></tr>\n",
       "\t<tr><th scope=row>Рефлексывысокие</th><td>2.465190e-04</td></tr>\n",
       "\t<tr><th scope=row>Рефлексыугнетение ЦНС</th><td>2.596492e-05</td></tr>\n",
       "</tbody>\n",
       "</table>\n"
      ],
      "text/latex": [
       "A data.frame: 29 × 1\n",
       "\\begin{tabular}{r|l}\n",
       "  & Overall\\\\\n",
       "  & <dbl>\\\\\n",
       "\\hline\n",
       "\tГестация(28; 31{]} & 2.886854e-05\\\\\n",
       "\tГестация(31; 33{]} & 5.014476e-04\\\\\n",
       "\tГестация(33; 36{]} & 2.033982e-04\\\\\n",
       "\tАсфиксияда & 1.320272e-04\\\\\n",
       "\tИВЛ1{[}1,7) & 1.132072e-03\\\\\n",
       "\tИВЛ1{[}7,14) & 1.168602e-04\\\\\n",
       "\tИВЛ1{[}14,21) & 2.576676e-04\\\\\n",
       "\tИВЛ1{[}21,30) & 5.166918e-05\\\\\n",
       "\tИВЛ1{[}30,66{]} & 5.166754e-04\\\\\n",
       "\tАСН7да & 1.029903e-03\\\\\n",
       "\tАСН7СС & 3.479358e-04\\\\\n",
       "\tВУИ.сепсисВУИ & 1.304128e-04\\\\\n",
       "\tВУИ.сепсисВУИ, сепсис & 2.833992e-05\\\\\n",
       "\tСЭИда & 4.455636e-04\\\\\n",
       "\tДН.степень1 & 6.810004e-04\\\\\n",
       "\tДН.степень2 & 9.324223e-04\\\\\n",
       "\tДН.степень3 & 4.861211e-04\\\\\n",
       "\tПВК.степень1 & 2.586778e-04\\\\\n",
       "\tПВК.степень2 & 2.666958e-04\\\\\n",
       "\tПВК.степень3 & 5.441613e-05\\\\\n",
       "\tПВК.степень4 & 1.973245e-04\\\\\n",
       "\tЭФПНнет & 3.848086e-05\\\\\n",
       "\tБВСПП & 6.966374e-04\\\\\n",
       "\tБВПВЛ & 9.820400e-04\\\\\n",
       "\tАбилитацияда & 8.052289e-04\\\\\n",
       "\tАбилитацияпосле ПВЛ & 8.979719e-05\\\\\n",
       "\tРефлексыповышеные & 2.030218e-04\\\\\n",
       "\tРефлексывысокие & 2.465190e-04\\\\\n",
       "\tРефлексыугнетение ЦНС & 2.596492e-05\\\\\n",
       "\\end{tabular}\n"
      ],
      "text/markdown": [
       "\n",
       "A data.frame: 29 × 1\n",
       "\n",
       "| <!--/--> | Overall &lt;dbl&gt; |\n",
       "|---|---|\n",
       "| Гестация(28; 31] | 2.886854e-05 |\n",
       "| Гестация(31; 33] | 5.014476e-04 |\n",
       "| Гестация(33; 36] | 2.033982e-04 |\n",
       "| Асфиксияда | 1.320272e-04 |\n",
       "| ИВЛ1[1,7) | 1.132072e-03 |\n",
       "| ИВЛ1[7,14) | 1.168602e-04 |\n",
       "| ИВЛ1[14,21) | 2.576676e-04 |\n",
       "| ИВЛ1[21,30) | 5.166918e-05 |\n",
       "| ИВЛ1[30,66] | 5.166754e-04 |\n",
       "| АСН7да | 1.029903e-03 |\n",
       "| АСН7СС | 3.479358e-04 |\n",
       "| ВУИ.сепсисВУИ | 1.304128e-04 |\n",
       "| ВУИ.сепсисВУИ, сепсис | 2.833992e-05 |\n",
       "| СЭИда | 4.455636e-04 |\n",
       "| ДН.степень1 | 6.810004e-04 |\n",
       "| ДН.степень2 | 9.324223e-04 |\n",
       "| ДН.степень3 | 4.861211e-04 |\n",
       "| ПВК.степень1 | 2.586778e-04 |\n",
       "| ПВК.степень2 | 2.666958e-04 |\n",
       "| ПВК.степень3 | 5.441613e-05 |\n",
       "| ПВК.степень4 | 1.973245e-04 |\n",
       "| ЭФПНнет | 3.848086e-05 |\n",
       "| БВСПП | 6.966374e-04 |\n",
       "| БВПВЛ | 9.820400e-04 |\n",
       "| Абилитацияда | 8.052289e-04 |\n",
       "| Абилитацияпосле ПВЛ | 8.979719e-05 |\n",
       "| Рефлексыповышеные | 2.030218e-04 |\n",
       "| Рефлексывысокие | 2.465190e-04 |\n",
       "| Рефлексыугнетение ЦНС | 2.596492e-05 |\n",
       "\n"
      ],
      "text/plain": [
       "                      Overall     \n",
       "Гестация(28; 31]      2.886854e-05\n",
       "Гестация(31; 33]      5.014476e-04\n",
       "Гестация(33; 36]      2.033982e-04\n",
       "Асфиксияда            1.320272e-04\n",
       "ИВЛ1[1,7)             1.132072e-03\n",
       "ИВЛ1[7,14)            1.168602e-04\n",
       "ИВЛ1[14,21)           2.576676e-04\n",
       "ИВЛ1[21,30)           5.166918e-05\n",
       "ИВЛ1[30,66]           5.166754e-04\n",
       "АСН7да                1.029903e-03\n",
       "АСН7СС                3.479358e-04\n",
       "ВУИ.сепсисВУИ         1.304128e-04\n",
       "ВУИ.сепсисВУИ, сепсис 2.833992e-05\n",
       "СЭИда                 4.455636e-04\n",
       "ДН.степень1           6.810004e-04\n",
       "ДН.степень2           9.324223e-04\n",
       "ДН.степень3           4.861211e-04\n",
       "ПВК.степень1          2.586778e-04\n",
       "ПВК.степень2          2.666958e-04\n",
       "ПВК.степень3          5.441613e-05\n",
       "ПВК.степень4          1.973245e-04\n",
       "ЭФПНнет               3.848086e-05\n",
       "БВСПП                 6.966374e-04\n",
       "БВПВЛ                 9.820400e-04\n",
       "Абилитацияда          8.052289e-04\n",
       "Абилитацияпосле ПВЛ   8.979719e-05\n",
       "Рефлексыповышеные     2.030218e-04\n",
       "Рефлексывысокие       2.465190e-04\n",
       "Рефлексыугнетение ЦНС 2.596492e-05"
      ]
     },
     "metadata": {},
     "output_type": "display_data"
    }
   ],
   "source": [
    "varImp(prem.model)"
   ]
  },
  {
   "cell_type": "code",
   "execution_count": 43,
   "id": "2f88cbce-4eef-463a-b2f5-e85be9f363a7",
   "metadata": {
    "tags": []
   },
   "outputs": [
    {
     "data": {
      "image/png": "[encoded data removed]",
      "text/plain": [
       "Plot with title \"\""
      ]
     },
     "metadata": {
      "image/png": {
       "height": 540,
       "width": 720
      }
     },
     "output_type": "display_data"
    },
    {
     "data": {
      "image/png": "[encoded data removed]",
      "text/plain": [
       "Plot with title \"\""
      ]
     },
     "metadata": {
      "image/png": {
       "height": 540,
       "width": 720
      }
     },
     "output_type": "display_data"
    },
    {
     "name": "stderr",
     "output_type": "stream",
     "text": [
      "Warning message in sqrt(crit * p * (1 - hh)/hh):\n",
      "\"созданы NaN\"\n",
      "Warning message in sqrt(crit * p * (1 - hh)/hh):\n",
      "\"созданы NaN\"\n"
     ]
    },
    {
     "data": {
      "image/png": "[encoded data removed]",
      "text/plain": [
       "Plot with title \"\""
      ]
     },
     "metadata": {
      "image/png": {
       "height": 540,
       "width": 720
      }
     },
     "output_type": "display_data"
    },
    {
     "data": {
      "image/png": "[encoded data removed]",
      "text/plain": [
       "Plot with title \"\""
      ]
     },
     "metadata": {
      "image/png": {
       "height": 540,
       "width": 720
      }
     },
     "output_type": "display_data"
    }
   ],
   "source": [
    "plot(prem.model)"
   ]
  },
  {
   "cell_type": "markdown",
   "id": "16b4aef4-3671-41aa-bb99-4a9b6bf33f6b",
   "metadata": {
    "tags": []
   },
   "source": [
    "### Предсказанные значения\n",
    "Полученная модель (*prem.model*) была применена к тестовой выборке (20% от общего количества). "
   ]
  },
  {
   "cell_type": "code",
   "execution_count": 44,
   "id": "6ed43cb8-ed27-4b08-a82d-7364f21f3e6e",
   "metadata": {},
   "outputs": [],
   "source": [
    "model_predict = predict(prem.model, newdata=subset(test, select=c(1:12)), type=\"response\")\n",
    "test$prob = model_predict\n",
    "test$predict = ifelse(test$prob>=0.5, 1, 0)\n",
    "model_prediction = prediction(model_predict, as.integer(test$Нарушения) - 1)"
   ]
  },
  {
   "cell_type": "code",
   "execution_count": 45,
   "id": "3c957cd9-73fc-407a-8adb-a7bdd2f558f3",
   "metadata": {
    "tags": []
   },
   "outputs": [
    {
     "data": {
      "image/png": "[encoded data removed]",
      "text/plain": [
       "plot without title"
      ]
     },
     "metadata": {
      "image/png": {
       "height": 540,
       "width": 720
      }
     },
     "output_type": "display_data"
    }
   ],
   "source": [
    "roc_curve = performance(model_prediction, measure='tpr', x.measure='fpr')\n",
    "plot(roc_curve, colorize=TRUE, print.cutoffs.at=seq(0, 1, by=0.2), lwd=4)\n",
    "abline(0, 1)"
   ]
  },
  {
   "cell_type": "code",
   "execution_count": 46,
   "id": "a4c0c59f-c265-402a-a09c-515bebb3bd55",
   "metadata": {
    "tags": []
   },
   "outputs": [
    {
     "data": {
      "text/plain": [
       "A performance instance\n",
       "  'Area under the ROC curve'"
      ]
     },
     "metadata": {},
     "output_type": "display_data"
    },
    {
     "data": {
      "text/html": [
       "1"
      ],
      "text/latex": [
       "1"
      ],
      "text/markdown": [
       "1"
      ],
      "text/plain": [
       "[1] 1"
      ]
     },
     "metadata": {},
     "output_type": "display_data"
    },
    {
     "name": "stderr",
     "output_type": "stream",
     "text": [
      "Setting levels: control = НН, case = БНН\n",
      "\n",
      "Setting direction: controls < cases\n",
      "\n"
     ]
    },
    {
     "data": {
      "text/html": [
       "1"
      ],
      "text/latex": [
       "1"
      ],
      "text/markdown": [
       "1"
      ],
      "text/plain": [
       "Area under the curve: 1"
      ]
     },
     "metadata": {},
     "output_type": "display_data"
    }
   ],
   "source": [
    "auc = performance(model_prediction, measure='auc')\n",
    "auc\n",
    "auc@y.values[[1]]\n",
    "auc(roc(test$Нарушения, test$predict))"
   ]
  },
  {
   "cell_type": "code",
   "execution_count": 47,
   "id": "4b98749e-cd8e-44d2-8085-9a6670bfb9a5",
   "metadata": {
    "tags": []
   },
   "outputs": [
    {
     "data": {
      "text/html": [
       "<table class=\"dataframe\">\n",
       "<caption>A data.frame: 30 × 4</caption>\n",
       "<thead>\n",
       "\t<tr><th></th><th scope=col>coef(prem.model)</th><th scope=col>2.5 %</th><th scope=col>97.5 %</th><th scope=col>exp(coef(prem.model))</th></tr>\n",
       "\t<tr><th></th><th scope=col>&lt;dbl&gt;</th><th scope=col>&lt;dbl&gt;</th><th scope=col>&lt;dbl&gt;</th><th scope=col>&lt;dbl&gt;</th></tr>\n",
       "</thead>\n",
       "<tbody>\n",
       "\t<tr><th scope=row>(Intercept)</th><td>-150.078525</td><td> -595617.67</td><td> 595317.52</td><td> 6.633222e-66</td></tr>\n",
       "\t<tr><th scope=row>Гестация(28; 31]</th><td>   3.997207</td><td> -271377.31</td><td> 271385.30</td><td> 5.444588e+01</td></tr>\n",
       "\t<tr><th scope=row>Гестация(31; 33]</th><td>  44.842531</td><td> -175227.21</td><td> 175316.90</td><td> 2.984446e+19</td></tr>\n",
       "\t<tr><th scope=row>Гестация(33; 36]</th><td>  21.944209</td><td> -211434.45</td><td> 211478.34</td><td> 3.390383e+09</td></tr>\n",
       "\t<tr><th scope=row>Асфиксияда</th><td>  17.592531</td><td> -261146.29</td><td> 261181.47</td><td> 4.368570e+07</td></tr>\n",
       "\t<tr><th scope=row>ИВЛ1[1,7)</th><td> -43.201019</td><td>  -74837.42</td><td>  74751.01</td><td> 1.729959e-19</td></tr>\n",
       "\t<tr><th scope=row>ИВЛ1[7,14)</th><td> -19.476342</td><td> -326674.00</td><td> 326635.05</td><td> 3.479624e-09</td></tr>\n",
       "\t<tr><th scope=row>ИВЛ1[14,21)</th><td> -46.661442</td><td> -354979.69</td><td> 354886.37</td><td> 5.434919e-21</td></tr>\n",
       "\t<tr><th scope=row>ИВЛ1[21,30)</th><td> -31.982100</td><td>-1213207.20</td><td>1213143.24</td><td> 1.289290e-14</td></tr>\n",
       "\t<tr><th scope=row>ИВЛ1[30,66]</th><td> -87.485551</td><td> -331956.46</td><td> 331781.48</td><td> 1.012763e-38</td></tr>\n",
       "\t<tr><th scope=row>АСН7да</th><td>  62.105874</td><td> -118128.85</td><td> 118253.06</td><td> 9.380767e+26</td></tr>\n",
       "\t<tr><th scope=row>АСН7СС</th><td>  59.445037</td><td> -334801.53</td><td> 334920.42</td><td> 6.556191e+25</td></tr>\n",
       "\t<tr><th scope=row>ВУИ.сепсисВУИ</th><td> -17.394883</td><td> -261443.75</td><td> 261408.96</td><td> 2.789319e-08</td></tr>\n",
       "\t<tr><th scope=row>ВУИ.сепсисВУИ, сепсис</th><td>   4.117536</td><td> -284761.09</td><td> 284769.33</td><td> 6.140777e+01</td></tr>\n",
       "\t<tr><th scope=row>СЭИда</th><td> -21.960439</td><td>  -96622.46</td><td>  96578.54</td><td> 2.902035e-10</td></tr>\n",
       "\t<tr><th scope=row>ДН.степень1</th><td> 225.997301</td><td> -650209.14</td><td> 650661.13</td><td> 1.410525e+98</td></tr>\n",
       "\t<tr><th scope=row>ДН.степень2</th><td> 230.569673</td><td> -484429.95</td><td> 484891.09</td><td>1.365013e+100</td></tr>\n",
       "\t<tr><th scope=row>ДН.степень3</th><td> 244.198009</td><td> -984323.80</td><td> 984812.20</td><td>1.132003e+106</td></tr>\n",
       "\t<tr><th scope=row>ПВК.степень1</th><td>  20.569549</td><td> -155831.93</td><td> 155873.07</td><td> 8.575147e+08</td></tr>\n",
       "\t<tr><th scope=row>ПВК.степень2</th><td> -20.999740</td><td> -154349.37</td><td> 154307.37</td><td> 7.584531e-10</td></tr>\n",
       "\t<tr><th scope=row>ПВК.степень3</th><td> -15.921583</td><td> -573480.66</td><td> 573448.82</td><td> 1.217150e-07</td></tr>\n",
       "\t<tr><th scope=row>ПВК.степень4</th><td>  47.475283</td><td> -471509.91</td><td> 471604.86</td><td> 4.151964e+20</td></tr>\n",
       "\t<tr><th scope=row>ЭФПНнет</th><td>   2.718140</td><td> -138441.61</td><td> 138447.05</td><td> 1.515211e+01</td></tr>\n",
       "\t<tr><th scope=row>БВСПП</th><td>-187.317395</td><td> -527197.97</td><td> 526823.33</td><td> 4.457476e-82</td></tr>\n",
       "\t<tr><th scope=row>БВПВЛ</th><td>-169.076110</td><td> -337612.65</td><td> 337274.50</td><td> 3.725449e-74</td></tr>\n",
       "\t<tr><th scope=row>Абилитацияда</th><td> 114.056757</td><td> -277505.29</td><td> 277733.41</td><td> 3.421530e+49</td></tr>\n",
       "\t<tr><th scope=row>Абилитацияпосле ПВЛ</th><td>  55.651129</td><td>-1214617.21</td><td>1214728.51</td><td> 1.475633e+24</td></tr>\n",
       "\t<tr><th scope=row>Рефлексыповышеные</th><td>  38.602568</td><td> -372629.01</td><td> 372706.21</td><td> 5.819456e+16</td></tr>\n",
       "\t<tr><th scope=row>Рефлексывысокие</th><td> -48.038420</td><td> -381980.31</td><td> 381884.23</td><td> 1.371447e-21</td></tr>\n",
       "\t<tr><th scope=row>Рефлексыугнетение ЦНС</th><td>  -5.922737</td><td> -447084.20</td><td> 447072.36</td><td> 2.677861e-03</td></tr>\n",
       "</tbody>\n",
       "</table>\n"
      ],
      "text/latex": [
       "A data.frame: 30 × 4\n",
       "\\begin{tabular}{r|llll}\n",
       "  & coef(prem.model) & 2.5 \\% & 97.5 \\% & exp(coef(prem.model))\\\\\n",
       "  & <dbl> & <dbl> & <dbl> & <dbl>\\\\\n",
       "\\hline\n",
       "\t(Intercept) & -150.078525 &  -595617.67 &  595317.52 &  6.633222e-66\\\\\n",
       "\tГестация(28; 31{]} &    3.997207 &  -271377.31 &  271385.30 &  5.444588e+01\\\\\n",
       "\tГестация(31; 33{]} &   44.842531 &  -175227.21 &  175316.90 &  2.984446e+19\\\\\n",
       "\tГестация(33; 36{]} &   21.944209 &  -211434.45 &  211478.34 &  3.390383e+09\\\\\n",
       "\tАсфиксияда &   17.592531 &  -261146.29 &  261181.47 &  4.368570e+07\\\\\n",
       "\tИВЛ1{[}1,7) &  -43.201019 &   -74837.42 &   74751.01 &  1.729959e-19\\\\\n",
       "\tИВЛ1{[}7,14) &  -19.476342 &  -326674.00 &  326635.05 &  3.479624e-09\\\\\n",
       "\tИВЛ1{[}14,21) &  -46.661442 &  -354979.69 &  354886.37 &  5.434919e-21\\\\\n",
       "\tИВЛ1{[}21,30) &  -31.982100 & -1213207.20 & 1213143.24 &  1.289290e-14\\\\\n",
       "\tИВЛ1{[}30,66{]} &  -87.485551 &  -331956.46 &  331781.48 &  1.012763e-38\\\\\n",
       "\tАСН7да &   62.105874 &  -118128.85 &  118253.06 &  9.380767e+26\\\\\n",
       "\tАСН7СС &   59.445037 &  -334801.53 &  334920.42 &  6.556191e+25\\\\\n",
       "\tВУИ.сепсисВУИ &  -17.394883 &  -261443.75 &  261408.96 &  2.789319e-08\\\\\n",
       "\tВУИ.сепсисВУИ, сепсис &    4.117536 &  -284761.09 &  284769.33 &  6.140777e+01\\\\\n",
       "\tСЭИда &  -21.960439 &   -96622.46 &   96578.54 &  2.902035e-10\\\\\n",
       "\tДН.степень1 &  225.997301 &  -650209.14 &  650661.13 &  1.410525e+98\\\\\n",
       "\tДН.степень2 &  230.569673 &  -484429.95 &  484891.09 & 1.365013e+100\\\\\n",
       "\tДН.степень3 &  244.198009 &  -984323.80 &  984812.20 & 1.132003e+106\\\\\n",
       "\tПВК.степень1 &   20.569549 &  -155831.93 &  155873.07 &  8.575147e+08\\\\\n",
       "\tПВК.степень2 &  -20.999740 &  -154349.37 &  154307.37 &  7.584531e-10\\\\\n",
       "\tПВК.степень3 &  -15.921583 &  -573480.66 &  573448.82 &  1.217150e-07\\\\\n",
       "\tПВК.степень4 &   47.475283 &  -471509.91 &  471604.86 &  4.151964e+20\\\\\n",
       "\tЭФПНнет &    2.718140 &  -138441.61 &  138447.05 &  1.515211e+01\\\\\n",
       "\tБВСПП & -187.317395 &  -527197.97 &  526823.33 &  4.457476e-82\\\\\n",
       "\tБВПВЛ & -169.076110 &  -337612.65 &  337274.50 &  3.725449e-74\\\\\n",
       "\tАбилитацияда &  114.056757 &  -277505.29 &  277733.41 &  3.421530e+49\\\\\n",
       "\tАбилитацияпосле ПВЛ &   55.651129 & -1214617.21 & 1214728.51 &  1.475633e+24\\\\\n",
       "\tРефлексыповышеные &   38.602568 &  -372629.01 &  372706.21 &  5.819456e+16\\\\\n",
       "\tРефлексывысокие &  -48.038420 &  -381980.31 &  381884.23 &  1.371447e-21\\\\\n",
       "\tРефлексыугнетение ЦНС &   -5.922737 &  -447084.20 &  447072.36 &  2.677861e-03\\\\\n",
       "\\end{tabular}\n"
      ],
      "text/markdown": [
       "\n",
       "A data.frame: 30 × 4\n",
       "\n",
       "| <!--/--> | coef(prem.model) &lt;dbl&gt; | 2.5 % &lt;dbl&gt; | 97.5 % &lt;dbl&gt; | exp(coef(prem.model)) &lt;dbl&gt; |\n",
       "|---|---|---|---|---|\n",
       "| (Intercept) | -150.078525 |  -595617.67 |  595317.52 |  6.633222e-66 |\n",
       "| Гестация(28; 31] |    3.997207 |  -271377.31 |  271385.30 |  5.444588e+01 |\n",
       "| Гестация(31; 33] |   44.842531 |  -175227.21 |  175316.90 |  2.984446e+19 |\n",
       "| Гестация(33; 36] |   21.944209 |  -211434.45 |  211478.34 |  3.390383e+09 |\n",
       "| Асфиксияда |   17.592531 |  -261146.29 |  261181.47 |  4.368570e+07 |\n",
       "| ИВЛ1[1,7) |  -43.201019 |   -74837.42 |   74751.01 |  1.729959e-19 |\n",
       "| ИВЛ1[7,14) |  -19.476342 |  -326674.00 |  326635.05 |  3.479624e-09 |\n",
       "| ИВЛ1[14,21) |  -46.661442 |  -354979.69 |  354886.37 |  5.434919e-21 |\n",
       "| ИВЛ1[21,30) |  -31.982100 | -1213207.20 | 1213143.24 |  1.289290e-14 |\n",
       "| ИВЛ1[30,66] |  -87.485551 |  -331956.46 |  331781.48 |  1.012763e-38 |\n",
       "| АСН7да |   62.105874 |  -118128.85 |  118253.06 |  9.380767e+26 |\n",
       "| АСН7СС |   59.445037 |  -334801.53 |  334920.42 |  6.556191e+25 |\n",
       "| ВУИ.сепсисВУИ |  -17.394883 |  -261443.75 |  261408.96 |  2.789319e-08 |\n",
       "| ВУИ.сепсисВУИ, сепсис |    4.117536 |  -284761.09 |  284769.33 |  6.140777e+01 |\n",
       "| СЭИда |  -21.960439 |   -96622.46 |   96578.54 |  2.902035e-10 |\n",
       "| ДН.степень1 |  225.997301 |  -650209.14 |  650661.13 |  1.410525e+98 |\n",
       "| ДН.степень2 |  230.569673 |  -484429.95 |  484891.09 | 1.365013e+100 |\n",
       "| ДН.степень3 |  244.198009 |  -984323.80 |  984812.20 | 1.132003e+106 |\n",
       "| ПВК.степень1 |   20.569549 |  -155831.93 |  155873.07 |  8.575147e+08 |\n",
       "| ПВК.степень2 |  -20.999740 |  -154349.37 |  154307.37 |  7.584531e-10 |\n",
       "| ПВК.степень3 |  -15.921583 |  -573480.66 |  573448.82 |  1.217150e-07 |\n",
       "| ПВК.степень4 |   47.475283 |  -471509.91 |  471604.86 |  4.151964e+20 |\n",
       "| ЭФПНнет |    2.718140 |  -138441.61 |  138447.05 |  1.515211e+01 |\n",
       "| БВСПП | -187.317395 |  -527197.97 |  526823.33 |  4.457476e-82 |\n",
       "| БВПВЛ | -169.076110 |  -337612.65 |  337274.50 |  3.725449e-74 |\n",
       "| Абилитацияда |  114.056757 |  -277505.29 |  277733.41 |  3.421530e+49 |\n",
       "| Абилитацияпосле ПВЛ |   55.651129 | -1214617.21 | 1214728.51 |  1.475633e+24 |\n",
       "| Рефлексыповышеные |   38.602568 |  -372629.01 |  372706.21 |  5.819456e+16 |\n",
       "| Рефлексывысокие |  -48.038420 |  -381980.31 |  381884.23 |  1.371447e-21 |\n",
       "| Рефлексыугнетение ЦНС |   -5.922737 |  -447084.20 |  447072.36 |  2.677861e-03 |\n",
       "\n"
      ],
      "text/plain": [
       "                      coef(prem.model) 2.5 %       97.5 %    \n",
       "(Intercept)           -150.078525       -595617.67  595317.52\n",
       "Гестация(28; 31]         3.997207       -271377.31  271385.30\n",
       "Гестация(31; 33]        44.842531       -175227.21  175316.90\n",
       "Гестация(33; 36]        21.944209       -211434.45  211478.34\n",
       "Асфиксияда              17.592531       -261146.29  261181.47\n",
       "ИВЛ1[1,7)              -43.201019        -74837.42   74751.01\n",
       "ИВЛ1[7,14)             -19.476342       -326674.00  326635.05\n",
       "ИВЛ1[14,21)            -46.661442       -354979.69  354886.37\n",
       "ИВЛ1[21,30)            -31.982100      -1213207.20 1213143.24\n",
       "ИВЛ1[30,66]            -87.485551       -331956.46  331781.48\n",
       "АСН7да                  62.105874       -118128.85  118253.06\n",
       "АСН7СС                  59.445037       -334801.53  334920.42\n",
       "ВУИ.сепсисВУИ          -17.394883       -261443.75  261408.96\n",
       "ВУИ.сепсисВУИ, сепсис    4.117536       -284761.09  284769.33\n",
       "СЭИда                  -21.960439        -96622.46   96578.54\n",
       "ДН.степень1            225.997301       -650209.14  650661.13\n",
       "ДН.степень2            230.569673       -484429.95  484891.09\n",
       "ДН.степень3            244.198009       -984323.80  984812.20\n",
       "ПВК.степень1            20.569549       -155831.93  155873.07\n",
       "ПВК.степень2           -20.999740       -154349.37  154307.37\n",
       "ПВК.степень3           -15.921583       -573480.66  573448.82\n",
       "ПВК.степень4            47.475283       -471509.91  471604.86\n",
       "ЭФПНнет                  2.718140       -138441.61  138447.05\n",
       "БВСПП                 -187.317395       -527197.97  526823.33\n",
       "БВПВЛ                 -169.076110       -337612.65  337274.50\n",
       "Абилитацияда           114.056757       -277505.29  277733.41\n",
       "Абилитацияпосле ПВЛ     55.651129      -1214617.21 1214728.51\n",
       "Рефлексыповышеные       38.602568       -372629.01  372706.21\n",
       "Рефлексывысокие        -48.038420       -381980.31  381884.23\n",
       "Рефлексыугнетение ЦНС   -5.922737       -447084.20  447072.36\n",
       "                      exp(coef(prem.model))\n",
       "(Intercept)            6.633222e-66        \n",
       "Гестация(28; 31]       5.444588e+01        \n",
       "Гестация(31; 33]       2.984446e+19        \n",
       "Гестация(33; 36]       3.390383e+09        \n",
       "Асфиксияда             4.368570e+07        \n",
       "ИВЛ1[1,7)              1.729959e-19        \n",
       "ИВЛ1[7,14)             3.479624e-09        \n",
       "ИВЛ1[14,21)            5.434919e-21        \n",
       "ИВЛ1[21,30)            1.289290e-14        \n",
       "ИВЛ1[30,66]            1.012763e-38        \n",
       "АСН7да                 9.380767e+26        \n",
       "АСН7СС                 6.556191e+25        \n",
       "ВУИ.сепсисВУИ          2.789319e-08        \n",
       "ВУИ.сепсисВУИ, сепсис  6.140777e+01        \n",
       "СЭИда                  2.902035e-10        \n",
       "ДН.степень1            1.410525e+98        \n",
       "ДН.степень2           1.365013e+100        \n",
       "ДН.степень3           1.132003e+106        \n",
       "ПВК.степень1           8.575147e+08        \n",
       "ПВК.степень2           7.584531e-10        \n",
       "ПВК.степень3           1.217150e-07        \n",
       "ПВК.степень4           4.151964e+20        \n",
       "ЭФПНнет                1.515211e+01        \n",
       "БВСПП                  4.457476e-82        \n",
       "БВПВЛ                  3.725449e-74        \n",
       "Абилитацияда           3.421530e+49        \n",
       "Абилитацияпосле ПВЛ    1.475633e+24        \n",
       "Рефлексыповышеные      5.819456e+16        \n",
       "Рефлексывысокие        1.371447e-21        \n",
       "Рефлексыугнетение ЦНС  2.677861e-03        "
      ]
     },
     "metadata": {},
     "output_type": "display_data"
    }
   ],
   "source": [
    "# confint(prem.model)\n",
    "cbind(as.data.frame(coef(prem.model)), confint.default(prem.model), exp(coef(prem.model)))"
   ]
  },
  {
   "cell_type": "code",
   "execution_count": 48,
   "id": "3a94584d-e574-4516-810b-7816f23930fe",
   "metadata": {
    "tags": []
   },
   "outputs": [],
   "source": [
    "# wald.test(b = coef(prem.model), Sigma = vcov(prem.model), Terms = 2:4) # гестация\n",
    "# wald.test(b = coef(prem.model), Sigma = vcov(prem.model), Terms = 6:10) # ИВЛ\n",
    "# wald.test(b = coef(prem.model), Sigma = vcov(prem.model), Terms = 11:12) # АСН\n",
    "# wald.test(b = coef(prem.model), Sigma = vcov(prem.model), Terms = 13:14) # ВУИ.сепсис\n",
    "# wald.test(b = coef(prem.model), Sigma = vcov(prem.model), Terms = 16:18) # ДН.степень\n",
    "# wald.test(b = coef(prem.model), Sigma = vcov(prem.model), Terms = 20:21) # БВ\n",
    "# wald.test(b = coef(prem.model), Sigma = vcov(prem.model), Terms = 23:25) # Рефлексы"
   ]
  },
  {
   "cell_type": "code",
   "execution_count": 49,
   "id": "b08d3294-69a9-4df9-ac19-9755e9460642",
   "metadata": {
    "tags": []
   },
   "outputs": [
    {
     "data": {
      "text/plain": [
       "   \n",
       "    НН БНН\n",
       "  0 29   0\n",
       "  1  0  15"
      ]
     },
     "metadata": {},
     "output_type": "display_data"
    }
   ],
   "source": [
    "table(test$predict, test$Нарушения)"
   ]
  },
  {
   "cell_type": "markdown",
   "id": "446b049b-345d-442e-a2aa-1d24d316a435",
   "metadata": {},
   "source": [
    "#### График регрессии"
   ]
  },
  {
   "cell_type": "code",
   "execution_count": 50,
   "id": "5c041c5f-5023-4fc5-928b-a77597ea089b",
   "metadata": {
    "tags": []
   },
   "outputs": [
    {
     "name": "stderr",
     "output_type": "stream",
     "text": [
      "\u001b[1m\u001b[22m`geom_smooth()` using formula = 'y ~ x'\n",
      "Warning message in eval(family$initialize):\n",
      "\"не целочисленные #successes в binomial glm!\"\n",
      "Warning message:\n",
      "\"glm.fit: возникли подогнанные вероятности 0 или 1\"\n"
     ]
    },
    {
     "data": {
      "image/png": "[encoded data removed]",
      "text/plain": [
       "plot without title"
      ]
     },
     "metadata": {
      "image/png": {
       "height": 540,
       "width": 720
      }
     },
     "output_type": "display_data"
    }
   ],
   "source": [
    "test %>% \n",
    "    arrange(prob) %>% \n",
    "    mutate(rank=rank(prob), Event=ifelse(prob>=0.5, 'БНН', 'НН')) %>% \n",
    "        ggplot(aes(rank, prob))+\n",
    "        geom_point(aes(color=Event), size=3)+\n",
    "        geom_smooth(method = \"glm\"\n",
    "                    , method.args = list(family = \"binomial\")\n",
    "                   ) +\n",
    "        theme_bw()"
   ]
  },
  {
   "cell_type": "code",
   "execution_count": 51,
   "id": "69efc266-ab28-4947-97c6-b4260fbb8c06",
   "metadata": {
    "tags": []
   },
   "outputs": [],
   "source": [
    "# prem.test = data.frame(Гестация=rep(levels(prem$Гестация), nlevels(prem$Абилитация))\n",
    "#                        , Асфиксия=\"нет\"\n",
    "#                        , ИВЛ1=\"нет\"\n",
    "#                        , АСН7=\"нет\"\n",
    "#                        , ВУИ.сепсис=\"нет\"\n",
    "#                        , СЭИ=\"нет\"\n",
    "#                        , ДН.степень=\"нет\"\n",
    "#                        , ПВК.степень=0\n",
    "#                        , ЭФПН=\"нет\"\n",
    "#                        , БВ=\"нет\"\n",
    "#                        , Абилитация=rep(levels(prem$Абилитация), each=nlevels(prem$Гестация))\n",
    "#                        , Рефлексы=\"соответствуют\"\n",
    "#                        )\n",
    "# prem.test1 = cbind(prem.test, predict(prem.model, newdata=prem.test, type=\"link\", se=TRUE))\n",
    "# prem.test2 = within(prem.test1, {\n",
    "#                             PredictedProb <- plogis(fit)\n",
    "#                             LL <- plogis(fit - (1.96 * se.fit))\n",
    "#                             UL <- plogis(fit + (1.96 * se.fit))\n",
    "#                             }\n",
    "#                   )\n",
    "# prem.test2$Гестация = (factor(prem.test2$Гестация))\n",
    "# prem.test2$Абилитация = factor(prem.test2$Абилитация)\n",
    "# prem.test2\n",
    "# ggplot(prem.test2\n",
    "#        , aes(x = Гестация, y = PredictedProb)\n",
    "#       ) + \n",
    "#     geom_ribbon(aes(ymin = LL\n",
    "#                     , ymax = UL\n",
    "#                     , fill = rank\n",
    "#                    )\n",
    "#                 , alpha = 0.2\n",
    "#                ) + \n",
    "#     geom_line(aes(colour = rank), linewidth = 1)"
   ]
  },
  {
   "cell_type": "markdown",
   "id": "b75aa4bf-3cb2-4736-bd13-590f4d89be83",
   "metadata": {
    "tags": []
   },
   "source": [
    "#### Соответствие"
   ]
  },
  {
   "cell_type": "code",
   "execution_count": 52,
   "id": "ce2be4f7-c6b1-448c-92ee-280f7377c29b",
   "metadata": {
    "tags": []
   },
   "outputs": [],
   "source": [
    "actual = as.numeric(test$Нарушения) - 1\n",
    "#confusionMatrix(actual, model_predict)"
   ]
  },
  {
   "cell_type": "markdown",
   "id": "3d9ed4f8-cd44-4bfc-8703-91f8884c7527",
   "metadata": {},
   "source": [
    "#### Чувствительность, специфичность, ошибочная классификация"
   ]
  },
  {
   "cell_type": "code",
   "execution_count": 53,
   "id": "38babd3c-6108-4b40-aef6-248a6b017512",
   "metadata": {
    "tags": []
   },
   "outputs": [],
   "source": [
    "# actual = as.numeric(test$Нарушения) - 1\n",
    "# cat('Чувствительность: ', sensitivity(actual, model_predict), '\\n')\n",
    "# cat('Специфичность: ', specificity(actual, model_predict), '\\n')\n",
    "# missclassification = misClassError(actual, model_predict, '\\n') #, threshold=prem.optimal)\n",
    "# cat('Ошибки классификации: ', missclassification, '\\n')\n",
    "# cat('Точность: ',1-missclassification)\n",
    "# actual"
   ]
  },
  {
   "cell_type": "code",
   "execution_count": 54,
   "id": "25fe555d-44c5-46c7-8044-d7a5a53ec16e",
   "metadata": {
    "tags": []
   },
   "outputs": [],
   "source": [
    "# try(plotROC(as.numeric(test$Нарушения)-1, model_predict))"
   ]
  },
  {
   "cell_type": "markdown",
   "id": "6ab103a6-1aee-4e1a-a966-6111ee730dc2",
   "metadata": {},
   "source": [
    "## МЛ"
   ]
  },
  {
   "cell_type": "markdown",
   "id": "8d94995c-0e58-44da-9558-3151dbd0d39c",
   "metadata": {},
   "source": [
    "Нарушения - Абилитация "
   ]
  },
  {
   "cell_type": "code",
   "execution_count": 55,
   "id": "7ab0bf88-9915-407a-b97c-8bf9cd0298a2",
   "metadata": {},
   "outputs": [
    {
     "data": {
      "image/png": "[encoded data removed]",
      "text/plain": [
       "plot without title"
      ]
     },
     "metadata": {
      "image/png": {
       "height": 540,
       "width": 720
      }
     },
     "output_type": "display_data"
    }
   ],
   "source": [
    "ggplot(prem, aes(Абилитация, fill = Нарушения)) +\n",
    "    geom_bar() +\n",
    "    coord_flip()"
   ]
  },
  {
   "cell_type": "markdown",
   "id": "a0923a1e-aa0a-4dc9-acdc-2daeae5bd80d",
   "metadata": {},
   "source": [
    "### Получение обучающей и тестовой выборок\n",
    "Исходные данные делятся в соотношении 80% (обучающая выборка) к 20% (тестовая выборка)."
   ]
  },
  {
   "cell_type": "code",
   "execution_count": 56,
   "id": "95a2b08d-62dd-4b4b-a6d6-8098d1951129",
   "metadata": {},
   "outputs": [],
   "source": [
    "set.seed(421)\n",
    "split = initial_split(prem, prop = 0.8, strata = Нарушения)\n",
    "train = split %>% \n",
    "        training()\n",
    "test = split %>% \n",
    "        testing()"
   ]
  },
  {
   "cell_type": "markdown",
   "id": "f8f3a80c-05c6-410b-9324-cfc1031e95a9",
   "metadata": {},
   "source": [
    "### Тренировка модели логистической регрессии\n",
    "Используется glmnet для задачи классификации.\n",
    "- penalty -- степень регуляризации\n",
    "- mixture -- регуляризация эластичной сети: 1 -- Lasso модель, 2 -- ridge модель, (0; 1) -- модель эластичной сети "
   ]
  },
  {
   "cell_type": "code",
   "execution_count": 57,
   "id": "d7f79022-4635-4032-aecf-b4bc0547a388",
   "metadata": {},
   "outputs": [],
   "source": [
    "model = logistic_reg(mixture = double(1), penalty = double(1)) %>%\n",
    "  set_engine(\"glmnet\") %>%\n",
    "  set_mode(\"classification\") %>%\n",
    "  fit(Нарушения ~ ., data = train)"
   ]
  },
  {
   "cell_type": "markdown",
   "id": "191d277a-1c35-4068-84e7-f2221c2aa2ab",
   "metadata": {},
   "source": [
    "### Результаты модели\n",
    "Коэффициенты факторов"
   ]
  },
  {
   "cell_type": "code",
   "execution_count": 58,
   "id": "99158937-5a4c-47c7-83bb-ffe41a724617",
   "metadata": {},
   "outputs": [
    {
     "name": "stderr",
     "output_type": "stream",
     "text": [
      "Warning message:\n",
      "\"пакет 'glmnet' был собран под R версии 4.2.3\"\n",
      "Loaded glmnet 4.1-7\n",
      "\n"
     ]
    },
    {
     "data": {
      "text/html": [
       "<table class=\"dataframe\">\n",
       "<caption>A tibble: 30 × 3</caption>\n",
       "<thead>\n",
       "\t<tr><th scope=col>term</th><th scope=col>estimate</th><th scope=col>penalty</th></tr>\n",
       "\t<tr><th scope=col>&lt;chr&gt;</th><th scope=col>&lt;dbl&gt;</th><th scope=col>&lt;dbl&gt;</th></tr>\n",
       "</thead>\n",
       "<tbody>\n",
       "\t<tr><td>(Intercept)          </td><td>-0.883289110</td><td>0</td></tr>\n",
       "\t<tr><td>Гестация(28; 31]     </td><td> 0.229951154</td><td>0</td></tr>\n",
       "\t<tr><td>Гестация(31; 33]     </td><td>-0.204270171</td><td>0</td></tr>\n",
       "\t<tr><td>Гестация(33; 36]     </td><td> 0.553350054</td><td>0</td></tr>\n",
       "\t<tr><td>Асфиксияда           </td><td> 0.404650321</td><td>0</td></tr>\n",
       "\t<tr><td>ИВЛ1[1,7)            </td><td>-0.239441455</td><td>0</td></tr>\n",
       "\t<tr><td>ИВЛ1[7,14)           </td><td>-0.718628554</td><td>0</td></tr>\n",
       "\t<tr><td>ИВЛ1[14,21)          </td><td>-0.270816949</td><td>0</td></tr>\n",
       "\t<tr><td>ИВЛ1[21,30)          </td><td>-1.086792306</td><td>0</td></tr>\n",
       "\t<tr><td>ИВЛ1[30,66]          </td><td>-1.385766020</td><td>0</td></tr>\n",
       "\t<tr><td>АСН7да               </td><td> 0.144280511</td><td>0</td></tr>\n",
       "\t<tr><td>АСН7СС               </td><td>-0.902573771</td><td>0</td></tr>\n",
       "\t<tr><td>ВУИ.сепсисВУИ        </td><td>-0.168068385</td><td>0</td></tr>\n",
       "\t<tr><td>ВУИ.сепсисВУИ, сепсис</td><td>-0.239244064</td><td>0</td></tr>\n",
       "\t<tr><td>СЭИда                </td><td> 0.005251356</td><td>0</td></tr>\n",
       "\t<tr><td>ДН.степень1          </td><td>-0.121545135</td><td>0</td></tr>\n",
       "\t<tr><td>ДН.степень2          </td><td> 0.407720216</td><td>0</td></tr>\n",
       "\t<tr><td>ДН.степень3          </td><td>-0.560612227</td><td>0</td></tr>\n",
       "\t<tr><td>ПВК.степень1         </td><td> 0.127099161</td><td>0</td></tr>\n",
       "\t<tr><td>ПВК.степень2         </td><td>-0.689614690</td><td>0</td></tr>\n",
       "\t<tr><td>ПВК.степень3         </td><td>-0.415747615</td><td>0</td></tr>\n",
       "\t<tr><td>ПВК.степень4         </td><td>-0.322701602</td><td>0</td></tr>\n",
       "\t<tr><td>ЭФПНнет              </td><td> 0.454273442</td><td>0</td></tr>\n",
       "\t<tr><td>БВСПП                </td><td>-1.845042571</td><td>0</td></tr>\n",
       "\t<tr><td>БВПВЛ                </td><td>-1.586596099</td><td>0</td></tr>\n",
       "\t<tr><td>Абилитацияда         </td><td> 2.549396425</td><td>0</td></tr>\n",
       "\t<tr><td>Абилитацияпосле ПВЛ  </td><td>-0.355096939</td><td>0</td></tr>\n",
       "\t<tr><td>Рефлексыповышеные    </td><td> 0.822259918</td><td>0</td></tr>\n",
       "\t<tr><td>Рефлексывысокие      </td><td>-1.844171273</td><td>0</td></tr>\n",
       "\t<tr><td>Рефлексыугнетение ЦНС</td><td>-0.782391985</td><td>0</td></tr>\n",
       "</tbody>\n",
       "</table>\n"
      ],
      "text/latex": [
       "A tibble: 30 × 3\n",
       "\\begin{tabular}{lll}\n",
       " term & estimate & penalty\\\\\n",
       " <chr> & <dbl> & <dbl>\\\\\n",
       "\\hline\n",
       "\t (Intercept)           & -0.883289110 & 0\\\\\n",
       "\t Гестация(28; 31{]}      &  0.229951154 & 0\\\\\n",
       "\t Гестация(31; 33{]}      & -0.204270171 & 0\\\\\n",
       "\t Гестация(33; 36{]}      &  0.553350054 & 0\\\\\n",
       "\t Асфиксияда            &  0.404650321 & 0\\\\\n",
       "\t ИВЛ1{[}1,7)             & -0.239441455 & 0\\\\\n",
       "\t ИВЛ1{[}7,14)            & -0.718628554 & 0\\\\\n",
       "\t ИВЛ1{[}14,21)           & -0.270816949 & 0\\\\\n",
       "\t ИВЛ1{[}21,30)           & -1.086792306 & 0\\\\\n",
       "\t ИВЛ1{[}30,66{]}           & -1.385766020 & 0\\\\\n",
       "\t АСН7да                &  0.144280511 & 0\\\\\n",
       "\t АСН7СС                & -0.902573771 & 0\\\\\n",
       "\t ВУИ.сепсисВУИ         & -0.168068385 & 0\\\\\n",
       "\t ВУИ.сепсисВУИ, сепсис & -0.239244064 & 0\\\\\n",
       "\t СЭИда                 &  0.005251356 & 0\\\\\n",
       "\t ДН.степень1           & -0.121545135 & 0\\\\\n",
       "\t ДН.степень2           &  0.407720216 & 0\\\\\n",
       "\t ДН.степень3           & -0.560612227 & 0\\\\\n",
       "\t ПВК.степень1          &  0.127099161 & 0\\\\\n",
       "\t ПВК.степень2          & -0.689614690 & 0\\\\\n",
       "\t ПВК.степень3          & -0.415747615 & 0\\\\\n",
       "\t ПВК.степень4          & -0.322701602 & 0\\\\\n",
       "\t ЭФПНнет               &  0.454273442 & 0\\\\\n",
       "\t БВСПП                 & -1.845042571 & 0\\\\\n",
       "\t БВПВЛ                 & -1.586596099 & 0\\\\\n",
       "\t Абилитацияда          &  2.549396425 & 0\\\\\n",
       "\t Абилитацияпосле ПВЛ   & -0.355096939 & 0\\\\\n",
       "\t Рефлексыповышеные     &  0.822259918 & 0\\\\\n",
       "\t Рефлексывысокие       & -1.844171273 & 0\\\\\n",
       "\t Рефлексыугнетение ЦНС & -0.782391985 & 0\\\\\n",
       "\\end{tabular}\n"
      ],
      "text/markdown": [
       "\n",
       "A tibble: 30 × 3\n",
       "\n",
       "| term &lt;chr&gt; | estimate &lt;dbl&gt; | penalty &lt;dbl&gt; |\n",
       "|---|---|---|\n",
       "| (Intercept)           | -0.883289110 | 0 |\n",
       "| Гестация(28; 31]      |  0.229951154 | 0 |\n",
       "| Гестация(31; 33]      | -0.204270171 | 0 |\n",
       "| Гестация(33; 36]      |  0.553350054 | 0 |\n",
       "| Асфиксияда            |  0.404650321 | 0 |\n",
       "| ИВЛ1[1,7)             | -0.239441455 | 0 |\n",
       "| ИВЛ1[7,14)            | -0.718628554 | 0 |\n",
       "| ИВЛ1[14,21)           | -0.270816949 | 0 |\n",
       "| ИВЛ1[21,30)           | -1.086792306 | 0 |\n",
       "| ИВЛ1[30,66]           | -1.385766020 | 0 |\n",
       "| АСН7да                |  0.144280511 | 0 |\n",
       "| АСН7СС                | -0.902573771 | 0 |\n",
       "| ВУИ.сепсисВУИ         | -0.168068385 | 0 |\n",
       "| ВУИ.сепсисВУИ, сепсис | -0.239244064 | 0 |\n",
       "| СЭИда                 |  0.005251356 | 0 |\n",
       "| ДН.степень1           | -0.121545135 | 0 |\n",
       "| ДН.степень2           |  0.407720216 | 0 |\n",
       "| ДН.степень3           | -0.560612227 | 0 |\n",
       "| ПВК.степень1          |  0.127099161 | 0 |\n",
       "| ПВК.степень2          | -0.689614690 | 0 |\n",
       "| ПВК.степень3          | -0.415747615 | 0 |\n",
       "| ПВК.степень4          | -0.322701602 | 0 |\n",
       "| ЭФПНнет               |  0.454273442 | 0 |\n",
       "| БВСПП                 | -1.845042571 | 0 |\n",
       "| БВПВЛ                 | -1.586596099 | 0 |\n",
       "| Абилитацияда          |  2.549396425 | 0 |\n",
       "| Абилитацияпосле ПВЛ   | -0.355096939 | 0 |\n",
       "| Рефлексыповышеные     |  0.822259918 | 0 |\n",
       "| Рефлексывысокие       | -1.844171273 | 0 |\n",
       "| Рефлексыугнетение ЦНС | -0.782391985 | 0 |\n",
       "\n"
      ],
      "text/plain": [
       "   term                  estimate     penalty\n",
       "1  (Intercept)           -0.883289110 0      \n",
       "2  Гестация(28; 31]       0.229951154 0      \n",
       "3  Гестация(31; 33]      -0.204270171 0      \n",
       "4  Гестация(33; 36]       0.553350054 0      \n",
       "5  Асфиксияда             0.404650321 0      \n",
       "6  ИВЛ1[1,7)             -0.239441455 0      \n",
       "7  ИВЛ1[7,14)            -0.718628554 0      \n",
       "8  ИВЛ1[14,21)           -0.270816949 0      \n",
       "9  ИВЛ1[21,30)           -1.086792306 0      \n",
       "10 ИВЛ1[30,66]           -1.385766020 0      \n",
       "11 АСН7да                 0.144280511 0      \n",
       "12 АСН7СС                -0.902573771 0      \n",
       "13 ВУИ.сепсисВУИ         -0.168068385 0      \n",
       "14 ВУИ.сепсисВУИ, сепсис -0.239244064 0      \n",
       "15 СЭИда                  0.005251356 0      \n",
       "16 ДН.степень1           -0.121545135 0      \n",
       "17 ДН.степень2            0.407720216 0      \n",
       "18 ДН.степень3           -0.560612227 0      \n",
       "19 ПВК.степень1           0.127099161 0      \n",
       "20 ПВК.степень2          -0.689614690 0      \n",
       "21 ПВК.степень3          -0.415747615 0      \n",
       "22 ПВК.степень4          -0.322701602 0      \n",
       "23 ЭФПНнет                0.454273442 0      \n",
       "24 БВСПП                 -1.845042571 0      \n",
       "25 БВПВЛ                 -1.586596099 0      \n",
       "26 Абилитацияда           2.549396425 0      \n",
       "27 Абилитацияпосле ПВЛ   -0.355096939 0      \n",
       "28 Рефлексыповышеные      0.822259918 0      \n",
       "29 Рефлексывысокие       -1.844171273 0      \n",
       "30 Рефлексыугнетение ЦНС -0.782391985 0      "
      ]
     },
     "metadata": {},
     "output_type": "display_data"
    }
   ],
   "source": [
    "tidy(model)"
   ]
  },
  {
   "cell_type": "markdown",
   "id": "3e56b1ea-a6ef-4e4d-b6ac-08efa0dc0015",
   "metadata": {
    "tags": []
   },
   "source": [
    "Точность"
   ]
  },
  {
   "cell_type": "code",
   "execution_count": 59,
   "id": "be96b238-9a24-44e0-95a8-63bb0c3aaf54",
   "metadata": {},
   "outputs": [
    {
     "data": {
      "text/html": [
       "<table class=\"dataframe\">\n",
       "<caption>A tibble: 1 × 3</caption>\n",
       "<thead>\n",
       "\t<tr><th scope=col>.metric</th><th scope=col>.estimator</th><th scope=col>.estimate</th></tr>\n",
       "\t<tr><th scope=col>&lt;chr&gt;</th><th scope=col>&lt;chr&gt;</th><th scope=col>&lt;dbl&gt;</th></tr>\n",
       "</thead>\n",
       "<tbody>\n",
       "\t<tr><td>accuracy</td><td>binary</td><td>0.9318182</td></tr>\n",
       "</tbody>\n",
       "</table>\n"
      ],
      "text/latex": [
       "A tibble: 1 × 3\n",
       "\\begin{tabular}{lll}\n",
       " .metric & .estimator & .estimate\\\\\n",
       " <chr> & <chr> & <dbl>\\\\\n",
       "\\hline\n",
       "\t accuracy & binary & 0.9318182\\\\\n",
       "\\end{tabular}\n"
      ],
      "text/markdown": [
       "\n",
       "A tibble: 1 × 3\n",
       "\n",
       "| .metric &lt;chr&gt; | .estimator &lt;chr&gt; | .estimate &lt;dbl&gt; |\n",
       "|---|---|---|\n",
       "| accuracy | binary | 0.9318182 |\n",
       "\n"
      ],
      "text/plain": [
       "  .metric  .estimator .estimate\n",
       "1 accuracy binary     0.9318182"
      ]
     },
     "metadata": {},
     "output_type": "display_data"
    }
   ],
   "source": [
    "# Class Predictions\n",
    "pred_class = predict(model,\n",
    "                      new_data = test,\n",
    "                      type = \"class\")\n",
    "# Class Probabilities\n",
    "pred_proba = predict(model,\n",
    "                      new_data = test,\n",
    "                      type = \"prob\")\n",
    "\n",
    "results = test %>%\n",
    "           select(Нарушения) %>%\n",
    "           bind_cols(pred_class, pred_proba)\n",
    "accuracy(results, truth = Нарушения, estimate = .pred_class)"
   ]
  },
  {
   "cell_type": "markdown",
   "id": "31d1e333-7b24-4d0c-ae5b-134d69032658",
   "metadata": {},
   "source": [
    "### Оптимизация параметров"
   ]
  },
  {
   "cell_type": "code",
   "execution_count": 60,
   "id": "74d82850-16c4-448b-ab8e-2bab4d6178e5",
   "metadata": {
    "tags": []
   },
   "outputs": [],
   "source": [
    "# Define the logistic regression model with penalty and mixture hyperparameters\n",
    "log_reg = logistic_reg(mixture = tune(), penalty = tune(), engine = \"glmnet\")"
   ]
  },
  {
   "cell_type": "code",
   "execution_count": 61,
   "id": "9e79678e-afb3-4b42-9cfd-3d5b898558f3",
   "metadata": {},
   "outputs": [],
   "source": [
    "# Define the grid of possible values for mixture and penalty (hyperparameters) search\n",
    "grid = grid_regular(mixture(), penalty(), levels = c(mixture = 4, penalty = 3))"
   ]
  },
  {
   "cell_type": "code",
   "execution_count": 62,
   "id": "653989a7-e9dd-4261-ab12-726409e5571e",
   "metadata": {},
   "outputs": [],
   "source": [
    "# Define the workflow for the model (an object to store the model details)\n",
    "log_reg_wf = workflow() %>%\n",
    "  add_model(log_reg) %>%\n",
    "  add_formula(Нарушения ~ .)"
   ]
  },
  {
   "cell_type": "code",
   "execution_count": 63,
   "id": "eb3fede0-586c-449c-8c31-83a25ac8319b",
   "metadata": {},
   "outputs": [],
   "source": [
    "# Define the resampling method for the grid search\n",
    "folds = vfold_cv(train, v = 5)"
   ]
  },
  {
   "cell_type": "code",
   "execution_count": 64,
   "id": "8006bfd2-8ccd-42b6-bba2-a98eb12f8c54",
   "metadata": {},
   "outputs": [
    {
     "data": {
      "text/html": [
       "<table class=\"dataframe\">\n",
       "<caption>A tibble: 1 × 3</caption>\n",
       "<thead>\n",
       "\t<tr><th scope=col>penalty</th><th scope=col>mixture</th><th scope=col>.config</th></tr>\n",
       "\t<tr><th scope=col>&lt;dbl&gt;</th><th scope=col>&lt;dbl&gt;</th><th scope=col>&lt;chr&gt;</th></tr>\n",
       "</thead>\n",
       "<tbody>\n",
       "\t<tr><td>1e-10</td><td>0.6666667</td><td>Preprocessor1_Model07</td></tr>\n",
       "</tbody>\n",
       "</table>\n"
      ],
      "text/latex": [
       "A tibble: 1 × 3\n",
       "\\begin{tabular}{lll}\n",
       " penalty & mixture & .config\\\\\n",
       " <dbl> & <dbl> & <chr>\\\\\n",
       "\\hline\n",
       "\t 1e-10 & 0.6666667 & Preprocessor1\\_Model07\\\\\n",
       "\\end{tabular}\n"
      ],
      "text/markdown": [
       "\n",
       "A tibble: 1 × 3\n",
       "\n",
       "| penalty &lt;dbl&gt; | mixture &lt;dbl&gt; | .config &lt;chr&gt; |\n",
       "|---|---|---|\n",
       "| 1e-10 | 0.6666667 | Preprocessor1_Model07 |\n",
       "\n"
      ],
      "text/plain": [
       "  penalty mixture   .config              \n",
       "1 1e-10   0.6666667 Preprocessor1_Model07"
      ]
     },
     "metadata": {},
     "output_type": "display_data"
    }
   ],
   "source": [
    "# Tune the hyperparameters using the grid search\n",
    "log_reg_tuned = tune_grid(\n",
    "    log_reg_wf\n",
    "    , resamples = folds\n",
    "    , grid = grid\n",
    "    , control = control_grid(save_pred = TRUE)\n",
    ")\n",
    "\n",
    "tuned.model = select_best(log_reg_tuned, metric = \"roc_auc\")\n",
    "tuned.penalty = tuned.model$penalty\n",
    "tuned.mixture = tuned.model$mixture\n",
    "tuned.model"
   ]
  },
  {
   "cell_type": "markdown",
   "id": "5fd02079-dcb9-4aa5-975b-43339d875be4",
   "metadata": {},
   "source": [
    "### Моделирование на обучающей выборке"
   ]
  },
  {
   "cell_type": "code",
   "execution_count": 65,
   "id": "2f879065-4a70-47f4-a7b8-6bc118067923",
   "metadata": {},
   "outputs": [],
   "source": [
    "# Fit the model using the optimal hyperparameters\n",
    "log_reg_final = logistic_reg(penalty = tuned.penalty, mixture = tuned.mixture) %>%\n",
    "                 set_engine(\"glmnet\") %>%\n",
    "                 set_mode(\"classification\") %>%\n",
    "                 fit(Нарушения~., data = train)"
   ]
  },
  {
   "cell_type": "code",
   "execution_count": 66,
   "id": "c2eb8479-d814-4094-96b0-fb37d443bc5c",
   "metadata": {},
   "outputs": [
    {
     "data": {
      "text/html": [
       "<table class=\"dataframe\">\n",
       "<caption>A data.frame: 6 × 13</caption>\n",
       "<thead>\n",
       "\t<tr><th></th><th scope=col>Гестация</th><th scope=col>Асфиксия</th><th scope=col>ИВЛ1</th><th scope=col>АСН7</th><th scope=col>ВУИ.сепсис</th><th scope=col>СЭИ</th><th scope=col>ДН.степень</th><th scope=col>ПВК.степень</th><th scope=col>ЭФПН</th><th scope=col>БВ</th><th scope=col>Абилитация</th><th scope=col>Рефлексы</th><th scope=col>Нарушения</th></tr>\n",
       "\t<tr><th></th><th scope=col>&lt;fct&gt;</th><th scope=col>&lt;fct&gt;</th><th scope=col>&lt;fct&gt;</th><th scope=col>&lt;fct&gt;</th><th scope=col>&lt;fct&gt;</th><th scope=col>&lt;fct&gt;</th><th scope=col>&lt;fct&gt;</th><th scope=col>&lt;chr&gt;</th><th scope=col>&lt;fct&gt;</th><th scope=col>&lt;fct&gt;</th><th scope=col>&lt;fct&gt;</th><th scope=col>&lt;fct&gt;</th><th scope=col>&lt;fct&gt;</th></tr>\n",
       "</thead>\n",
       "<tbody>\n",
       "\t<tr><th scope=row>1</th><td>(31; 33]</td><td>нет</td><td>нет    </td><td>нет</td><td>ВУИ</td><td>нет</td><td>1</td><td>1</td><td>нет</td><td>СПП</td><td>нет</td><td>повышеные    </td><td>НН</td></tr>\n",
       "\t<tr><th scope=row>2</th><td>[22; 28]</td><td>нет</td><td>[30,66]</td><td>да </td><td>ВУИ</td><td>да </td><td>3</td><td>1</td><td>нет</td><td>СПП</td><td>нет</td><td>угнетение ЦНС</td><td>НН</td></tr>\n",
       "\t<tr><th scope=row>3</th><td>(33; 36]</td><td>да </td><td>нет    </td><td>да </td><td>ВУИ</td><td>нет</td><td>1</td><td>2</td><td>нет</td><td>СПП</td><td>нет</td><td>повышеные    </td><td>НН</td></tr>\n",
       "\t<tr><th scope=row>7</th><td>(31; 33]</td><td>нет</td><td>нет    </td><td>нет</td><td>ВУИ</td><td>нет</td><td>1</td><td>2</td><td>нет</td><td>СПП</td><td>нет</td><td>повышеные    </td><td>НН</td></tr>\n",
       "\t<tr><th scope=row>10</th><td>(33; 36]</td><td>да </td><td>[1,7)  </td><td>нет</td><td>ВУИ</td><td>да </td><td>1</td><td>2</td><td>нет</td><td>СПП</td><td>нет</td><td>повышеные    </td><td>НН</td></tr>\n",
       "\t<tr><th scope=row>11</th><td>(28; 31]</td><td>да </td><td>[1,7)  </td><td>да </td><td>ВУИ</td><td>нет</td><td>2</td><td>1</td><td>нет</td><td>СПП</td><td>нет</td><td>повышеные    </td><td>НН</td></tr>\n",
       "</tbody>\n",
       "</table>\n"
      ],
      "text/latex": [
       "A data.frame: 6 × 13\n",
       "\\begin{tabular}{r|lllllllllllll}\n",
       "  & Гестация & Асфиксия & ИВЛ1 & АСН7 & ВУИ.сепсис & СЭИ & ДН.степень & ПВК.степень & ЭФПН & БВ & Абилитация & Рефлексы & Нарушения\\\\\n",
       "  & <fct> & <fct> & <fct> & <fct> & <fct> & <fct> & <fct> & <chr> & <fct> & <fct> & <fct> & <fct> & <fct>\\\\\n",
       "\\hline\n",
       "\t1 & (31; 33{]} & нет & нет     & нет & ВУИ & нет & 1 & 1 & нет & СПП & нет & повышеные     & НН\\\\\n",
       "\t2 & {[}22; 28{]} & нет & {[}30,66{]} & да  & ВУИ & да  & 3 & 1 & нет & СПП & нет & угнетение ЦНС & НН\\\\\n",
       "\t3 & (33; 36{]} & да  & нет     & да  & ВУИ & нет & 1 & 2 & нет & СПП & нет & повышеные     & НН\\\\\n",
       "\t7 & (31; 33{]} & нет & нет     & нет & ВУИ & нет & 1 & 2 & нет & СПП & нет & повышеные     & НН\\\\\n",
       "\t10 & (33; 36{]} & да  & {[}1,7)   & нет & ВУИ & да  & 1 & 2 & нет & СПП & нет & повышеные     & НН\\\\\n",
       "\t11 & (28; 31{]} & да  & {[}1,7)   & да  & ВУИ & нет & 2 & 1 & нет & СПП & нет & повышеные     & НН\\\\\n",
       "\\end{tabular}\n"
      ],
      "text/markdown": [
       "\n",
       "A data.frame: 6 × 13\n",
       "\n",
       "| <!--/--> | Гестация &lt;fct&gt; | Асфиксия &lt;fct&gt; | ИВЛ1 &lt;fct&gt; | АСН7 &lt;fct&gt; | ВУИ.сепсис &lt;fct&gt; | СЭИ &lt;fct&gt; | ДН.степень &lt;fct&gt; | ПВК.степень &lt;chr&gt; | ЭФПН &lt;fct&gt; | БВ &lt;fct&gt; | Абилитация &lt;fct&gt; | Рефлексы &lt;fct&gt; | Нарушения &lt;fct&gt; |\n",
       "|---|---|---|---|---|---|---|---|---|---|---|---|---|---|\n",
       "| 1 | (31; 33] | нет | нет     | нет | ВУИ | нет | 1 | 1 | нет | СПП | нет | повышеные     | НН |\n",
       "| 2 | [22; 28] | нет | [30,66] | да  | ВУИ | да  | 3 | 1 | нет | СПП | нет | угнетение ЦНС | НН |\n",
       "| 3 | (33; 36] | да  | нет     | да  | ВУИ | нет | 1 | 2 | нет | СПП | нет | повышеные     | НН |\n",
       "| 7 | (31; 33] | нет | нет     | нет | ВУИ | нет | 1 | 2 | нет | СПП | нет | повышеные     | НН |\n",
       "| 10 | (33; 36] | да  | [1,7)   | нет | ВУИ | да  | 1 | 2 | нет | СПП | нет | повышеные     | НН |\n",
       "| 11 | (28; 31] | да  | [1,7)   | да  | ВУИ | нет | 2 | 1 | нет | СПП | нет | повышеные     | НН |\n",
       "\n"
      ],
      "text/plain": [
       "   Гестация Асфиксия ИВЛ1    АСН7 ВУИ.сепсис СЭИ ДН.степень ПВК.степень ЭФПН\n",
       "1  (31; 33] нет      нет     нет  ВУИ        нет 1          1           нет \n",
       "2  [22; 28] нет      [30,66] да   ВУИ        да  3          1           нет \n",
       "3  (33; 36] да       нет     да   ВУИ        нет 1          2           нет \n",
       "7  (31; 33] нет      нет     нет  ВУИ        нет 1          2           нет \n",
       "10 (33; 36] да       [1,7)   нет  ВУИ        да  1          2           нет \n",
       "11 (28; 31] да       [1,7)   да   ВУИ        нет 2          1           нет \n",
       "   БВ  Абилитация Рефлексы      Нарушения\n",
       "1  СПП нет        повышеные     НН       \n",
       "2  СПП нет        угнетение ЦНС НН       \n",
       "3  СПП нет        повышеные     НН       \n",
       "7  СПП нет        повышеные     НН       \n",
       "10 СПП нет        повышеные     НН       \n",
       "11 СПП нет        повышеные     НН       "
      ]
     },
     "metadata": {},
     "output_type": "display_data"
    },
    {
     "data": {
      "text/html": [
       "<table class=\"dataframe\">\n",
       "<caption>A data.frame: 6 × 4</caption>\n",
       "<thead>\n",
       "\t<tr><th></th><th scope=col>Нарушения</th><th scope=col>.pred_class</th><th scope=col>.pred_НН</th><th scope=col>.pred_БНН</th></tr>\n",
       "\t<tr><th></th><th scope=col>&lt;fct&gt;</th><th scope=col>&lt;fct&gt;</th><th scope=col>&lt;dbl&gt;</th><th scope=col>&lt;dbl&gt;</th></tr>\n",
       "</thead>\n",
       "<tbody>\n",
       "\t<tr><th scope=row>1</th><td>НН</td><td>НН</td><td>0.8603960</td><td>0.139604006</td></tr>\n",
       "\t<tr><th scope=row>2</th><td>НН</td><td>НН</td><td>0.9925663</td><td>0.007433731</td></tr>\n",
       "\t<tr><th scope=row>3</th><td>НН</td><td>НН</td><td>0.7906331</td><td>0.209366926</td></tr>\n",
       "\t<tr><th scope=row>4</th><td>НН</td><td>НН</td><td>0.9330990</td><td>0.066901043</td></tr>\n",
       "\t<tr><th scope=row>5</th><td>НН</td><td>НН</td><td>0.8464749</td><td>0.153525129</td></tr>\n",
       "\t<tr><th scope=row>6</th><td>НН</td><td>НН</td><td>0.6331157</td><td>0.366884265</td></tr>\n",
       "</tbody>\n",
       "</table>\n"
      ],
      "text/latex": [
       "A data.frame: 6 × 4\n",
       "\\begin{tabular}{r|llll}\n",
       "  & Нарушения & .pred\\_class & .pred\\_НН & .pred\\_БНН\\\\\n",
       "  & <fct> & <fct> & <dbl> & <dbl>\\\\\n",
       "\\hline\n",
       "\t1 & НН & НН & 0.8603960 & 0.139604006\\\\\n",
       "\t2 & НН & НН & 0.9925663 & 0.007433731\\\\\n",
       "\t3 & НН & НН & 0.7906331 & 0.209366926\\\\\n",
       "\t4 & НН & НН & 0.9330990 & 0.066901043\\\\\n",
       "\t5 & НН & НН & 0.8464749 & 0.153525129\\\\\n",
       "\t6 & НН & НН & 0.6331157 & 0.366884265\\\\\n",
       "\\end{tabular}\n"
      ],
      "text/markdown": [
       "\n",
       "A data.frame: 6 × 4\n",
       "\n",
       "| <!--/--> | Нарушения &lt;fct&gt; | .pred_class &lt;fct&gt; | .pred_НН &lt;dbl&gt; | .pred_БНН &lt;dbl&gt; |\n",
       "|---|---|---|---|---|\n",
       "| 1 | НН | НН | 0.8603960 | 0.139604006 |\n",
       "| 2 | НН | НН | 0.9925663 | 0.007433731 |\n",
       "| 3 | НН | НН | 0.7906331 | 0.209366926 |\n",
       "| 4 | НН | НН | 0.9330990 | 0.066901043 |\n",
       "| 5 | НН | НН | 0.8464749 | 0.153525129 |\n",
       "| 6 | НН | НН | 0.6331157 | 0.366884265 |\n",
       "\n"
      ],
      "text/plain": [
       "  Нарушения .pred_class .pred_НН  .pred_БНН  \n",
       "1 НН        НН          0.8603960 0.139604006\n",
       "2 НН        НН          0.9925663 0.007433731\n",
       "3 НН        НН          0.7906331 0.209366926\n",
       "4 НН        НН          0.9330990 0.066901043\n",
       "5 НН        НН          0.8464749 0.153525129\n",
       "6 НН        НН          0.6331157 0.366884265"
      ]
     },
     "metadata": {},
     "output_type": "display_data"
    }
   ],
   "source": [
    "# Evaluate the model performance on the testing set\n",
    "head(test)\n",
    "pred_class = predict(log_reg_final,\n",
    "                      new_data = test,\n",
    "                      type = \"class\")\n",
    "results = test %>%\n",
    "  select(Нарушения) %>%\n",
    "  bind_cols(pred_class, pred_proba)\n",
    "head(results)"
   ]
  },
  {
   "cell_type": "markdown",
   "id": "bf6c492e-bb58-40ec-9541-322ee2ebb80f",
   "metadata": {},
   "source": [
    "### Результаты моделирования"
   ]
  },
  {
   "cell_type": "markdown",
   "id": "3d414dc8-2906-499f-8869-fde483745a59",
   "metadata": {
    "tags": []
   },
   "source": [
    "* Accruracy -- количество правильно предсказанных (положительных и отрицательных) оценок по отношению к общему количеству\n",
    "* Precision (PV+, PV-) -- доля корректно предсказанных оценок указанного класса по отношению к общему количеству данного класса\n",
    "* Recall (чувстивительность, специфичность) -- доля корректно предсказанных оценок указанного класса по отношению к общему количеству данного класса\n",
    "* F-1 (F1) -- гармоническое среднее precision и recall\n",
    "\n",
    "|Метрика|Определение|Формула|Синоним|\n",
    "|-----|-----------|-------|--------|\n",
    "|порог|пороговое значение|-|-|\n",
    "|tn|Истинно отрицательное количество|-|-|\n",
    "|tp|Истинно положительное количество|-|-|\n",
    "|fn|Ложно отрицательное количество|-|-|\n",
    "|fp|Ложно положительное количество|-|-|\n",
    "|specificity|чувствительность|tn / (tn + fp)|tnr|\n",
    "|sensitivity|специфичность|tp / (tp + fn)|recall, tpr|\n",
    "|accuracy|точность|(tp + tn) / N|-|\n",
    "|npv|Отрицательное предсказанное значение|tn / (tn + fn)|PV-|\n",
    "|ppv|Положительное предсказанное значение|tp / (tp + fp)|precision, PV+|\n",
    "|precision|точность|tp / (tp + fp)|ppv|\n",
    "|recall|Recall|tp / (tp + fn)|sensitivity, tpr|\n",
    "|tpr|частота истинно положительных исходов|tp / (tp + fn)|sensitivity, recall|\n",
    "|fpr|частота ложно положительных исходов|fp / (tn + fp)|1-specificity|\n",
    "|tnr|частота истинно отрицательных исходов|tn / (tn + fp)|specificity|\n",
    "|fnr|частота ложно отрицательных исходов|fn / (tp + fn)|1-sensitivity|\n",
    "|fdr|False Discovery Rate|fp / (tp + fp)|1-ppv|\n",
    "|youden|индекс Youden|se + r * sp|-|"
   ]
  },
  {
   "cell_type": "code",
   "execution_count": 67,
   "id": "26e80324-33e0-4198-aae5-f0511573ba54",
   "metadata": {},
   "outputs": [
    {
     "data": {
      "text/plain": [
       "Confusion Matrix and Statistics\n",
       "\n",
       "      modeled\n",
       "actual  0  1\n",
       "     0 29  0\n",
       "     1  0 15\n",
       "                                     \n",
       "               Accuracy : 1          \n",
       "                 95% CI : (0.9196, 1)\n",
       "    No Information Rate : 0.6591     \n",
       "    P-Value [Acc > NIR] : 1.08e-08   \n",
       "                                     \n",
       "                  Kappa : 1          \n",
       "                                     \n",
       " Mcnemar's Test P-Value : NA         \n",
       "                                     \n",
       "            Sensitivity : 1.0000     \n",
       "            Specificity : 1.0000     \n",
       "         Pos Pred Value : 1.0000     \n",
       "         Neg Pred Value : 1.0000     \n",
       "             Prevalence : 0.6591     \n",
       "         Detection Rate : 0.6591     \n",
       "   Detection Prevalence : 0.6591     \n",
       "      Balanced Accuracy : 1.0000     \n",
       "                                     \n",
       "       'Positive' Class : 0          \n",
       "                                     "
      ]
     },
     "metadata": {},
     "output_type": "display_data"
    }
   ],
   "source": [
    "actual = as.numeric(results$Нарушения) - 1\n",
    "modeled = as.numeric(results$.pred_class) - 1\n",
    "caret::confusionMatrix(table(actual, modeled))"
   ]
  },
  {
   "cell_type": "markdown",
   "id": "24265550-0d86-4957-88c6-01b1a239fee6",
   "metadata": {
    "tags": []
   },
   "source": [
    "### Факторы, влияющие на исход"
   ]
  },
  {
   "cell_type": "code",
   "execution_count": 68,
   "id": "c3f1356f-49ac-4b65-b1a7-fbc117ab07ab",
   "metadata": {
    "tags": []
   },
   "outputs": [
    {
     "data": {
      "text/html": [
       "<table class=\"dataframe\">\n",
       "<caption>A tibble: 20 × 3</caption>\n",
       "<thead>\n",
       "\t<tr><th scope=col>term</th><th scope=col>estimate</th><th scope=col>penalty</th></tr>\n",
       "\t<tr><th scope=col>&lt;chr&gt;</th><th scope=col>&lt;dbl&gt;</th><th scope=col>&lt;dbl&gt;</th></tr>\n",
       "</thead>\n",
       "<tbody>\n",
       "\t<tr><td>БВСПП                </td><td>-25.035516</td><td>1e-10</td></tr>\n",
       "\t<tr><td>Абилитацияда         </td><td> 24.124127</td><td>1e-10</td></tr>\n",
       "\t<tr><td>БВПВЛ                </td><td>-23.054057</td><td>1e-10</td></tr>\n",
       "\t<tr><td>ИВЛ1[30,66]          </td><td>-11.355527</td><td>1e-10</td></tr>\n",
       "\t<tr><td>Рефлексывысокие      </td><td>-10.816847</td><td>1e-10</td></tr>\n",
       "\t<tr><td>ИВЛ1[14,21)          </td><td> -9.470269</td><td>1e-10</td></tr>\n",
       "\t<tr><td>АСН7да               </td><td>  7.024025</td><td>1e-10</td></tr>\n",
       "\t<tr><td>ИВЛ1[1,7)            </td><td> -6.630710</td><td>1e-10</td></tr>\n",
       "\t<tr><td>Гестация(31; 33]     </td><td>  6.270845</td><td>1e-10</td></tr>\n",
       "\t<tr><td>ЭФПНнет              </td><td>  4.652278</td><td>1e-10</td></tr>\n",
       "\t<tr><td>Рефлексыугнетение ЦНС</td><td> -4.489288</td><td>1e-10</td></tr>\n",
       "\t<tr><td>Рефлексыповышеные    </td><td>  4.402157</td><td>1e-10</td></tr>\n",
       "\t<tr><td>(Intercept)          </td><td>  4.263744</td><td>1e-10</td></tr>\n",
       "\t<tr><td>СЭИда                </td><td> -4.093617</td><td>1e-10</td></tr>\n",
       "\t<tr><td>ИВЛ1[7,14)           </td><td> -3.955540</td><td>1e-10</td></tr>\n",
       "\t<tr><td>ПВК.степень1         </td><td>  3.311408</td><td>1e-10</td></tr>\n",
       "\t<tr><td>ДН.степень2          </td><td>  2.904799</td><td>1e-10</td></tr>\n",
       "\t<tr><td>ПВК.степень2         </td><td> -2.511147</td><td>1e-10</td></tr>\n",
       "\t<tr><td>ДН.степень1          </td><td> -1.344057</td><td>1e-10</td></tr>\n",
       "\t<tr><td>Гестация(28; 31]     </td><td>  1.118264</td><td>1e-10</td></tr>\n",
       "</tbody>\n",
       "</table>\n"
      ],
      "text/latex": [
       "A tibble: 20 × 3\n",
       "\\begin{tabular}{lll}\n",
       " term & estimate & penalty\\\\\n",
       " <chr> & <dbl> & <dbl>\\\\\n",
       "\\hline\n",
       "\t БВСПП                 & -25.035516 & 1e-10\\\\\n",
       "\t Абилитацияда          &  24.124127 & 1e-10\\\\\n",
       "\t БВПВЛ                 & -23.054057 & 1e-10\\\\\n",
       "\t ИВЛ1{[}30,66{]}           & -11.355527 & 1e-10\\\\\n",
       "\t Рефлексывысокие       & -10.816847 & 1e-10\\\\\n",
       "\t ИВЛ1{[}14,21)           &  -9.470269 & 1e-10\\\\\n",
       "\t АСН7да                &   7.024025 & 1e-10\\\\\n",
       "\t ИВЛ1{[}1,7)             &  -6.630710 & 1e-10\\\\\n",
       "\t Гестация(31; 33{]}      &   6.270845 & 1e-10\\\\\n",
       "\t ЭФПНнет               &   4.652278 & 1e-10\\\\\n",
       "\t Рефлексыугнетение ЦНС &  -4.489288 & 1e-10\\\\\n",
       "\t Рефлексыповышеные     &   4.402157 & 1e-10\\\\\n",
       "\t (Intercept)           &   4.263744 & 1e-10\\\\\n",
       "\t СЭИда                 &  -4.093617 & 1e-10\\\\\n",
       "\t ИВЛ1{[}7,14)            &  -3.955540 & 1e-10\\\\\n",
       "\t ПВК.степень1          &   3.311408 & 1e-10\\\\\n",
       "\t ДН.степень2           &   2.904799 & 1e-10\\\\\n",
       "\t ПВК.степень2          &  -2.511147 & 1e-10\\\\\n",
       "\t ДН.степень1           &  -1.344057 & 1e-10\\\\\n",
       "\t Гестация(28; 31{]}      &   1.118264 & 1e-10\\\\\n",
       "\\end{tabular}\n"
      ],
      "text/markdown": [
       "\n",
       "A tibble: 20 × 3\n",
       "\n",
       "| term &lt;chr&gt; | estimate &lt;dbl&gt; | penalty &lt;dbl&gt; |\n",
       "|---|---|---|\n",
       "| БВСПП                 | -25.035516 | 1e-10 |\n",
       "| Абилитацияда          |  24.124127 | 1e-10 |\n",
       "| БВПВЛ                 | -23.054057 | 1e-10 |\n",
       "| ИВЛ1[30,66]           | -11.355527 | 1e-10 |\n",
       "| Рефлексывысокие       | -10.816847 | 1e-10 |\n",
       "| ИВЛ1[14,21)           |  -9.470269 | 1e-10 |\n",
       "| АСН7да                |   7.024025 | 1e-10 |\n",
       "| ИВЛ1[1,7)             |  -6.630710 | 1e-10 |\n",
       "| Гестация(31; 33]      |   6.270845 | 1e-10 |\n",
       "| ЭФПНнет               |   4.652278 | 1e-10 |\n",
       "| Рефлексыугнетение ЦНС |  -4.489288 | 1e-10 |\n",
       "| Рефлексыповышеные     |   4.402157 | 1e-10 |\n",
       "| (Intercept)           |   4.263744 | 1e-10 |\n",
       "| СЭИда                 |  -4.093617 | 1e-10 |\n",
       "| ИВЛ1[7,14)            |  -3.955540 | 1e-10 |\n",
       "| ПВК.степень1          |   3.311408 | 1e-10 |\n",
       "| ДН.степень2           |   2.904799 | 1e-10 |\n",
       "| ПВК.степень2          |  -2.511147 | 1e-10 |\n",
       "| ДН.степень1           |  -1.344057 | 1e-10 |\n",
       "| Гестация(28; 31]      |   1.118264 | 1e-10 |\n",
       "\n"
      ],
      "text/plain": [
       "   term                  estimate   penalty\n",
       "1  БВСПП                 -25.035516 1e-10  \n",
       "2  Абилитацияда           24.124127 1e-10  \n",
       "3  БВПВЛ                 -23.054057 1e-10  \n",
       "4  ИВЛ1[30,66]           -11.355527 1e-10  \n",
       "5  Рефлексывысокие       -10.816847 1e-10  \n",
       "6  ИВЛ1[14,21)            -9.470269 1e-10  \n",
       "7  АСН7да                  7.024025 1e-10  \n",
       "8  ИВЛ1[1,7)              -6.630710 1e-10  \n",
       "9  Гестация(31; 33]        6.270845 1e-10  \n",
       "10 ЭФПНнет                 4.652278 1e-10  \n",
       "11 Рефлексыугнетение ЦНС  -4.489288 1e-10  \n",
       "12 Рефлексыповышеные       4.402157 1e-10  \n",
       "13 (Intercept)             4.263744 1e-10  \n",
       "14 СЭИда                  -4.093617 1e-10  \n",
       "15 ИВЛ1[7,14)             -3.955540 1e-10  \n",
       "16 ПВК.степень1            3.311408 1e-10  \n",
       "17 ДН.степень2             2.904799 1e-10  \n",
       "18 ПВК.степень2           -2.511147 1e-10  \n",
       "19 ДН.степень1            -1.344057 1e-10  \n",
       "20 Гестация(28; 31]        1.118264 1e-10  "
      ]
     },
     "metadata": {},
     "output_type": "display_data"
    }
   ],
   "source": [
    "coeff = tidy(log_reg_final) %>% \n",
    "    arrange(desc(abs(estimate))) %>% \n",
    "    filter(abs(estimate) > 0.5)\n",
    "coeff"
   ]
  },
  {
   "cell_type": "code",
   "execution_count": 69,
   "id": "c71635f1-eab3-4492-8169-5bcd6b09f534",
   "metadata": {},
   "outputs": [
    {
     "data": {
      "image/png": "[encoded data removed]",
      "text/plain": [
       "plot without title"
      ]
     },
     "metadata": {
      "image/png": {
       "height": 540,
       "width": 720
      }
     },
     "output_type": "display_data"
    }
   ],
   "source": [
    "ggplot(coeff\n",
    "       , aes(x = term\n",
    "             , y = estimate\n",
    "             , fill = term\n",
    "            )\n",
    "      ) + \n",
    "geom_col() + \n",
    "coord_flip()"
   ]
  },
  {
   "cell_type": "code",
   "execution_count": 70,
   "id": "841be1b1-2119-42d9-9570-1c0b161bf612",
   "metadata": {},
   "outputs": [],
   "source": [
    "# Summarize model\n",
    "# summary(gam.model )"
   ]
  },
  {
   "cell_type": "code",
   "execution_count": 71,
   "id": "30057f3d-164c-4c15-ab1d-6c1c613c9ec9",
   "metadata": {},
   "outputs": [],
   "source": [
    "# # Make predictions\n",
    "# probabilities <- gam.model %>% predict(test.data, type = \"response\")\n",
    "# predicted.classes <- ifelse(probabilities> 0.5, \"pos\", \"neg\")\n",
    "# # Model Accuracy\n",
    "# mean(predicted.classes == test.data$diabetes)"
   ]
  },
  {
   "cell_type": "markdown",
   "id": "efc21d8a-cf43-4080-94ba-64f6d2f5ae12",
   "metadata": {},
   "source": [
    "# Карта случаев"
   ]
  },
  {
   "cell_type": "code",
   "execution_count": null,
   "id": "18b91f50-ea6c-49ac-9ebf-c7ebd6a10737",
   "metadata": {},
   "outputs": [],
   "source": [
    "library(leaflet)"
   ]
  },
  {
   "cell_type": "code",
   "execution_count": null,
   "id": "a3ca9c78-7e12-453c-920b-55e8858ca07d",
   "metadata": {},
   "outputs": [],
   "source": [
    "prem.map = prem0[!is.na(prem0$lat), ]"
   ]
  },
  {
   "cell_type": "code",
   "execution_count": null,
   "id": "ff47db94-611a-405b-89e8-170d125609d6",
   "metadata": {},
   "outputs": [],
   "source": [
    "m = leaflet() %>% \n",
    "    # addProviderTiles(\"OpenStreetMap\") %>%\n",
    "    setView(27.9534, 53.7098, zoom = 6) %>% \n",
    "    addTiles()\n",
    "cols = c(\"blue\", \"red\")\n",
    "m = addCircleMarkers(m\n",
    "                    , lng = prem.map$lng, lat = prem.map$lat\n",
    "                    , radius = as.integer(factor(prem.map$Гестация)) + 1\n",
    "                    , color = cols[as.integer(factor(prem.map$Пол))]\n",
    "                    , popup = paste('Нарушения 2:', prem.map$Нарушения.2, \" Гестация:\", prem.map$Гестация)\n",
    "                    )\n",
    "m = addLegend(m\n",
    "            , \"topright\"\n",
    "            , colors = cols\n",
    "            , labels = c('мальчики', 'девочки')\n",
    "            , title = \"Пол\"\n",
    "            , opacity = 0.3\n",
    "             )\n",
    "m"
   ]
  }
 ],
 "metadata": {
  "kernelspec": {
   "display_name": "R",
   "language": "R",
   "name": "ir"
  },
  "language_info": {
   "codemirror_mode": "r",
   "file_extension": ".r",
   "mimetype": "text/x-r-source",
   "name": "R",
   "pygments_lexer": "r",
   "version": "4.2.2"
  },
  "toc-autonumbering": true,
  "toc-showcode": false,
  "toc-showmarkdowntxt": false,
  "toc-showtags": false
 },
 "nbformat": 4,
 "nbformat_minor": 5
}
